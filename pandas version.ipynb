{
 "cells": [
  {
   "cell_type": "markdown",
   "id": "8c87b938",
   "metadata": {},
   "source": [
    "## Advanced SQL Puzzles"
   ]
  },
  {
   "cell_type": "code",
   "execution_count": null,
   "id": "38a3d529",
   "metadata": {},
   "outputs": [],
   "source": [
    "import pandas as pd"
   ]
  },
  {
   "cell_type": "markdown",
   "id": "fdfe32f2",
   "metadata": {},
   "source": [
    "### Puzzle 1"
   ]
  },
  {
   "cell_type": "code",
   "execution_count": null,
   "id": "170e2a1b",
   "metadata": {},
   "outputs": [],
   "source": [
    "d1 = {'item': ['Sugar', 'Bread', 'Juice', 'Soda', 'Flour']}\n",
    "df1 = pd.DataFrame(data=d1)"
   ]
  },
  {
   "cell_type": "code",
   "execution_count": null,
   "id": "1ffef5b4",
   "metadata": {},
   "outputs": [],
   "source": [
    "df1['Item Cart 1'] = df1['item']"
   ]
  },
  {
   "cell_type": "code",
   "execution_count": null,
   "id": "bfd537b3",
   "metadata": {},
   "outputs": [],
   "source": [
    "df1.set_index('item')"
   ]
  },
  {
   "cell_type": "code",
   "execution_count": null,
   "id": "04c7b6b8",
   "metadata": {},
   "outputs": [],
   "source": [
    "df1.head()"
   ]
  },
  {
   "cell_type": "code",
   "execution_count": null,
   "id": "639b8b60",
   "metadata": {},
   "outputs": [],
   "source": []
  },
  {
   "cell_type": "code",
   "execution_count": null,
   "id": "880a825f",
   "metadata": {},
   "outputs": [],
   "source": [
    "d2 = {'item': ['Sugar', 'Bread', 'Butter', 'Cheese', 'Fruit']}\n",
    "df2 = pd.DataFrame(data=d2)"
   ]
  },
  {
   "cell_type": "code",
   "execution_count": null,
   "id": "f0e43b65",
   "metadata": {},
   "outputs": [],
   "source": [
    "df2['Item Cart 2'] = df2['item']"
   ]
  },
  {
   "cell_type": "code",
   "execution_count": null,
   "id": "138c2afd",
   "metadata": {},
   "outputs": [],
   "source": [
    "df2.head()"
   ]
  },
  {
   "cell_type": "code",
   "execution_count": null,
   "id": "16bae02b",
   "metadata": {},
   "outputs": [],
   "source": [
    "df2.set_index('item')"
   ]
  },
  {
   "cell_type": "code",
   "execution_count": null,
   "id": "5a0fa711",
   "metadata": {},
   "outputs": [],
   "source": []
  },
  {
   "cell_type": "code",
   "execution_count": null,
   "id": "04655f17",
   "metadata": {},
   "outputs": [],
   "source": [
    "df3 = df1.merge(df2, how=\"outer\")[['Item Cart 1', 'Item Cart 2']]"
   ]
  },
  {
   "cell_type": "code",
   "execution_count": null,
   "id": "a819d062",
   "metadata": {},
   "outputs": [],
   "source": [
    "df3"
   ]
  },
  {
   "cell_type": "markdown",
   "id": "4de85196",
   "metadata": {},
   "source": [
    "### Puzzle 2"
   ]
  },
  {
   "cell_type": "code",
   "execution_count": 4,
   "id": "c07f2239",
   "metadata": {},
   "outputs": [],
   "source": [
    "import numpy as np\n",
    "import pandas as pd"
   ]
  },
  {
   "cell_type": "code",
   "execution_count": 85,
   "id": "9994b78a",
   "metadata": {},
   "outputs": [
    {
     "name": "stderr",
     "output_type": "stream",
     "text": [
      "C:\\Users\\the_r\\AppData\\Local\\Temp/ipykernel_5464/2033519502.py:4: FutureWarning: Could not cast to int16, falling back to object. This behavior is deprecated. In a future version, when a dtype is passed to 'DataFrame', either all columns will be cast to that dtype, or a TypeError will be raised\n",
      "  df = pd.DataFrame(data=d, dtype=np.int16)\n"
     ]
    }
   ],
   "source": [
    "d = {'Employee ID': [1001, 2002, 3003, 4004, 5005, 6006, 7007],\n",
    "     'Manager ID': [np.nan, 1001, 1001, 2002, 2002, 2002, 5005],\n",
    "     'Job Title': ['President', 'Director', 'Office Manager', 'Engineer', 'Engineer', 'Engineer', \"Intern\"]}\n",
    "df = pd.DataFrame(data=d, dtype=np.int16)"
   ]
  },
  {
   "cell_type": "code",
   "execution_count": 86,
   "id": "dc0e2a39",
   "metadata": {},
   "outputs": [
    {
     "data": {
      "text/html": [
       "<div>\n",
       "<style scoped>\n",
       "    .dataframe tbody tr th:only-of-type {\n",
       "        vertical-align: middle;\n",
       "    }\n",
       "\n",
       "    .dataframe tbody tr th {\n",
       "        vertical-align: top;\n",
       "    }\n",
       "\n",
       "    .dataframe thead th {\n",
       "        text-align: right;\n",
       "    }\n",
       "</style>\n",
       "<table border=\"1\" class=\"dataframe\">\n",
       "  <thead>\n",
       "    <tr style=\"text-align: right;\">\n",
       "      <th></th>\n",
       "      <th>Employee ID</th>\n",
       "      <th>Manager ID</th>\n",
       "      <th>Job Title</th>\n",
       "    </tr>\n",
       "  </thead>\n",
       "  <tbody>\n",
       "    <tr>\n",
       "      <th>0</th>\n",
       "      <td>1001</td>\n",
       "      <td>NaN</td>\n",
       "      <td>President</td>\n",
       "    </tr>\n",
       "    <tr>\n",
       "      <th>1</th>\n",
       "      <td>2002</td>\n",
       "      <td>1001</td>\n",
       "      <td>Director</td>\n",
       "    </tr>\n",
       "    <tr>\n",
       "      <th>2</th>\n",
       "      <td>3003</td>\n",
       "      <td>1001</td>\n",
       "      <td>Office Manager</td>\n",
       "    </tr>\n",
       "    <tr>\n",
       "      <th>3</th>\n",
       "      <td>4004</td>\n",
       "      <td>2002</td>\n",
       "      <td>Engineer</td>\n",
       "    </tr>\n",
       "    <tr>\n",
       "      <th>4</th>\n",
       "      <td>5005</td>\n",
       "      <td>2002</td>\n",
       "      <td>Engineer</td>\n",
       "    </tr>\n",
       "  </tbody>\n",
       "</table>\n",
       "</div>"
      ],
      "text/plain": [
       "   Employee ID Manager ID       Job Title\n",
       "0         1001        NaN       President\n",
       "1         2002       1001        Director\n",
       "2         3003       1001  Office Manager\n",
       "3         4004       2002        Engineer\n",
       "4         5005       2002        Engineer"
      ]
     },
     "execution_count": 86,
     "metadata": {},
     "output_type": "execute_result"
    }
   ],
   "source": [
    "df.head()"
   ]
  },
  {
   "cell_type": "code",
   "execution_count": 87,
   "id": "f0a1516e",
   "metadata": {},
   "outputs": [
    {
     "data": {
      "text/plain": [
       "nan"
      ]
     },
     "execution_count": 87,
     "metadata": {},
     "output_type": "execute_result"
    }
   ],
   "source": [
    "df[df[\"Employee ID\"] == 1001][\"Manager ID\"].values.any()"
   ]
  },
  {
   "cell_type": "code",
   "execution_count": 88,
   "id": "a16cede1",
   "metadata": {},
   "outputs": [
    {
     "data": {
      "text/plain": [
       "1001"
      ]
     },
     "execution_count": 88,
     "metadata": {},
     "output_type": "execute_result"
    }
   ],
   "source": [
    "df[df[\"Employee ID\"] == 2002][\"Manager ID\"].values.any()"
   ]
  },
  {
   "cell_type": "code",
   "execution_count": 110,
   "id": "d07fb6c3",
   "metadata": {},
   "outputs": [],
   "source": [
    "def checkDeep(EmployeeID, c):\n",
    "    if df[df[\"Employee ID\"] == EmployeeID][\"Manager ID\"].isnull().values.any():\n",
    "        return c\n",
    "    else:\n",
    "        c = checkDeep(df[df[\"Employee ID\"] == EmployeeID][\"Manager ID\"].values.any(), c+1)\n",
    "        return c"
   ]
  },
  {
   "cell_type": "code",
   "execution_count": 112,
   "id": "06c7a0cf",
   "metadata": {},
   "outputs": [],
   "source": [
    "df['Depth'] = df['Employee ID'].apply(lambda x: checkDeep(x, c=0))"
   ]
  },
  {
   "cell_type": "code",
   "execution_count": 114,
   "id": "c3285a7a",
   "metadata": {},
   "outputs": [
    {
     "data": {
      "text/html": [
       "<div>\n",
       "<style scoped>\n",
       "    .dataframe tbody tr th:only-of-type {\n",
       "        vertical-align: middle;\n",
       "    }\n",
       "\n",
       "    .dataframe tbody tr th {\n",
       "        vertical-align: top;\n",
       "    }\n",
       "\n",
       "    .dataframe thead th {\n",
       "        text-align: right;\n",
       "    }\n",
       "</style>\n",
       "<table border=\"1\" class=\"dataframe\">\n",
       "  <thead>\n",
       "    <tr style=\"text-align: right;\">\n",
       "      <th></th>\n",
       "      <th>Employee ID</th>\n",
       "      <th>Manager ID</th>\n",
       "      <th>Job Title</th>\n",
       "      <th>Depth</th>\n",
       "    </tr>\n",
       "  </thead>\n",
       "  <tbody>\n",
       "    <tr>\n",
       "      <th>0</th>\n",
       "      <td>1001</td>\n",
       "      <td>NaN</td>\n",
       "      <td>President</td>\n",
       "      <td>0</td>\n",
       "    </tr>\n",
       "    <tr>\n",
       "      <th>1</th>\n",
       "      <td>2002</td>\n",
       "      <td>1001</td>\n",
       "      <td>Director</td>\n",
       "      <td>1</td>\n",
       "    </tr>\n",
       "    <tr>\n",
       "      <th>2</th>\n",
       "      <td>3003</td>\n",
       "      <td>1001</td>\n",
       "      <td>Office Manager</td>\n",
       "      <td>1</td>\n",
       "    </tr>\n",
       "    <tr>\n",
       "      <th>3</th>\n",
       "      <td>4004</td>\n",
       "      <td>2002</td>\n",
       "      <td>Engineer</td>\n",
       "      <td>2</td>\n",
       "    </tr>\n",
       "    <tr>\n",
       "      <th>4</th>\n",
       "      <td>5005</td>\n",
       "      <td>2002</td>\n",
       "      <td>Engineer</td>\n",
       "      <td>2</td>\n",
       "    </tr>\n",
       "  </tbody>\n",
       "</table>\n",
       "</div>"
      ],
      "text/plain": [
       "   Employee ID Manager ID       Job Title  Depth\n",
       "0         1001        NaN       President      0\n",
       "1         2002       1001        Director      1\n",
       "2         3003       1001  Office Manager      1\n",
       "3         4004       2002        Engineer      2\n",
       "4         5005       2002        Engineer      2"
      ]
     },
     "execution_count": 114,
     "metadata": {},
     "output_type": "execute_result"
    }
   ],
   "source": [
    "df.head()"
   ]
  },
  {
   "cell_type": "code",
   "execution_count": null,
   "id": "5cd37b30",
   "metadata": {},
   "outputs": [],
   "source": []
  },
  {
   "cell_type": "markdown",
   "id": "ab5e912d",
   "metadata": {},
   "source": [
    "### Puzzle 3"
   ]
  },
  {
   "cell_type": "code",
   "execution_count": 116,
   "id": "019d0fd4",
   "metadata": {},
   "outputs": [
    {
     "name": "stderr",
     "output_type": "stream",
     "text": [
      "C:\\Users\\the_r\\AppData\\Local\\Temp/ipykernel_5464/1119302731.py:5: FutureWarning: Could not cast to int16, falling back to object. This behavior is deprecated. In a future version, when a dtype is passed to 'DataFrame', either all columns will be cast to that dtype, or a TypeError will be raised\n",
      "  df = pd.DataFrame(data=d, dtype=np.int16)\n"
     ]
    }
   ],
   "source": [
    "d = {'Customer ID': [1001, 1001, 1001, 1001, 2002, 3003, 3003, 4004],\n",
    "     'Order ID ': [1, 2, 3, 4, 5, 6, 7, 8],\n",
    "     'Delivery State': ['CA', 'TX', 'TX', 'TX', 'WA', 'CA', \"CA\", 'TX'],\n",
    "     'Amount': [\"$340\", '$950', '$670', '$860', '$320', '$650', '$830', '$120']}\n",
    "df = pd.DataFrame(data=d, dtype=np.int16)"
   ]
  },
  {
   "cell_type": "code",
   "execution_count": 117,
   "id": "b7ad2b57",
   "metadata": {},
   "outputs": [
    {
     "data": {
      "text/html": [
       "<div>\n",
       "<style scoped>\n",
       "    .dataframe tbody tr th:only-of-type {\n",
       "        vertical-align: middle;\n",
       "    }\n",
       "\n",
       "    .dataframe tbody tr th {\n",
       "        vertical-align: top;\n",
       "    }\n",
       "\n",
       "    .dataframe thead th {\n",
       "        text-align: right;\n",
       "    }\n",
       "</style>\n",
       "<table border=\"1\" class=\"dataframe\">\n",
       "  <thead>\n",
       "    <tr style=\"text-align: right;\">\n",
       "      <th></th>\n",
       "      <th>Customer ID</th>\n",
       "      <th>Order ID</th>\n",
       "      <th>Delivery State</th>\n",
       "      <th>Amount</th>\n",
       "    </tr>\n",
       "  </thead>\n",
       "  <tbody>\n",
       "    <tr>\n",
       "      <th>0</th>\n",
       "      <td>1001</td>\n",
       "      <td>1</td>\n",
       "      <td>CA</td>\n",
       "      <td>$340</td>\n",
       "    </tr>\n",
       "    <tr>\n",
       "      <th>1</th>\n",
       "      <td>1001</td>\n",
       "      <td>2</td>\n",
       "      <td>TX</td>\n",
       "      <td>$950</td>\n",
       "    </tr>\n",
       "    <tr>\n",
       "      <th>2</th>\n",
       "      <td>1001</td>\n",
       "      <td>3</td>\n",
       "      <td>TX</td>\n",
       "      <td>$670</td>\n",
       "    </tr>\n",
       "    <tr>\n",
       "      <th>3</th>\n",
       "      <td>1001</td>\n",
       "      <td>4</td>\n",
       "      <td>TX</td>\n",
       "      <td>$860</td>\n",
       "    </tr>\n",
       "    <tr>\n",
       "      <th>4</th>\n",
       "      <td>2002</td>\n",
       "      <td>5</td>\n",
       "      <td>WA</td>\n",
       "      <td>$320</td>\n",
       "    </tr>\n",
       "  </tbody>\n",
       "</table>\n",
       "</div>"
      ],
      "text/plain": [
       "   Customer ID  Order ID  Delivery State Amount\n",
       "0         1001          1             CA   $340\n",
       "1         1001          2             TX   $950\n",
       "2         1001          3             TX   $670\n",
       "3         1001          4             TX   $860\n",
       "4         2002          5             WA   $320"
      ]
     },
     "execution_count": 117,
     "metadata": {},
     "output_type": "execute_result"
    }
   ],
   "source": [
    "df.head()"
   ]
  },
  {
   "cell_type": "code",
   "execution_count": 122,
   "id": "e640f635",
   "metadata": {},
   "outputs": [
    {
     "data": {
      "text/html": [
       "<div>\n",
       "<style scoped>\n",
       "    .dataframe tbody tr th:only-of-type {\n",
       "        vertical-align: middle;\n",
       "    }\n",
       "\n",
       "    .dataframe tbody tr th {\n",
       "        vertical-align: top;\n",
       "    }\n",
       "\n",
       "    .dataframe thead th {\n",
       "        text-align: right;\n",
       "    }\n",
       "</style>\n",
       "<table border=\"1\" class=\"dataframe\">\n",
       "  <thead>\n",
       "    <tr style=\"text-align: right;\">\n",
       "      <th></th>\n",
       "      <th>Customer ID</th>\n",
       "      <th>Order ID</th>\n",
       "      <th>Delivery State</th>\n",
       "      <th>Amount</th>\n",
       "    </tr>\n",
       "  </thead>\n",
       "  <tbody>\n",
       "    <tr>\n",
       "      <th>1</th>\n",
       "      <td>1001</td>\n",
       "      <td>2</td>\n",
       "      <td>TX</td>\n",
       "      <td>$950</td>\n",
       "    </tr>\n",
       "    <tr>\n",
       "      <th>2</th>\n",
       "      <td>1001</td>\n",
       "      <td>3</td>\n",
       "      <td>TX</td>\n",
       "      <td>$670</td>\n",
       "    </tr>\n",
       "    <tr>\n",
       "      <th>3</th>\n",
       "      <td>1001</td>\n",
       "      <td>4</td>\n",
       "      <td>TX</td>\n",
       "      <td>$860</td>\n",
       "    </tr>\n",
       "  </tbody>\n",
       "</table>\n",
       "</div>"
      ],
      "text/plain": [
       "   Customer ID  Order ID  Delivery State Amount\n",
       "1         1001          2             TX   $950\n",
       "2         1001          3             TX   $670\n",
       "3         1001          4             TX   $860"
      ]
     },
     "execution_count": 122,
     "metadata": {},
     "output_type": "execute_result"
    }
   ],
   "source": [
    "df[df['Delivery State'] == 'TX'].head(len(df[df['Delivery State'] == 'CA']))"
   ]
  },
  {
   "cell_type": "markdown",
   "id": "c94dca40",
   "metadata": {},
   "source": [
    "### Puzzle 4"
   ]
  },
  {
   "cell_type": "code",
   "execution_count": 123,
   "id": "7269261e",
   "metadata": {},
   "outputs": [
    {
     "name": "stderr",
     "output_type": "stream",
     "text": [
      "C:\\Users\\the_r\\AppData\\Local\\Temp/ipykernel_5464/3001497981.py:4: FutureWarning: Could not cast to int16, falling back to object. This behavior is deprecated. In a future version, when a dtype is passed to 'DataFrame', either all columns will be cast to that dtype, or a TypeError will be raised\n",
      "  df = pd.DataFrame(data=d, dtype=np.int16)\n"
     ]
    }
   ],
   "source": [
    "d = {'Customer ID': [1001, 1001, 1001, 2002, 2002, 3003],\n",
    "     'Type': [\"Cellular\", \"Work\", \"Home\", \"Cellular\", \"Work\", \"Cellular\"],\n",
    "     'Phone Number': ['555-897-5421', '555-897-6542', '555-698-9874', '555-963-6544', '555-812-9856', '555-987-6541']}\n",
    "df = pd.DataFrame(data=d, dtype=np.int16)"
   ]
  },
  {
   "cell_type": "code",
   "execution_count": 124,
   "id": "588d05e6",
   "metadata": {},
   "outputs": [
    {
     "data": {
      "text/html": [
       "<div>\n",
       "<style scoped>\n",
       "    .dataframe tbody tr th:only-of-type {\n",
       "        vertical-align: middle;\n",
       "    }\n",
       "\n",
       "    .dataframe tbody tr th {\n",
       "        vertical-align: top;\n",
       "    }\n",
       "\n",
       "    .dataframe thead th {\n",
       "        text-align: right;\n",
       "    }\n",
       "</style>\n",
       "<table border=\"1\" class=\"dataframe\">\n",
       "  <thead>\n",
       "    <tr style=\"text-align: right;\">\n",
       "      <th></th>\n",
       "      <th>Customer ID</th>\n",
       "      <th>Type</th>\n",
       "      <th>Phone Number</th>\n",
       "    </tr>\n",
       "  </thead>\n",
       "  <tbody>\n",
       "    <tr>\n",
       "      <th>0</th>\n",
       "      <td>1001</td>\n",
       "      <td>Cellular</td>\n",
       "      <td>555-897-5421</td>\n",
       "    </tr>\n",
       "    <tr>\n",
       "      <th>1</th>\n",
       "      <td>1001</td>\n",
       "      <td>Work</td>\n",
       "      <td>555-897-6542</td>\n",
       "    </tr>\n",
       "    <tr>\n",
       "      <th>2</th>\n",
       "      <td>1001</td>\n",
       "      <td>Home</td>\n",
       "      <td>555-698-9874</td>\n",
       "    </tr>\n",
       "    <tr>\n",
       "      <th>3</th>\n",
       "      <td>2002</td>\n",
       "      <td>Cellular</td>\n",
       "      <td>555-963-6544</td>\n",
       "    </tr>\n",
       "    <tr>\n",
       "      <th>4</th>\n",
       "      <td>2002</td>\n",
       "      <td>Work</td>\n",
       "      <td>555-812-9856</td>\n",
       "    </tr>\n",
       "  </tbody>\n",
       "</table>\n",
       "</div>"
      ],
      "text/plain": [
       "   Customer ID      Type  Phone Number\n",
       "0         1001  Cellular  555-897-5421\n",
       "1         1001      Work  555-897-6542\n",
       "2         1001      Home  555-698-9874\n",
       "3         2002  Cellular  555-963-6544\n",
       "4         2002      Work  555-812-9856"
      ]
     },
     "execution_count": 124,
     "metadata": {},
     "output_type": "execute_result"
    }
   ],
   "source": [
    "df.head()"
   ]
  },
  {
   "cell_type": "code",
   "execution_count": 126,
   "id": "f8d70f43",
   "metadata": {},
   "outputs": [
    {
     "data": {
      "text/html": [
       "<div>\n",
       "<style scoped>\n",
       "    .dataframe tbody tr th:only-of-type {\n",
       "        vertical-align: middle;\n",
       "    }\n",
       "\n",
       "    .dataframe tbody tr th {\n",
       "        vertical-align: top;\n",
       "    }\n",
       "\n",
       "    .dataframe thead th {\n",
       "        text-align: right;\n",
       "    }\n",
       "</style>\n",
       "<table border=\"1\" class=\"dataframe\">\n",
       "  <thead>\n",
       "    <tr style=\"text-align: right;\">\n",
       "      <th>Type</th>\n",
       "      <th>Cellular</th>\n",
       "      <th>Home</th>\n",
       "      <th>Work</th>\n",
       "    </tr>\n",
       "    <tr>\n",
       "      <th>Customer ID</th>\n",
       "      <th></th>\n",
       "      <th></th>\n",
       "      <th></th>\n",
       "    </tr>\n",
       "  </thead>\n",
       "  <tbody>\n",
       "    <tr>\n",
       "      <th>1001</th>\n",
       "      <td>555-897-5421</td>\n",
       "      <td>555-698-9874</td>\n",
       "      <td>555-897-6542</td>\n",
       "    </tr>\n",
       "    <tr>\n",
       "      <th>2002</th>\n",
       "      <td>555-963-6544</td>\n",
       "      <td>NaN</td>\n",
       "      <td>555-812-9856</td>\n",
       "    </tr>\n",
       "    <tr>\n",
       "      <th>3003</th>\n",
       "      <td>555-987-6541</td>\n",
       "      <td>NaN</td>\n",
       "      <td>NaN</td>\n",
       "    </tr>\n",
       "  </tbody>\n",
       "</table>\n",
       "</div>"
      ],
      "text/plain": [
       "Type             Cellular          Home          Work\n",
       "Customer ID                                          \n",
       "1001         555-897-5421  555-698-9874  555-897-6542\n",
       "2002         555-963-6544           NaN  555-812-9856\n",
       "3003         555-987-6541           NaN           NaN"
      ]
     },
     "execution_count": 126,
     "metadata": {},
     "output_type": "execute_result"
    }
   ],
   "source": [
    "df.pivot(index='Customer ID', columns='Type', values='Phone Number')"
   ]
  },
  {
   "cell_type": "markdown",
   "id": "93016287",
   "metadata": {},
   "source": [
    "### Puzzle 7"
   ]
  },
  {
   "cell_type": "code",
   "execution_count": 127,
   "id": "397ec328",
   "metadata": {},
   "outputs": [
    {
     "name": "stderr",
     "output_type": "stream",
     "text": [
      "C:\\Users\\the_r\\AppData\\Local\\Temp/ipykernel_5464/1876144463.py:3: FutureWarning: Could not cast to int16, falling back to object. This behavior is deprecated. In a future version, when a dtype is passed to 'DataFrame', either all columns will be cast to that dtype, or a TypeError will be raised\n",
      "  df = pd.DataFrame(data=d, dtype=np.int16)\n"
     ]
    }
   ],
   "source": [
    "d = {'Customer ID': [1001, 1001, 1001, 1001, 2002, 2002, 2002, 3003, 3003, 4004],\n",
    "     'Type': [\"Geologist\", \"Astrogator\", \"Biochemist\", \"Technician\", \"Surgeon\", \"Machinist\", \"Geologist\", \"Geologist\", \"Astrogator\", \"Selenologist\"]}\n",
    "df = pd.DataFrame(data=d, dtype=np.int16)"
   ]
  },
  {
   "cell_type": "code",
   "execution_count": 130,
   "id": "c5b60e92",
   "metadata": {},
   "outputs": [
    {
     "name": "stderr",
     "output_type": "stream",
     "text": [
      "C:\\Users\\the_r\\AppData\\Local\\Temp/ipykernel_5464/3707353610.py:2: FutureWarning: Could not cast to int16, falling back to object. This behavior is deprecated. In a future version, when a dtype is passed to 'DataFrame', either all columns will be cast to that dtype, or a TypeError will be raised\n",
      "  requrements = pd.DataFrame(data=d, dtype=np.int16)\n"
     ]
    }
   ],
   "source": [
    "d = {'Description': [\"Geologist\", \"Astrogator\", \"Technician\"]}\n",
    "requrements = pd.DataFrame(data=d, dtype=np.int16)"
   ]
  },
  {
   "cell_type": "code",
   "execution_count": 129,
   "id": "0173cdc9",
   "metadata": {},
   "outputs": [
    {
     "data": {
      "text/html": [
       "<div>\n",
       "<style scoped>\n",
       "    .dataframe tbody tr th:only-of-type {\n",
       "        vertical-align: middle;\n",
       "    }\n",
       "\n",
       "    .dataframe tbody tr th {\n",
       "        vertical-align: top;\n",
       "    }\n",
       "\n",
       "    .dataframe thead th {\n",
       "        text-align: right;\n",
       "    }\n",
       "</style>\n",
       "<table border=\"1\" class=\"dataframe\">\n",
       "  <thead>\n",
       "    <tr style=\"text-align: right;\">\n",
       "      <th></th>\n",
       "      <th>Customer ID</th>\n",
       "      <th>Type</th>\n",
       "    </tr>\n",
       "  </thead>\n",
       "  <tbody>\n",
       "    <tr>\n",
       "      <th>0</th>\n",
       "      <td>1001</td>\n",
       "      <td>Geologist</td>\n",
       "    </tr>\n",
       "    <tr>\n",
       "      <th>1</th>\n",
       "      <td>1001</td>\n",
       "      <td>Astrogator</td>\n",
       "    </tr>\n",
       "    <tr>\n",
       "      <th>2</th>\n",
       "      <td>1001</td>\n",
       "      <td>Biochemist</td>\n",
       "    </tr>\n",
       "    <tr>\n",
       "      <th>3</th>\n",
       "      <td>1001</td>\n",
       "      <td>Technician</td>\n",
       "    </tr>\n",
       "    <tr>\n",
       "      <th>4</th>\n",
       "      <td>2002</td>\n",
       "      <td>Surgeon</td>\n",
       "    </tr>\n",
       "    <tr>\n",
       "      <th>5</th>\n",
       "      <td>2002</td>\n",
       "      <td>Machinist</td>\n",
       "    </tr>\n",
       "    <tr>\n",
       "      <th>6</th>\n",
       "      <td>2002</td>\n",
       "      <td>Geologist</td>\n",
       "    </tr>\n",
       "    <tr>\n",
       "      <th>7</th>\n",
       "      <td>3003</td>\n",
       "      <td>Geologist</td>\n",
       "    </tr>\n",
       "    <tr>\n",
       "      <th>8</th>\n",
       "      <td>3003</td>\n",
       "      <td>Astrogator</td>\n",
       "    </tr>\n",
       "    <tr>\n",
       "      <th>9</th>\n",
       "      <td>4004</td>\n",
       "      <td>Selenologist</td>\n",
       "    </tr>\n",
       "  </tbody>\n",
       "</table>\n",
       "</div>"
      ],
      "text/plain": [
       "   Customer ID          Type\n",
       "0         1001     Geologist\n",
       "1         1001    Astrogator\n",
       "2         1001    Biochemist\n",
       "3         1001    Technician\n",
       "4         2002       Surgeon\n",
       "5         2002     Machinist\n",
       "6         2002     Geologist\n",
       "7         3003     Geologist\n",
       "8         3003    Astrogator\n",
       "9         4004  Selenologist"
      ]
     },
     "execution_count": 129,
     "metadata": {},
     "output_type": "execute_result"
    }
   ],
   "source": [
    "df.head(10)"
   ]
  },
  {
   "cell_type": "code",
   "execution_count": 132,
   "id": "a1ab7bd4",
   "metadata": {},
   "outputs": [
    {
     "data": {
      "text/html": [
       "<div>\n",
       "<style scoped>\n",
       "    .dataframe tbody tr th:only-of-type {\n",
       "        vertical-align: middle;\n",
       "    }\n",
       "\n",
       "    .dataframe tbody tr th {\n",
       "        vertical-align: top;\n",
       "    }\n",
       "\n",
       "    .dataframe thead th {\n",
       "        text-align: right;\n",
       "    }\n",
       "</style>\n",
       "<table border=\"1\" class=\"dataframe\">\n",
       "  <thead>\n",
       "    <tr style=\"text-align: right;\">\n",
       "      <th></th>\n",
       "      <th>Description</th>\n",
       "    </tr>\n",
       "  </thead>\n",
       "  <tbody>\n",
       "    <tr>\n",
       "      <th>0</th>\n",
       "      <td>Geologist</td>\n",
       "    </tr>\n",
       "    <tr>\n",
       "      <th>1</th>\n",
       "      <td>Astrogator</td>\n",
       "    </tr>\n",
       "    <tr>\n",
       "      <th>2</th>\n",
       "      <td>Technician</td>\n",
       "    </tr>\n",
       "  </tbody>\n",
       "</table>\n",
       "</div>"
      ],
      "text/plain": [
       "  Description\n",
       "0   Geologist\n",
       "1  Astrogator\n",
       "2  Technician"
      ]
     },
     "execution_count": 132,
     "metadata": {},
     "output_type": "execute_result"
    }
   ],
   "source": [
    "requrements.head()"
   ]
  },
  {
   "cell_type": "code",
   "execution_count": null,
   "id": "05a0011d",
   "metadata": {},
   "outputs": [],
   "source": []
  },
  {
   "cell_type": "code",
   "execution_count": 135,
   "id": "368c895d",
   "metadata": {},
   "outputs": [
    {
     "data": {
      "text/plain": [
       "array(['Geologist', 'Astrogator', 'Technician'], dtype=object)"
      ]
     },
     "execution_count": 135,
     "metadata": {},
     "output_type": "execute_result"
    }
   ],
   "source": [
    "requrements['Description'].values"
   ]
  },
  {
   "cell_type": "code",
   "execution_count": null,
   "id": "3a7a27a0",
   "metadata": {},
   "outputs": [],
   "source": []
  },
  {
   "cell_type": "markdown",
   "id": "a7f2f2f5",
   "metadata": {},
   "source": [
    "### Puzzle 8"
   ]
  },
  {
   "cell_type": "code",
   "execution_count": 152,
   "id": "574161fa",
   "metadata": {},
   "outputs": [
    {
     "name": "stderr",
     "output_type": "stream",
     "text": [
      "C:\\Users\\the_r\\AppData\\Local\\Temp/ipykernel_5464/3282193271.py:5: FutureWarning: Could not cast to int16, falling back to object. This behavior is deprecated. In a future version, when a dtype is passed to 'DataFrame', either all columns will be cast to that dtype, or a TypeError will be raised\n",
      "  df = pd.DataFrame(data=d, dtype=np.int16)\n"
     ]
    }
   ],
   "source": [
    "d = {'Workflow': [\"Alpha\", \"Bravo\", \"Charlie\", \"Delta\"],\n",
    "     'Case 1': [0, 0, 1, 0],\n",
    "     'Case 2': [0, 1, 0, 0],\n",
    "     'Case 3': [0, 1, 0, 0]}\n",
    "df = pd.DataFrame(data=d, dtype=np.int16)"
   ]
  },
  {
   "cell_type": "code",
   "execution_count": 154,
   "id": "64b28c86",
   "metadata": {},
   "outputs": [],
   "source": [
    "df['Passed'] = df['Case 1'] +  df['Case 2'] + df['Case 3']"
   ]
  },
  {
   "cell_type": "code",
   "execution_count": 156,
   "id": "9c4037e7",
   "metadata": {},
   "outputs": [],
   "source": [
    "dfResult = df[['Workflow', 'Passed']]"
   ]
  },
  {
   "cell_type": "code",
   "execution_count": 157,
   "id": "80ca60a5",
   "metadata": {},
   "outputs": [
    {
     "data": {
      "text/html": [
       "<div>\n",
       "<style scoped>\n",
       "    .dataframe tbody tr th:only-of-type {\n",
       "        vertical-align: middle;\n",
       "    }\n",
       "\n",
       "    .dataframe tbody tr th {\n",
       "        vertical-align: top;\n",
       "    }\n",
       "\n",
       "    .dataframe thead th {\n",
       "        text-align: right;\n",
       "    }\n",
       "</style>\n",
       "<table border=\"1\" class=\"dataframe\">\n",
       "  <thead>\n",
       "    <tr style=\"text-align: right;\">\n",
       "      <th></th>\n",
       "      <th>Workflow</th>\n",
       "      <th>Passed</th>\n",
       "    </tr>\n",
       "  </thead>\n",
       "  <tbody>\n",
       "    <tr>\n",
       "      <th>0</th>\n",
       "      <td>Alpha</td>\n",
       "      <td>0</td>\n",
       "    </tr>\n",
       "    <tr>\n",
       "      <th>1</th>\n",
       "      <td>Bravo</td>\n",
       "      <td>2</td>\n",
       "    </tr>\n",
       "    <tr>\n",
       "      <th>2</th>\n",
       "      <td>Charlie</td>\n",
       "      <td>1</td>\n",
       "    </tr>\n",
       "    <tr>\n",
       "      <th>3</th>\n",
       "      <td>Delta</td>\n",
       "      <td>0</td>\n",
       "    </tr>\n",
       "  </tbody>\n",
       "</table>\n",
       "</div>"
      ],
      "text/plain": [
       "  Workflow  Passed\n",
       "0    Alpha       0\n",
       "1    Bravo       2\n",
       "2  Charlie       1\n",
       "3    Delta       0"
      ]
     },
     "execution_count": 157,
     "metadata": {},
     "output_type": "execute_result"
    }
   ],
   "source": [
    "dfResult.head()"
   ]
  },
  {
   "cell_type": "code",
   "execution_count": null,
   "id": "f96f2d95",
   "metadata": {},
   "outputs": [],
   "source": []
  },
  {
   "cell_type": "markdown",
   "id": "201758c0",
   "metadata": {},
   "source": [
    "### Puzzle 10"
   ]
  },
  {
   "cell_type": "code",
   "execution_count": null,
   "id": "5cc14235",
   "metadata": {},
   "outputs": [],
   "source": [
    "(5),(6),(10),(10),(13),\n",
    "(14),(17),(20),(81),(90),(76);"
   ]
  },
  {
   "cell_type": "code",
   "execution_count": 158,
   "id": "2ee88e6b",
   "metadata": {},
   "outputs": [],
   "source": [
    "r = [5, 6, 10, 10, 13, 14, 17, 20, 81, 90, 76]\n",
    "ser = pd.Series(r, copy=False)"
   ]
  },
  {
   "cell_type": "code",
   "execution_count": 159,
   "id": "80de7a82",
   "metadata": {},
   "outputs": [
    {
     "data": {
      "text/plain": [
       "31.09090909090909"
      ]
     },
     "execution_count": 159,
     "metadata": {},
     "output_type": "execute_result"
    }
   ],
   "source": [
    "ser.mean()"
   ]
  },
  {
   "cell_type": "code",
   "execution_count": 163,
   "id": "6a10b3da",
   "metadata": {},
   "outputs": [
    {
     "data": {
      "text/plain": [
       "14.0"
      ]
     },
     "execution_count": 163,
     "metadata": {},
     "output_type": "execute_result"
    }
   ],
   "source": [
    "ser.median()"
   ]
  },
  {
   "cell_type": "code",
   "execution_count": 161,
   "id": "6b1e781f",
   "metadata": {},
   "outputs": [
    {
     "data": {
      "text/plain": [
       "0    10\n",
       "dtype: int64"
      ]
     },
     "execution_count": 161,
     "metadata": {},
     "output_type": "execute_result"
    }
   ],
   "source": [
    "ser.mode()"
   ]
  },
  {
   "cell_type": "code",
   "execution_count": null,
   "id": "4cca7427",
   "metadata": {},
   "outputs": [],
   "source": []
  }
 ],
 "metadata": {
  "kernelspec": {
   "display_name": "Python 3 (ipykernel)",
   "language": "python",
   "name": "python3"
  },
  "language_info": {
   "codemirror_mode": {
    "name": "ipython",
    "version": 3
   },
   "file_extension": ".py",
   "mimetype": "text/x-python",
   "name": "python",
   "nbconvert_exporter": "python",
   "pygments_lexer": "ipython3",
   "version": "3.9.7"
  }
 },
 "nbformat": 4,
 "nbformat_minor": 5
}
