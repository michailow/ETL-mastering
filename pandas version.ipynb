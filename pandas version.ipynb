{
 "cells": [
  {
   "cell_type": "markdown",
   "id": "8c87b938",
   "metadata": {},
   "source": [
    "## Advanced SQL Puzzles"
   ]
  },
  {
   "cell_type": "code",
   "execution_count": 209,
   "id": "38a3d529",
   "metadata": {},
   "outputs": [],
   "source": [
    "import numpy as np\n",
    "import pandas as pd"
   ]
  },
  {
   "cell_type": "markdown",
   "id": "fdfe32f2",
   "metadata": {},
   "source": [
    "### Puzzle 1"
   ]
  },
  {
   "cell_type": "code",
   "execution_count": 269,
   "id": "170e2a1b",
   "metadata": {},
   "outputs": [],
   "source": [
    "d1 = {'item': ['Sugar', 'Bread', 'Juice', 'Soda', 'Flour']}\n",
    "df1 = pd.DataFrame(data=d1)"
   ]
  },
  {
   "cell_type": "code",
   "execution_count": 270,
   "id": "1ffef5b4",
   "metadata": {},
   "outputs": [],
   "source": [
    "df1['Item Cart 1'] = df1['item']"
   ]
  },
  {
   "cell_type": "code",
   "execution_count": 271,
   "id": "bfd537b3",
   "metadata": {},
   "outputs": [
    {
     "data": {
      "text/html": [
       "<div>\n",
       "<style scoped>\n",
       "    .dataframe tbody tr th:only-of-type {\n",
       "        vertical-align: middle;\n",
       "    }\n",
       "\n",
       "    .dataframe tbody tr th {\n",
       "        vertical-align: top;\n",
       "    }\n",
       "\n",
       "    .dataframe thead th {\n",
       "        text-align: right;\n",
       "    }\n",
       "</style>\n",
       "<table border=\"1\" class=\"dataframe\">\n",
       "  <thead>\n",
       "    <tr style=\"text-align: right;\">\n",
       "      <th></th>\n",
       "      <th>Item Cart 1</th>\n",
       "    </tr>\n",
       "    <tr>\n",
       "      <th>item</th>\n",
       "      <th></th>\n",
       "    </tr>\n",
       "  </thead>\n",
       "  <tbody>\n",
       "    <tr>\n",
       "      <th>Sugar</th>\n",
       "      <td>Sugar</td>\n",
       "    </tr>\n",
       "    <tr>\n",
       "      <th>Bread</th>\n",
       "      <td>Bread</td>\n",
       "    </tr>\n",
       "    <tr>\n",
       "      <th>Juice</th>\n",
       "      <td>Juice</td>\n",
       "    </tr>\n",
       "    <tr>\n",
       "      <th>Soda</th>\n",
       "      <td>Soda</td>\n",
       "    </tr>\n",
       "    <tr>\n",
       "      <th>Flour</th>\n",
       "      <td>Flour</td>\n",
       "    </tr>\n",
       "  </tbody>\n",
       "</table>\n",
       "</div>"
      ],
      "text/plain": [
       "      Item Cart 1\n",
       "item             \n",
       "Sugar       Sugar\n",
       "Bread       Bread\n",
       "Juice       Juice\n",
       "Soda         Soda\n",
       "Flour       Flour"
      ]
     },
     "execution_count": 271,
     "metadata": {},
     "output_type": "execute_result"
    }
   ],
   "source": [
    "df1.set_index('item')"
   ]
  },
  {
   "cell_type": "code",
   "execution_count": 272,
   "id": "04c7b6b8",
   "metadata": {},
   "outputs": [
    {
     "data": {
      "text/html": [
       "<div>\n",
       "<style scoped>\n",
       "    .dataframe tbody tr th:only-of-type {\n",
       "        vertical-align: middle;\n",
       "    }\n",
       "\n",
       "    .dataframe tbody tr th {\n",
       "        vertical-align: top;\n",
       "    }\n",
       "\n",
       "    .dataframe thead th {\n",
       "        text-align: right;\n",
       "    }\n",
       "</style>\n",
       "<table border=\"1\" class=\"dataframe\">\n",
       "  <thead>\n",
       "    <tr style=\"text-align: right;\">\n",
       "      <th></th>\n",
       "      <th>item</th>\n",
       "      <th>Item Cart 1</th>\n",
       "    </tr>\n",
       "  </thead>\n",
       "  <tbody>\n",
       "    <tr>\n",
       "      <th>0</th>\n",
       "      <td>Sugar</td>\n",
       "      <td>Sugar</td>\n",
       "    </tr>\n",
       "    <tr>\n",
       "      <th>1</th>\n",
       "      <td>Bread</td>\n",
       "      <td>Bread</td>\n",
       "    </tr>\n",
       "    <tr>\n",
       "      <th>2</th>\n",
       "      <td>Juice</td>\n",
       "      <td>Juice</td>\n",
       "    </tr>\n",
       "    <tr>\n",
       "      <th>3</th>\n",
       "      <td>Soda</td>\n",
       "      <td>Soda</td>\n",
       "    </tr>\n",
       "    <tr>\n",
       "      <th>4</th>\n",
       "      <td>Flour</td>\n",
       "      <td>Flour</td>\n",
       "    </tr>\n",
       "  </tbody>\n",
       "</table>\n",
       "</div>"
      ],
      "text/plain": [
       "    item Item Cart 1\n",
       "0  Sugar       Sugar\n",
       "1  Bread       Bread\n",
       "2  Juice       Juice\n",
       "3   Soda        Soda\n",
       "4  Flour       Flour"
      ]
     },
     "execution_count": 272,
     "metadata": {},
     "output_type": "execute_result"
    }
   ],
   "source": [
    "df1.head()"
   ]
  },
  {
   "cell_type": "code",
   "execution_count": null,
   "id": "639b8b60",
   "metadata": {},
   "outputs": [],
   "source": []
  },
  {
   "cell_type": "code",
   "execution_count": null,
   "id": "880a825f",
   "metadata": {},
   "outputs": [],
   "source": [
    "d2 = {'item': ['Sugar', 'Bread', 'Butter', 'Cheese', 'Fruit']}\n",
    "df2 = pd.DataFrame(data=d2)"
   ]
  },
  {
   "cell_type": "code",
   "execution_count": null,
   "id": "f0e43b65",
   "metadata": {},
   "outputs": [],
   "source": [
    "df2['Item Cart 2'] = df2['item']"
   ]
  },
  {
   "cell_type": "code",
   "execution_count": null,
   "id": "138c2afd",
   "metadata": {},
   "outputs": [],
   "source": [
    "df2.head()"
   ]
  },
  {
   "cell_type": "code",
   "execution_count": null,
   "id": "16bae02b",
   "metadata": {},
   "outputs": [],
   "source": [
    "df2.set_index('item')"
   ]
  },
  {
   "cell_type": "code",
   "execution_count": null,
   "id": "5a0fa711",
   "metadata": {},
   "outputs": [],
   "source": []
  },
  {
   "cell_type": "code",
   "execution_count": null,
   "id": "04655f17",
   "metadata": {},
   "outputs": [],
   "source": [
    "df3 = df1.merge(df2, how=\"outer\")[['Item Cart 1', 'Item Cart 2']]"
   ]
  },
  {
   "cell_type": "code",
   "execution_count": null,
   "id": "a819d062",
   "metadata": {},
   "outputs": [],
   "source": [
    "df3"
   ]
  },
  {
   "cell_type": "markdown",
   "id": "4de85196",
   "metadata": {},
   "source": [
    "### Puzzle 2"
   ]
  },
  {
   "cell_type": "code",
   "execution_count": 4,
   "id": "c07f2239",
   "metadata": {},
   "outputs": [],
   "source": [
    "import numpy as np\n",
    "import pandas as pd"
   ]
  },
  {
   "cell_type": "code",
   "execution_count": 85,
   "id": "9994b78a",
   "metadata": {},
   "outputs": [
    {
     "name": "stderr",
     "output_type": "stream",
     "text": [
      "C:\\Users\\the_r\\AppData\\Local\\Temp/ipykernel_5464/2033519502.py:4: FutureWarning: Could not cast to int16, falling back to object. This behavior is deprecated. In a future version, when a dtype is passed to 'DataFrame', either all columns will be cast to that dtype, or a TypeError will be raised\n",
      "  df = pd.DataFrame(data=d, dtype=np.int16)\n"
     ]
    }
   ],
   "source": [
    "d = {'Employee ID': [1001, 2002, 3003, 4004, 5005, 6006, 7007],\n",
    "     'Manager ID': [np.nan, 1001, 1001, 2002, 2002, 2002, 5005],\n",
    "     'Job Title': ['President', 'Director', 'Office Manager', 'Engineer', 'Engineer', 'Engineer', \"Intern\"]}\n",
    "df = pd.DataFrame(data=d, dtype=np.int16)"
   ]
  },
  {
   "cell_type": "code",
   "execution_count": 86,
   "id": "dc0e2a39",
   "metadata": {},
   "outputs": [
    {
     "data": {
      "text/html": [
       "<div>\n",
       "<style scoped>\n",
       "    .dataframe tbody tr th:only-of-type {\n",
       "        vertical-align: middle;\n",
       "    }\n",
       "\n",
       "    .dataframe tbody tr th {\n",
       "        vertical-align: top;\n",
       "    }\n",
       "\n",
       "    .dataframe thead th {\n",
       "        text-align: right;\n",
       "    }\n",
       "</style>\n",
       "<table border=\"1\" class=\"dataframe\">\n",
       "  <thead>\n",
       "    <tr style=\"text-align: right;\">\n",
       "      <th></th>\n",
       "      <th>Employee ID</th>\n",
       "      <th>Manager ID</th>\n",
       "      <th>Job Title</th>\n",
       "    </tr>\n",
       "  </thead>\n",
       "  <tbody>\n",
       "    <tr>\n",
       "      <th>0</th>\n",
       "      <td>1001</td>\n",
       "      <td>NaN</td>\n",
       "      <td>President</td>\n",
       "    </tr>\n",
       "    <tr>\n",
       "      <th>1</th>\n",
       "      <td>2002</td>\n",
       "      <td>1001</td>\n",
       "      <td>Director</td>\n",
       "    </tr>\n",
       "    <tr>\n",
       "      <th>2</th>\n",
       "      <td>3003</td>\n",
       "      <td>1001</td>\n",
       "      <td>Office Manager</td>\n",
       "    </tr>\n",
       "    <tr>\n",
       "      <th>3</th>\n",
       "      <td>4004</td>\n",
       "      <td>2002</td>\n",
       "      <td>Engineer</td>\n",
       "    </tr>\n",
       "    <tr>\n",
       "      <th>4</th>\n",
       "      <td>5005</td>\n",
       "      <td>2002</td>\n",
       "      <td>Engineer</td>\n",
       "    </tr>\n",
       "  </tbody>\n",
       "</table>\n",
       "</div>"
      ],
      "text/plain": [
       "   Employee ID Manager ID       Job Title\n",
       "0         1001        NaN       President\n",
       "1         2002       1001        Director\n",
       "2         3003       1001  Office Manager\n",
       "3         4004       2002        Engineer\n",
       "4         5005       2002        Engineer"
      ]
     },
     "execution_count": 86,
     "metadata": {},
     "output_type": "execute_result"
    }
   ],
   "source": [
    "df.head()"
   ]
  },
  {
   "cell_type": "code",
   "execution_count": 87,
   "id": "f0a1516e",
   "metadata": {},
   "outputs": [
    {
     "data": {
      "text/plain": [
       "nan"
      ]
     },
     "execution_count": 87,
     "metadata": {},
     "output_type": "execute_result"
    }
   ],
   "source": [
    "df[df[\"Employee ID\"] == 1001][\"Manager ID\"].values.any()"
   ]
  },
  {
   "cell_type": "code",
   "execution_count": 88,
   "id": "a16cede1",
   "metadata": {},
   "outputs": [
    {
     "data": {
      "text/plain": [
       "1001"
      ]
     },
     "execution_count": 88,
     "metadata": {},
     "output_type": "execute_result"
    }
   ],
   "source": [
    "df[df[\"Employee ID\"] == 2002][\"Manager ID\"].values.any()"
   ]
  },
  {
   "cell_type": "code",
   "execution_count": 110,
   "id": "d07fb6c3",
   "metadata": {},
   "outputs": [],
   "source": [
    "def checkDeep(EmployeeID, c):\n",
    "    if df[df[\"Employee ID\"] == EmployeeID][\"Manager ID\"].isnull().values.any():\n",
    "        return c\n",
    "    else:\n",
    "        c = checkDeep(df[df[\"Employee ID\"] == EmployeeID][\"Manager ID\"].values.any(), c+1)\n",
    "        return c"
   ]
  },
  {
   "cell_type": "code",
   "execution_count": 112,
   "id": "06c7a0cf",
   "metadata": {},
   "outputs": [],
   "source": [
    "df['Depth'] = df['Employee ID'].apply(lambda x: checkDeep(x, c=0))"
   ]
  },
  {
   "cell_type": "code",
   "execution_count": 114,
   "id": "c3285a7a",
   "metadata": {},
   "outputs": [
    {
     "data": {
      "text/html": [
       "<div>\n",
       "<style scoped>\n",
       "    .dataframe tbody tr th:only-of-type {\n",
       "        vertical-align: middle;\n",
       "    }\n",
       "\n",
       "    .dataframe tbody tr th {\n",
       "        vertical-align: top;\n",
       "    }\n",
       "\n",
       "    .dataframe thead th {\n",
       "        text-align: right;\n",
       "    }\n",
       "</style>\n",
       "<table border=\"1\" class=\"dataframe\">\n",
       "  <thead>\n",
       "    <tr style=\"text-align: right;\">\n",
       "      <th></th>\n",
       "      <th>Employee ID</th>\n",
       "      <th>Manager ID</th>\n",
       "      <th>Job Title</th>\n",
       "      <th>Depth</th>\n",
       "    </tr>\n",
       "  </thead>\n",
       "  <tbody>\n",
       "    <tr>\n",
       "      <th>0</th>\n",
       "      <td>1001</td>\n",
       "      <td>NaN</td>\n",
       "      <td>President</td>\n",
       "      <td>0</td>\n",
       "    </tr>\n",
       "    <tr>\n",
       "      <th>1</th>\n",
       "      <td>2002</td>\n",
       "      <td>1001</td>\n",
       "      <td>Director</td>\n",
       "      <td>1</td>\n",
       "    </tr>\n",
       "    <tr>\n",
       "      <th>2</th>\n",
       "      <td>3003</td>\n",
       "      <td>1001</td>\n",
       "      <td>Office Manager</td>\n",
       "      <td>1</td>\n",
       "    </tr>\n",
       "    <tr>\n",
       "      <th>3</th>\n",
       "      <td>4004</td>\n",
       "      <td>2002</td>\n",
       "      <td>Engineer</td>\n",
       "      <td>2</td>\n",
       "    </tr>\n",
       "    <tr>\n",
       "      <th>4</th>\n",
       "      <td>5005</td>\n",
       "      <td>2002</td>\n",
       "      <td>Engineer</td>\n",
       "      <td>2</td>\n",
       "    </tr>\n",
       "  </tbody>\n",
       "</table>\n",
       "</div>"
      ],
      "text/plain": [
       "   Employee ID Manager ID       Job Title  Depth\n",
       "0         1001        NaN       President      0\n",
       "1         2002       1001        Director      1\n",
       "2         3003       1001  Office Manager      1\n",
       "3         4004       2002        Engineer      2\n",
       "4         5005       2002        Engineer      2"
      ]
     },
     "execution_count": 114,
     "metadata": {},
     "output_type": "execute_result"
    }
   ],
   "source": [
    "df.head()"
   ]
  },
  {
   "cell_type": "code",
   "execution_count": null,
   "id": "5cd37b30",
   "metadata": {},
   "outputs": [],
   "source": []
  },
  {
   "cell_type": "markdown",
   "id": "ab5e912d",
   "metadata": {},
   "source": [
    "### Puzzle 3"
   ]
  },
  {
   "cell_type": "code",
   "execution_count": 116,
   "id": "019d0fd4",
   "metadata": {},
   "outputs": [
    {
     "name": "stderr",
     "output_type": "stream",
     "text": [
      "C:\\Users\\the_r\\AppData\\Local\\Temp/ipykernel_5464/1119302731.py:5: FutureWarning: Could not cast to int16, falling back to object. This behavior is deprecated. In a future version, when a dtype is passed to 'DataFrame', either all columns will be cast to that dtype, or a TypeError will be raised\n",
      "  df = pd.DataFrame(data=d, dtype=np.int16)\n"
     ]
    }
   ],
   "source": [
    "d = {'Customer ID': [1001, 1001, 1001, 1001, 2002, 3003, 3003, 4004],\n",
    "     'Order ID ': [1, 2, 3, 4, 5, 6, 7, 8],\n",
    "     'Delivery State': ['CA', 'TX', 'TX', 'TX', 'WA', 'CA', \"CA\", 'TX'],\n",
    "     'Amount': [\"$340\", '$950', '$670', '$860', '$320', '$650', '$830', '$120']}\n",
    "df = pd.DataFrame(data=d, dtype=np.int16)"
   ]
  },
  {
   "cell_type": "code",
   "execution_count": 117,
   "id": "b7ad2b57",
   "metadata": {},
   "outputs": [
    {
     "data": {
      "text/html": [
       "<div>\n",
       "<style scoped>\n",
       "    .dataframe tbody tr th:only-of-type {\n",
       "        vertical-align: middle;\n",
       "    }\n",
       "\n",
       "    .dataframe tbody tr th {\n",
       "        vertical-align: top;\n",
       "    }\n",
       "\n",
       "    .dataframe thead th {\n",
       "        text-align: right;\n",
       "    }\n",
       "</style>\n",
       "<table border=\"1\" class=\"dataframe\">\n",
       "  <thead>\n",
       "    <tr style=\"text-align: right;\">\n",
       "      <th></th>\n",
       "      <th>Customer ID</th>\n",
       "      <th>Order ID</th>\n",
       "      <th>Delivery State</th>\n",
       "      <th>Amount</th>\n",
       "    </tr>\n",
       "  </thead>\n",
       "  <tbody>\n",
       "    <tr>\n",
       "      <th>0</th>\n",
       "      <td>1001</td>\n",
       "      <td>1</td>\n",
       "      <td>CA</td>\n",
       "      <td>$340</td>\n",
       "    </tr>\n",
       "    <tr>\n",
       "      <th>1</th>\n",
       "      <td>1001</td>\n",
       "      <td>2</td>\n",
       "      <td>TX</td>\n",
       "      <td>$950</td>\n",
       "    </tr>\n",
       "    <tr>\n",
       "      <th>2</th>\n",
       "      <td>1001</td>\n",
       "      <td>3</td>\n",
       "      <td>TX</td>\n",
       "      <td>$670</td>\n",
       "    </tr>\n",
       "    <tr>\n",
       "      <th>3</th>\n",
       "      <td>1001</td>\n",
       "      <td>4</td>\n",
       "      <td>TX</td>\n",
       "      <td>$860</td>\n",
       "    </tr>\n",
       "    <tr>\n",
       "      <th>4</th>\n",
       "      <td>2002</td>\n",
       "      <td>5</td>\n",
       "      <td>WA</td>\n",
       "      <td>$320</td>\n",
       "    </tr>\n",
       "  </tbody>\n",
       "</table>\n",
       "</div>"
      ],
      "text/plain": [
       "   Customer ID  Order ID  Delivery State Amount\n",
       "0         1001          1             CA   $340\n",
       "1         1001          2             TX   $950\n",
       "2         1001          3             TX   $670\n",
       "3         1001          4             TX   $860\n",
       "4         2002          5             WA   $320"
      ]
     },
     "execution_count": 117,
     "metadata": {},
     "output_type": "execute_result"
    }
   ],
   "source": [
    "df.head()"
   ]
  },
  {
   "cell_type": "code",
   "execution_count": 122,
   "id": "e640f635",
   "metadata": {},
   "outputs": [
    {
     "data": {
      "text/html": [
       "<div>\n",
       "<style scoped>\n",
       "    .dataframe tbody tr th:only-of-type {\n",
       "        vertical-align: middle;\n",
       "    }\n",
       "\n",
       "    .dataframe tbody tr th {\n",
       "        vertical-align: top;\n",
       "    }\n",
       "\n",
       "    .dataframe thead th {\n",
       "        text-align: right;\n",
       "    }\n",
       "</style>\n",
       "<table border=\"1\" class=\"dataframe\">\n",
       "  <thead>\n",
       "    <tr style=\"text-align: right;\">\n",
       "      <th></th>\n",
       "      <th>Customer ID</th>\n",
       "      <th>Order ID</th>\n",
       "      <th>Delivery State</th>\n",
       "      <th>Amount</th>\n",
       "    </tr>\n",
       "  </thead>\n",
       "  <tbody>\n",
       "    <tr>\n",
       "      <th>1</th>\n",
       "      <td>1001</td>\n",
       "      <td>2</td>\n",
       "      <td>TX</td>\n",
       "      <td>$950</td>\n",
       "    </tr>\n",
       "    <tr>\n",
       "      <th>2</th>\n",
       "      <td>1001</td>\n",
       "      <td>3</td>\n",
       "      <td>TX</td>\n",
       "      <td>$670</td>\n",
       "    </tr>\n",
       "    <tr>\n",
       "      <th>3</th>\n",
       "      <td>1001</td>\n",
       "      <td>4</td>\n",
       "      <td>TX</td>\n",
       "      <td>$860</td>\n",
       "    </tr>\n",
       "  </tbody>\n",
       "</table>\n",
       "</div>"
      ],
      "text/plain": [
       "   Customer ID  Order ID  Delivery State Amount\n",
       "1         1001          2             TX   $950\n",
       "2         1001          3             TX   $670\n",
       "3         1001          4             TX   $860"
      ]
     },
     "execution_count": 122,
     "metadata": {},
     "output_type": "execute_result"
    }
   ],
   "source": [
    "df[df['Delivery State'] == 'TX'].head(len(df[df['Delivery State'] == 'CA']))"
   ]
  },
  {
   "cell_type": "markdown",
   "id": "c94dca40",
   "metadata": {},
   "source": [
    "### Puzzle 4"
   ]
  },
  {
   "cell_type": "code",
   "execution_count": 123,
   "id": "7269261e",
   "metadata": {},
   "outputs": [
    {
     "name": "stderr",
     "output_type": "stream",
     "text": [
      "C:\\Users\\the_r\\AppData\\Local\\Temp/ipykernel_5464/3001497981.py:4: FutureWarning: Could not cast to int16, falling back to object. This behavior is deprecated. In a future version, when a dtype is passed to 'DataFrame', either all columns will be cast to that dtype, or a TypeError will be raised\n",
      "  df = pd.DataFrame(data=d, dtype=np.int16)\n"
     ]
    }
   ],
   "source": [
    "d = {'Customer ID': [1001, 1001, 1001, 2002, 2002, 3003],\n",
    "     'Type': [\"Cellular\", \"Work\", \"Home\", \"Cellular\", \"Work\", \"Cellular\"],\n",
    "     'Phone Number': ['555-897-5421', '555-897-6542', '555-698-9874', '555-963-6544', '555-812-9856', '555-987-6541']}\n",
    "df = pd.DataFrame(data=d, dtype=np.int16)"
   ]
  },
  {
   "cell_type": "code",
   "execution_count": 124,
   "id": "588d05e6",
   "metadata": {},
   "outputs": [
    {
     "data": {
      "text/html": [
       "<div>\n",
       "<style scoped>\n",
       "    .dataframe tbody tr th:only-of-type {\n",
       "        vertical-align: middle;\n",
       "    }\n",
       "\n",
       "    .dataframe tbody tr th {\n",
       "        vertical-align: top;\n",
       "    }\n",
       "\n",
       "    .dataframe thead th {\n",
       "        text-align: right;\n",
       "    }\n",
       "</style>\n",
       "<table border=\"1\" class=\"dataframe\">\n",
       "  <thead>\n",
       "    <tr style=\"text-align: right;\">\n",
       "      <th></th>\n",
       "      <th>Customer ID</th>\n",
       "      <th>Type</th>\n",
       "      <th>Phone Number</th>\n",
       "    </tr>\n",
       "  </thead>\n",
       "  <tbody>\n",
       "    <tr>\n",
       "      <th>0</th>\n",
       "      <td>1001</td>\n",
       "      <td>Cellular</td>\n",
       "      <td>555-897-5421</td>\n",
       "    </tr>\n",
       "    <tr>\n",
       "      <th>1</th>\n",
       "      <td>1001</td>\n",
       "      <td>Work</td>\n",
       "      <td>555-897-6542</td>\n",
       "    </tr>\n",
       "    <tr>\n",
       "      <th>2</th>\n",
       "      <td>1001</td>\n",
       "      <td>Home</td>\n",
       "      <td>555-698-9874</td>\n",
       "    </tr>\n",
       "    <tr>\n",
       "      <th>3</th>\n",
       "      <td>2002</td>\n",
       "      <td>Cellular</td>\n",
       "      <td>555-963-6544</td>\n",
       "    </tr>\n",
       "    <tr>\n",
       "      <th>4</th>\n",
       "      <td>2002</td>\n",
       "      <td>Work</td>\n",
       "      <td>555-812-9856</td>\n",
       "    </tr>\n",
       "  </tbody>\n",
       "</table>\n",
       "</div>"
      ],
      "text/plain": [
       "   Customer ID      Type  Phone Number\n",
       "0         1001  Cellular  555-897-5421\n",
       "1         1001      Work  555-897-6542\n",
       "2         1001      Home  555-698-9874\n",
       "3         2002  Cellular  555-963-6544\n",
       "4         2002      Work  555-812-9856"
      ]
     },
     "execution_count": 124,
     "metadata": {},
     "output_type": "execute_result"
    }
   ],
   "source": [
    "df.head()"
   ]
  },
  {
   "cell_type": "code",
   "execution_count": 126,
   "id": "f8d70f43",
   "metadata": {},
   "outputs": [
    {
     "data": {
      "text/html": [
       "<div>\n",
       "<style scoped>\n",
       "    .dataframe tbody tr th:only-of-type {\n",
       "        vertical-align: middle;\n",
       "    }\n",
       "\n",
       "    .dataframe tbody tr th {\n",
       "        vertical-align: top;\n",
       "    }\n",
       "\n",
       "    .dataframe thead th {\n",
       "        text-align: right;\n",
       "    }\n",
       "</style>\n",
       "<table border=\"1\" class=\"dataframe\">\n",
       "  <thead>\n",
       "    <tr style=\"text-align: right;\">\n",
       "      <th>Type</th>\n",
       "      <th>Cellular</th>\n",
       "      <th>Home</th>\n",
       "      <th>Work</th>\n",
       "    </tr>\n",
       "    <tr>\n",
       "      <th>Customer ID</th>\n",
       "      <th></th>\n",
       "      <th></th>\n",
       "      <th></th>\n",
       "    </tr>\n",
       "  </thead>\n",
       "  <tbody>\n",
       "    <tr>\n",
       "      <th>1001</th>\n",
       "      <td>555-897-5421</td>\n",
       "      <td>555-698-9874</td>\n",
       "      <td>555-897-6542</td>\n",
       "    </tr>\n",
       "    <tr>\n",
       "      <th>2002</th>\n",
       "      <td>555-963-6544</td>\n",
       "      <td>NaN</td>\n",
       "      <td>555-812-9856</td>\n",
       "    </tr>\n",
       "    <tr>\n",
       "      <th>3003</th>\n",
       "      <td>555-987-6541</td>\n",
       "      <td>NaN</td>\n",
       "      <td>NaN</td>\n",
       "    </tr>\n",
       "  </tbody>\n",
       "</table>\n",
       "</div>"
      ],
      "text/plain": [
       "Type             Cellular          Home          Work\n",
       "Customer ID                                          \n",
       "1001         555-897-5421  555-698-9874  555-897-6542\n",
       "2002         555-963-6544           NaN  555-812-9856\n",
       "3003         555-987-6541           NaN           NaN"
      ]
     },
     "execution_count": 126,
     "metadata": {},
     "output_type": "execute_result"
    }
   ],
   "source": [
    "df.pivot(index='Customer ID', columns='Type', values='Phone Number')"
   ]
  },
  {
   "cell_type": "markdown",
   "id": "93016287",
   "metadata": {},
   "source": [
    "### Puzzle 7"
   ]
  },
  {
   "cell_type": "code",
   "execution_count": 127,
   "id": "397ec328",
   "metadata": {},
   "outputs": [
    {
     "name": "stderr",
     "output_type": "stream",
     "text": [
      "C:\\Users\\the_r\\AppData\\Local\\Temp/ipykernel_5464/1876144463.py:3: FutureWarning: Could not cast to int16, falling back to object. This behavior is deprecated. In a future version, when a dtype is passed to 'DataFrame', either all columns will be cast to that dtype, or a TypeError will be raised\n",
      "  df = pd.DataFrame(data=d, dtype=np.int16)\n"
     ]
    }
   ],
   "source": [
    "d = {'Customer ID': [1001, 1001, 1001, 1001, 2002, 2002, 2002, 3003, 3003, 4004],\n",
    "     'Type': [\"Geologist\", \"Astrogator\", \"Biochemist\", \"Technician\", \"Surgeon\", \"Machinist\", \"Geologist\", \"Geologist\", \"Astrogator\", \"Selenologist\"]}\n",
    "df = pd.DataFrame(data=d, dtype=np.int16)"
   ]
  },
  {
   "cell_type": "code",
   "execution_count": 130,
   "id": "c5b60e92",
   "metadata": {},
   "outputs": [
    {
     "name": "stderr",
     "output_type": "stream",
     "text": [
      "C:\\Users\\the_r\\AppData\\Local\\Temp/ipykernel_5464/3707353610.py:2: FutureWarning: Could not cast to int16, falling back to object. This behavior is deprecated. In a future version, when a dtype is passed to 'DataFrame', either all columns will be cast to that dtype, or a TypeError will be raised\n",
      "  requrements = pd.DataFrame(data=d, dtype=np.int16)\n"
     ]
    }
   ],
   "source": [
    "d = {'Description': [\"Geologist\", \"Astrogator\", \"Technician\"]}\n",
    "requrements = pd.DataFrame(data=d, dtype=np.int16)"
   ]
  },
  {
   "cell_type": "code",
   "execution_count": 129,
   "id": "0173cdc9",
   "metadata": {},
   "outputs": [
    {
     "data": {
      "text/html": [
       "<div>\n",
       "<style scoped>\n",
       "    .dataframe tbody tr th:only-of-type {\n",
       "        vertical-align: middle;\n",
       "    }\n",
       "\n",
       "    .dataframe tbody tr th {\n",
       "        vertical-align: top;\n",
       "    }\n",
       "\n",
       "    .dataframe thead th {\n",
       "        text-align: right;\n",
       "    }\n",
       "</style>\n",
       "<table border=\"1\" class=\"dataframe\">\n",
       "  <thead>\n",
       "    <tr style=\"text-align: right;\">\n",
       "      <th></th>\n",
       "      <th>Customer ID</th>\n",
       "      <th>Type</th>\n",
       "    </tr>\n",
       "  </thead>\n",
       "  <tbody>\n",
       "    <tr>\n",
       "      <th>0</th>\n",
       "      <td>1001</td>\n",
       "      <td>Geologist</td>\n",
       "    </tr>\n",
       "    <tr>\n",
       "      <th>1</th>\n",
       "      <td>1001</td>\n",
       "      <td>Astrogator</td>\n",
       "    </tr>\n",
       "    <tr>\n",
       "      <th>2</th>\n",
       "      <td>1001</td>\n",
       "      <td>Biochemist</td>\n",
       "    </tr>\n",
       "    <tr>\n",
       "      <th>3</th>\n",
       "      <td>1001</td>\n",
       "      <td>Technician</td>\n",
       "    </tr>\n",
       "    <tr>\n",
       "      <th>4</th>\n",
       "      <td>2002</td>\n",
       "      <td>Surgeon</td>\n",
       "    </tr>\n",
       "    <tr>\n",
       "      <th>5</th>\n",
       "      <td>2002</td>\n",
       "      <td>Machinist</td>\n",
       "    </tr>\n",
       "    <tr>\n",
       "      <th>6</th>\n",
       "      <td>2002</td>\n",
       "      <td>Geologist</td>\n",
       "    </tr>\n",
       "    <tr>\n",
       "      <th>7</th>\n",
       "      <td>3003</td>\n",
       "      <td>Geologist</td>\n",
       "    </tr>\n",
       "    <tr>\n",
       "      <th>8</th>\n",
       "      <td>3003</td>\n",
       "      <td>Astrogator</td>\n",
       "    </tr>\n",
       "    <tr>\n",
       "      <th>9</th>\n",
       "      <td>4004</td>\n",
       "      <td>Selenologist</td>\n",
       "    </tr>\n",
       "  </tbody>\n",
       "</table>\n",
       "</div>"
      ],
      "text/plain": [
       "   Customer ID          Type\n",
       "0         1001     Geologist\n",
       "1         1001    Astrogator\n",
       "2         1001    Biochemist\n",
       "3         1001    Technician\n",
       "4         2002       Surgeon\n",
       "5         2002     Machinist\n",
       "6         2002     Geologist\n",
       "7         3003     Geologist\n",
       "8         3003    Astrogator\n",
       "9         4004  Selenologist"
      ]
     },
     "execution_count": 129,
     "metadata": {},
     "output_type": "execute_result"
    }
   ],
   "source": [
    "df.head(10)"
   ]
  },
  {
   "cell_type": "code",
   "execution_count": 132,
   "id": "a1ab7bd4",
   "metadata": {},
   "outputs": [
    {
     "data": {
      "text/html": [
       "<div>\n",
       "<style scoped>\n",
       "    .dataframe tbody tr th:only-of-type {\n",
       "        vertical-align: middle;\n",
       "    }\n",
       "\n",
       "    .dataframe tbody tr th {\n",
       "        vertical-align: top;\n",
       "    }\n",
       "\n",
       "    .dataframe thead th {\n",
       "        text-align: right;\n",
       "    }\n",
       "</style>\n",
       "<table border=\"1\" class=\"dataframe\">\n",
       "  <thead>\n",
       "    <tr style=\"text-align: right;\">\n",
       "      <th></th>\n",
       "      <th>Description</th>\n",
       "    </tr>\n",
       "  </thead>\n",
       "  <tbody>\n",
       "    <tr>\n",
       "      <th>0</th>\n",
       "      <td>Geologist</td>\n",
       "    </tr>\n",
       "    <tr>\n",
       "      <th>1</th>\n",
       "      <td>Astrogator</td>\n",
       "    </tr>\n",
       "    <tr>\n",
       "      <th>2</th>\n",
       "      <td>Technician</td>\n",
       "    </tr>\n",
       "  </tbody>\n",
       "</table>\n",
       "</div>"
      ],
      "text/plain": [
       "  Description\n",
       "0   Geologist\n",
       "1  Astrogator\n",
       "2  Technician"
      ]
     },
     "execution_count": 132,
     "metadata": {},
     "output_type": "execute_result"
    }
   ],
   "source": [
    "requrements.head()"
   ]
  },
  {
   "cell_type": "code",
   "execution_count": null,
   "id": "05a0011d",
   "metadata": {},
   "outputs": [],
   "source": []
  },
  {
   "cell_type": "code",
   "execution_count": 135,
   "id": "368c895d",
   "metadata": {},
   "outputs": [
    {
     "data": {
      "text/plain": [
       "array(['Geologist', 'Astrogator', 'Technician'], dtype=object)"
      ]
     },
     "execution_count": 135,
     "metadata": {},
     "output_type": "execute_result"
    }
   ],
   "source": [
    "requrements['Description'].values"
   ]
  },
  {
   "cell_type": "code",
   "execution_count": null,
   "id": "3a7a27a0",
   "metadata": {},
   "outputs": [],
   "source": []
  },
  {
   "cell_type": "markdown",
   "id": "37990e56",
   "metadata": {},
   "source": [
    "### Puzzle 8"
   ]
  },
  {
   "cell_type": "code",
   "execution_count": 152,
   "id": "3100d84d",
   "metadata": {},
   "outputs": [
    {
     "name": "stderr",
     "output_type": "stream",
     "text": [
      "C:\\Users\\the_r\\AppData\\Local\\Temp/ipykernel_5464/3282193271.py:5: FutureWarning: Could not cast to int16, falling back to object. This behavior is deprecated. In a future version, when a dtype is passed to 'DataFrame', either all columns will be cast to that dtype, or a TypeError will be raised\n",
      "  df = pd.DataFrame(data=d, dtype=np.int16)\n"
     ]
    }
   ],
   "source": [
    "d = {'Workflow': [\"Alpha\", \"Bravo\", \"Charlie\", \"Delta\"],\n",
    "     'Case 1': [0, 0, 1, 0],\n",
    "     'Case 2': [0, 1, 0, 0],\n",
    "     'Case 3': [0, 1, 0, 0]}\n",
    "df = pd.DataFrame(data=d, dtype=np.int16)"
   ]
  },
  {
   "cell_type": "code",
   "execution_count": 154,
   "id": "a7c30207",
   "metadata": {},
   "outputs": [],
   "source": [
    "df['Passed'] = df['Case 1'] +  df['Case 2'] + df['Case 3']"
   ]
  },
  {
   "cell_type": "code",
   "execution_count": 156,
   "id": "b2d6adb7",
   "metadata": {},
   "outputs": [],
   "source": [
    "dfResult = df[['Workflow', 'Passed']]"
   ]
  },
  {
   "cell_type": "code",
   "execution_count": 157,
   "id": "641fe6f8",
   "metadata": {},
   "outputs": [
    {
     "data": {
      "text/html": [
       "<div>\n",
       "<style scoped>\n",
       "    .dataframe tbody tr th:only-of-type {\n",
       "        vertical-align: middle;\n",
       "    }\n",
       "\n",
       "    .dataframe tbody tr th {\n",
       "        vertical-align: top;\n",
       "    }\n",
       "\n",
       "    .dataframe thead th {\n",
       "        text-align: right;\n",
       "    }\n",
       "</style>\n",
       "<table border=\"1\" class=\"dataframe\">\n",
       "  <thead>\n",
       "    <tr style=\"text-align: right;\">\n",
       "      <th></th>\n",
       "      <th>Workflow</th>\n",
       "      <th>Passed</th>\n",
       "    </tr>\n",
       "  </thead>\n",
       "  <tbody>\n",
       "    <tr>\n",
       "      <th>0</th>\n",
       "      <td>Alpha</td>\n",
       "      <td>0</td>\n",
       "    </tr>\n",
       "    <tr>\n",
       "      <th>1</th>\n",
       "      <td>Bravo</td>\n",
       "      <td>2</td>\n",
       "    </tr>\n",
       "    <tr>\n",
       "      <th>2</th>\n",
       "      <td>Charlie</td>\n",
       "      <td>1</td>\n",
       "    </tr>\n",
       "    <tr>\n",
       "      <th>3</th>\n",
       "      <td>Delta</td>\n",
       "      <td>0</td>\n",
       "    </tr>\n",
       "  </tbody>\n",
       "</table>\n",
       "</div>"
      ],
      "text/plain": [
       "  Workflow  Passed\n",
       "0    Alpha       0\n",
       "1    Bravo       2\n",
       "2  Charlie       1\n",
       "3    Delta       0"
      ]
     },
     "execution_count": 157,
     "metadata": {},
     "output_type": "execute_result"
    }
   ],
   "source": [
    "dfResult.head()"
   ]
  },
  {
   "cell_type": "markdown",
   "id": "1c17b954",
   "metadata": {},
   "source": [
    "### Puzzle 10"
   ]
  },
  {
   "cell_type": "code",
   "execution_count": null,
   "id": "06fc264f",
   "metadata": {},
   "outputs": [],
   "source": [
    "(5),(6),(10),(10),(13),\n",
    "(14),(17),(20),(81),(90),(76);"
   ]
  },
  {
   "cell_type": "code",
   "execution_count": 158,
   "id": "ebebe859",
   "metadata": {},
   "outputs": [],
   "source": [
    "r = [5, 6, 10, 10, 13, 14, 17, 20, 81, 90, 76]\n",
    "ser = pd.Series(r, copy=False)"
   ]
  },
  {
   "cell_type": "code",
   "execution_count": 159,
   "id": "389f3f78",
   "metadata": {},
   "outputs": [
    {
     "data": {
      "text/plain": [
       "31.09090909090909"
      ]
     },
     "execution_count": 159,
     "metadata": {},
     "output_type": "execute_result"
    }
   ],
   "source": [
    "ser.mean()"
   ]
  },
  {
   "cell_type": "code",
   "execution_count": 163,
   "id": "df2a8f5c",
   "metadata": {},
   "outputs": [
    {
     "data": {
      "text/plain": [
       "14.0"
      ]
     },
     "execution_count": 163,
     "metadata": {},
     "output_type": "execute_result"
    }
   ],
   "source": [
    "ser.median()"
   ]
  },
  {
   "cell_type": "code",
   "execution_count": 161,
   "id": "1989b55b",
   "metadata": {},
   "outputs": [
    {
     "data": {
      "text/plain": [
       "0    10\n",
       "dtype: int64"
      ]
     },
     "execution_count": 161,
     "metadata": {},
     "output_type": "execute_result"
    }
   ],
   "source": [
    "ser.mode()"
   ]
  },
  {
   "cell_type": "code",
   "execution_count": null,
   "id": "d843f5a2",
   "metadata": {},
   "outputs": [],
   "source": []
  },
  {
   "cell_type": "markdown",
   "id": "1d4707f8",
   "metadata": {},
   "source": [
    "### Puzzle 11"
   ]
  },
  {
   "cell_type": "code",
   "execution_count": 164,
   "id": "7210b919",
   "metadata": {},
   "outputs": [],
   "source": [
    "d = {'Test Case': [\"A\", \"B\", \"C\"]}\n",
    "df = pd.DataFrame(data=d)"
   ]
  },
  {
   "cell_type": "code",
   "execution_count": 169,
   "id": "5d9868a0",
   "metadata": {},
   "outputs": [],
   "source": [
    "val = df['Test Case'].values"
   ]
  },
  {
   "cell_type": "code",
   "execution_count": null,
   "id": "fa8025d3",
   "metadata": {},
   "outputs": [],
   "source": []
  },
  {
   "cell_type": "code",
   "execution_count": 199,
   "id": "1fa13557",
   "metadata": {},
   "outputs": [],
   "source": [
    "from itertools import permutations\n",
    " \n",
    "perm = permutations(val)\n",
    "valuePerm = [\",\".join([y for y in x]) for x in perm]"
   ]
  },
  {
   "cell_type": "code",
   "execution_count": 200,
   "id": "f353547b",
   "metadata": {},
   "outputs": [
    {
     "data": {
      "text/plain": [
       "['A,B,C', 'A,C,B', 'B,A,C', 'B,C,A', 'C,A,B', 'C,B,A']"
      ]
     },
     "execution_count": 200,
     "metadata": {},
     "output_type": "execute_result"
    }
   ],
   "source": [
    "valuePerm"
   ]
  },
  {
   "cell_type": "code",
   "execution_count": 201,
   "id": "cc1772b6",
   "metadata": {},
   "outputs": [],
   "source": [
    "d = {'Test Case': valuePerm}\n",
    "df = pd.DataFrame(data=d)"
   ]
  },
  {
   "cell_type": "code",
   "execution_count": 202,
   "id": "72fb1095",
   "metadata": {},
   "outputs": [
    {
     "data": {
      "text/html": [
       "<div>\n",
       "<style scoped>\n",
       "    .dataframe tbody tr th:only-of-type {\n",
       "        vertical-align: middle;\n",
       "    }\n",
       "\n",
       "    .dataframe tbody tr th {\n",
       "        vertical-align: top;\n",
       "    }\n",
       "\n",
       "    .dataframe thead th {\n",
       "        text-align: right;\n",
       "    }\n",
       "</style>\n",
       "<table border=\"1\" class=\"dataframe\">\n",
       "  <thead>\n",
       "    <tr style=\"text-align: right;\">\n",
       "      <th></th>\n",
       "      <th>Test Case</th>\n",
       "    </tr>\n",
       "  </thead>\n",
       "  <tbody>\n",
       "    <tr>\n",
       "      <th>0</th>\n",
       "      <td>A,B,C</td>\n",
       "    </tr>\n",
       "    <tr>\n",
       "      <th>1</th>\n",
       "      <td>A,C,B</td>\n",
       "    </tr>\n",
       "    <tr>\n",
       "      <th>2</th>\n",
       "      <td>B,A,C</td>\n",
       "    </tr>\n",
       "    <tr>\n",
       "      <th>3</th>\n",
       "      <td>B,C,A</td>\n",
       "    </tr>\n",
       "    <tr>\n",
       "      <th>4</th>\n",
       "      <td>C,A,B</td>\n",
       "    </tr>\n",
       "  </tbody>\n",
       "</table>\n",
       "</div>"
      ],
      "text/plain": [
       "  Test Case\n",
       "0     A,B,C\n",
       "1     A,C,B\n",
       "2     B,A,C\n",
       "3     B,C,A\n",
       "4     C,A,B"
      ]
     },
     "execution_count": 202,
     "metadata": {},
     "output_type": "execute_result"
    }
   ],
   "source": [
    "df.head()"
   ]
  },
  {
   "cell_type": "code",
   "execution_count": null,
   "id": "a8d212e5",
   "metadata": {},
   "outputs": [],
   "source": []
  },
  {
   "cell_type": "markdown",
   "id": "04a0ddad",
   "metadata": {},
   "source": [
    "### Puzzle 12"
   ]
  },
  {
   "cell_type": "code",
   "execution_count": 278,
   "id": "a52eacb8",
   "metadata": {},
   "outputs": [],
   "source": [
    "d = {'Workflow': [\"Alpha\", \"Alpha\", \"Alpha\", \"Bravo\", \"Bravo\", \"Bravo\", \"Charlie\", \"Charlie\", \"Charlie\"],\n",
    "     'Execution Date': [\"6/1/2018\", \"6/14/2018\", \"6/15/2018\", \"6/1/2018\", \"6/2/2018\", \"6/19/2018\", \"6/1/2018\", \"6/15/2018\", \"6/30/2018\"]}\n",
    "df = pd.DataFrame(data=d)\n",
    "df['Execution Date'] = pd.to_datetime(df['Execution Date'])"
   ]
  },
  {
   "cell_type": "code",
   "execution_count": 279,
   "id": "eade403a",
   "metadata": {},
   "outputs": [
    {
     "data": {
      "text/html": [
       "<div>\n",
       "<style scoped>\n",
       "    .dataframe tbody tr th:only-of-type {\n",
       "        vertical-align: middle;\n",
       "    }\n",
       "\n",
       "    .dataframe tbody tr th {\n",
       "        vertical-align: top;\n",
       "    }\n",
       "\n",
       "    .dataframe thead th {\n",
       "        text-align: right;\n",
       "    }\n",
       "</style>\n",
       "<table border=\"1\" class=\"dataframe\">\n",
       "  <thead>\n",
       "    <tr style=\"text-align: right;\">\n",
       "      <th></th>\n",
       "      <th>Workflow</th>\n",
       "      <th>Execution Date</th>\n",
       "    </tr>\n",
       "  </thead>\n",
       "  <tbody>\n",
       "    <tr>\n",
       "      <th>0</th>\n",
       "      <td>Alpha</td>\n",
       "      <td>2018-06-01</td>\n",
       "    </tr>\n",
       "    <tr>\n",
       "      <th>1</th>\n",
       "      <td>Alpha</td>\n",
       "      <td>2018-06-14</td>\n",
       "    </tr>\n",
       "    <tr>\n",
       "      <th>2</th>\n",
       "      <td>Alpha</td>\n",
       "      <td>2018-06-15</td>\n",
       "    </tr>\n",
       "    <tr>\n",
       "      <th>3</th>\n",
       "      <td>Bravo</td>\n",
       "      <td>2018-06-01</td>\n",
       "    </tr>\n",
       "    <tr>\n",
       "      <th>4</th>\n",
       "      <td>Bravo</td>\n",
       "      <td>2018-06-02</td>\n",
       "    </tr>\n",
       "    <tr>\n",
       "      <th>5</th>\n",
       "      <td>Bravo</td>\n",
       "      <td>2018-06-19</td>\n",
       "    </tr>\n",
       "    <tr>\n",
       "      <th>6</th>\n",
       "      <td>Charlie</td>\n",
       "      <td>2018-06-01</td>\n",
       "    </tr>\n",
       "    <tr>\n",
       "      <th>7</th>\n",
       "      <td>Charlie</td>\n",
       "      <td>2018-06-15</td>\n",
       "    </tr>\n",
       "    <tr>\n",
       "      <th>8</th>\n",
       "      <td>Charlie</td>\n",
       "      <td>2018-06-30</td>\n",
       "    </tr>\n",
       "  </tbody>\n",
       "</table>\n",
       "</div>"
      ],
      "text/plain": [
       "  Workflow Execution Date\n",
       "0    Alpha     2018-06-01\n",
       "1    Alpha     2018-06-14\n",
       "2    Alpha     2018-06-15\n",
       "3    Bravo     2018-06-01\n",
       "4    Bravo     2018-06-02\n",
       "5    Bravo     2018-06-19\n",
       "6  Charlie     2018-06-01\n",
       "7  Charlie     2018-06-15\n",
       "8  Charlie     2018-06-30"
      ]
     },
     "execution_count": 279,
     "metadata": {},
     "output_type": "execute_result"
    }
   ],
   "source": [
    "df.head(10)"
   ]
  },
  {
   "cell_type": "code",
   "execution_count": 280,
   "id": "73e3f14c",
   "metadata": {},
   "outputs": [],
   "source": [
    "def avgTime(x):\n",
    "    diff = x.diff().dropna().dt.days.mean()\n",
    "    return int(diff)"
   ]
  },
  {
   "cell_type": "code",
   "execution_count": 281,
   "id": "b943eb13",
   "metadata": {},
   "outputs": [],
   "source": [
    "dfAgg = df.groupby('Workflow')[['Execution Date']].agg(avgTime)"
   ]
  },
  {
   "cell_type": "code",
   "execution_count": 245,
   "id": "5f97e0c4",
   "metadata": {},
   "outputs": [
    {
     "data": {
      "text/html": [
       "<div>\n",
       "<style scoped>\n",
       "    .dataframe tbody tr th:only-of-type {\n",
       "        vertical-align: middle;\n",
       "    }\n",
       "\n",
       "    .dataframe tbody tr th {\n",
       "        vertical-align: top;\n",
       "    }\n",
       "\n",
       "    .dataframe thead th {\n",
       "        text-align: right;\n",
       "    }\n",
       "</style>\n",
       "<table border=\"1\" class=\"dataframe\">\n",
       "  <thead>\n",
       "    <tr style=\"text-align: right;\">\n",
       "      <th></th>\n",
       "      <th>Execution Date</th>\n",
       "    </tr>\n",
       "    <tr>\n",
       "      <th>Workflow</th>\n",
       "      <th></th>\n",
       "    </tr>\n",
       "  </thead>\n",
       "  <tbody>\n",
       "    <tr>\n",
       "      <th>Alpha</th>\n",
       "      <td>7</td>\n",
       "    </tr>\n",
       "    <tr>\n",
       "      <th>Bravo</th>\n",
       "      <td>9</td>\n",
       "    </tr>\n",
       "    <tr>\n",
       "      <th>Charlie</th>\n",
       "      <td>14</td>\n",
       "    </tr>\n",
       "  </tbody>\n",
       "</table>\n",
       "</div>"
      ],
      "text/plain": [
       "          Execution Date\n",
       "Workflow                \n",
       "Alpha                  7\n",
       "Bravo                  9\n",
       "Charlie               14"
      ]
     },
     "execution_count": 245,
     "metadata": {},
     "output_type": "execute_result"
    }
   ],
   "source": [
    "dfAgg"
   ]
  },
  {
   "cell_type": "code",
   "execution_count": null,
   "id": "a9a77870",
   "metadata": {},
   "outputs": [],
   "source": []
  },
  {
   "cell_type": "markdown",
   "id": "64975fad",
   "metadata": {},
   "source": [
    "### Puzzle 13"
   ]
  },
  {
   "cell_type": "code",
   "execution_count": 254,
   "id": "fbe6c9e7",
   "metadata": {},
   "outputs": [],
   "source": [
    "d = {'Date': [\"7/1/2018\", \"7/2/2018\", \"7/3/2018\", \"7/4/2018\", \"7/5/2018\"],\n",
    "     'Quantity Adjustment': [100, 75, -150, 50, -100]}\n",
    "df = pd.DataFrame(data=d)\n",
    "df['Date'] = pd.to_datetime(df['Date'])"
   ]
  },
  {
   "cell_type": "code",
   "execution_count": 255,
   "id": "30038320",
   "metadata": {},
   "outputs": [
    {
     "data": {
      "text/html": [
       "<div>\n",
       "<style scoped>\n",
       "    .dataframe tbody tr th:only-of-type {\n",
       "        vertical-align: middle;\n",
       "    }\n",
       "\n",
       "    .dataframe tbody tr th {\n",
       "        vertical-align: top;\n",
       "    }\n",
       "\n",
       "    .dataframe thead th {\n",
       "        text-align: right;\n",
       "    }\n",
       "</style>\n",
       "<table border=\"1\" class=\"dataframe\">\n",
       "  <thead>\n",
       "    <tr style=\"text-align: right;\">\n",
       "      <th></th>\n",
       "      <th>Date</th>\n",
       "      <th>Quantity Adjustment</th>\n",
       "    </tr>\n",
       "  </thead>\n",
       "  <tbody>\n",
       "    <tr>\n",
       "      <th>0</th>\n",
       "      <td>2018-07-01</td>\n",
       "      <td>100</td>\n",
       "    </tr>\n",
       "    <tr>\n",
       "      <th>1</th>\n",
       "      <td>2018-07-02</td>\n",
       "      <td>75</td>\n",
       "    </tr>\n",
       "    <tr>\n",
       "      <th>2</th>\n",
       "      <td>2018-07-03</td>\n",
       "      <td>-150</td>\n",
       "    </tr>\n",
       "    <tr>\n",
       "      <th>3</th>\n",
       "      <td>2018-07-04</td>\n",
       "      <td>50</td>\n",
       "    </tr>\n",
       "    <tr>\n",
       "      <th>4</th>\n",
       "      <td>2018-07-05</td>\n",
       "      <td>-100</td>\n",
       "    </tr>\n",
       "  </tbody>\n",
       "</table>\n",
       "</div>"
      ],
      "text/plain": [
       "        Date  Quantity Adjustment\n",
       "0 2018-07-01                  100\n",
       "1 2018-07-02                   75\n",
       "2 2018-07-03                 -150\n",
       "3 2018-07-04                   50\n",
       "4 2018-07-05                 -100"
      ]
     },
     "execution_count": 255,
     "metadata": {},
     "output_type": "execute_result"
    }
   ],
   "source": [
    "df.head(10)"
   ]
  },
  {
   "cell_type": "code",
   "execution_count": 258,
   "id": "5a4f5219",
   "metadata": {},
   "outputs": [],
   "source": [
    "df['Inventory'] = df['Quantity Adjustment'].cumsum()"
   ]
  },
  {
   "cell_type": "code",
   "execution_count": 259,
   "id": "75ddce89",
   "metadata": {},
   "outputs": [
    {
     "data": {
      "text/html": [
       "<div>\n",
       "<style scoped>\n",
       "    .dataframe tbody tr th:only-of-type {\n",
       "        vertical-align: middle;\n",
       "    }\n",
       "\n",
       "    .dataframe tbody tr th {\n",
       "        vertical-align: top;\n",
       "    }\n",
       "\n",
       "    .dataframe thead th {\n",
       "        text-align: right;\n",
       "    }\n",
       "</style>\n",
       "<table border=\"1\" class=\"dataframe\">\n",
       "  <thead>\n",
       "    <tr style=\"text-align: right;\">\n",
       "      <th></th>\n",
       "      <th>Date</th>\n",
       "      <th>Quantity Adjustment</th>\n",
       "      <th>Inventory</th>\n",
       "    </tr>\n",
       "  </thead>\n",
       "  <tbody>\n",
       "    <tr>\n",
       "      <th>0</th>\n",
       "      <td>2018-07-01</td>\n",
       "      <td>100</td>\n",
       "      <td>100</td>\n",
       "    </tr>\n",
       "    <tr>\n",
       "      <th>1</th>\n",
       "      <td>2018-07-02</td>\n",
       "      <td>75</td>\n",
       "      <td>175</td>\n",
       "    </tr>\n",
       "    <tr>\n",
       "      <th>2</th>\n",
       "      <td>2018-07-03</td>\n",
       "      <td>-150</td>\n",
       "      <td>25</td>\n",
       "    </tr>\n",
       "    <tr>\n",
       "      <th>3</th>\n",
       "      <td>2018-07-04</td>\n",
       "      <td>50</td>\n",
       "      <td>75</td>\n",
       "    </tr>\n",
       "    <tr>\n",
       "      <th>4</th>\n",
       "      <td>2018-07-05</td>\n",
       "      <td>-100</td>\n",
       "      <td>-25</td>\n",
       "    </tr>\n",
       "  </tbody>\n",
       "</table>\n",
       "</div>"
      ],
      "text/plain": [
       "        Date  Quantity Adjustment  Inventory\n",
       "0 2018-07-01                  100        100\n",
       "1 2018-07-02                   75        175\n",
       "2 2018-07-03                 -150         25\n",
       "3 2018-07-04                   50         75\n",
       "4 2018-07-05                 -100        -25"
      ]
     },
     "execution_count": 259,
     "metadata": {},
     "output_type": "execute_result"
    }
   ],
   "source": [
    "df.head()"
   ]
  },
  {
   "cell_type": "code",
   "execution_count": null,
   "id": "39d385ae",
   "metadata": {},
   "outputs": [],
   "source": []
  },
  {
   "cell_type": "markdown",
   "id": "a27b7446",
   "metadata": {},
   "source": [
    "### Puzzle 14"
   ]
  },
  {
   "cell_type": "code",
   "execution_count": 286,
   "id": "c0561639",
   "metadata": {},
   "outputs": [],
   "source": [
    "d = {'Workflow': [\"Alpha\", \"Alpha\", \"Alpha\", \"Bravo\", \"Bravo\", \"Charlie\", \"Charlie\", \"Delta\", \"Delta\", \"Echo\", \"Echo\"],\n",
    "     'Step Number': [1, 2, 3, 1, 2, 1, 2, 1, 2, 1, 2],\n",
    "     'Execution Date': [\"Error\", \"Complete\", \"Running\", \"Complete\", \"Complete\", \"Running\", \"Running\", \"Error\", \"Error\", \"Running\", \"Complete\"]}\n",
    "df = pd.DataFrame(data=d)"
   ]
  },
  {
   "cell_type": "code",
   "execution_count": 305,
   "id": "b6ec6522",
   "metadata": {},
   "outputs": [],
   "source": [
    "e = next(iter({1}))"
   ]
  },
  {
   "cell_type": "code",
   "execution_count": 306,
   "id": "a050e30c",
   "metadata": {},
   "outputs": [
    {
     "data": {
      "text/plain": [
       "1"
      ]
     },
     "execution_count": 306,
     "metadata": {},
     "output_type": "execute_result"
    }
   ],
   "source": [
    "e"
   ]
  },
  {
   "cell_type": "code",
   "execution_count": 309,
   "id": "a03c9004",
   "metadata": {},
   "outputs": [],
   "source": [
    "def getStatus(x):\n",
    "    val = x.values\n",
    "    if len(set(val)) == 1:\n",
    "        return val[0]\n",
    "    elif \"Error\" in val:\n",
    "        return \"Indeterminate\"\n",
    "    else:\n",
    "        return \"Running\""
   ]
  },
  {
   "cell_type": "code",
   "execution_count": 311,
   "id": "4aa05798",
   "metadata": {},
   "outputs": [
    {
     "data": {
      "text/html": [
       "<div>\n",
       "<style scoped>\n",
       "    .dataframe tbody tr th:only-of-type {\n",
       "        vertical-align: middle;\n",
       "    }\n",
       "\n",
       "    .dataframe tbody tr th {\n",
       "        vertical-align: top;\n",
       "    }\n",
       "\n",
       "    .dataframe thead th {\n",
       "        text-align: right;\n",
       "    }\n",
       "</style>\n",
       "<table border=\"1\" class=\"dataframe\">\n",
       "  <thead>\n",
       "    <tr style=\"text-align: right;\">\n",
       "      <th></th>\n",
       "      <th>Execution Date</th>\n",
       "    </tr>\n",
       "    <tr>\n",
       "      <th>Workflow</th>\n",
       "      <th></th>\n",
       "    </tr>\n",
       "  </thead>\n",
       "  <tbody>\n",
       "    <tr>\n",
       "      <th>Alpha</th>\n",
       "      <td>Indeterminate</td>\n",
       "    </tr>\n",
       "    <tr>\n",
       "      <th>Bravo</th>\n",
       "      <td>Complete</td>\n",
       "    </tr>\n",
       "    <tr>\n",
       "      <th>Charlie</th>\n",
       "      <td>Running</td>\n",
       "    </tr>\n",
       "    <tr>\n",
       "      <th>Delta</th>\n",
       "      <td>Error</td>\n",
       "    </tr>\n",
       "    <tr>\n",
       "      <th>Echo</th>\n",
       "      <td>Running</td>\n",
       "    </tr>\n",
       "  </tbody>\n",
       "</table>\n",
       "</div>"
      ],
      "text/plain": [
       "         Execution Date\n",
       "Workflow               \n",
       "Alpha     Indeterminate\n",
       "Bravo          Complete\n",
       "Charlie         Running\n",
       "Delta             Error\n",
       "Echo            Running"
      ]
     },
     "execution_count": 311,
     "metadata": {},
     "output_type": "execute_result"
    }
   ],
   "source": [
    "df.groupby('Workflow')[[\"Execution Date\"]].agg(getStatus)"
   ]
  },
  {
   "cell_type": "code",
   "execution_count": 283,
   "id": "19f53e26",
   "metadata": {},
   "outputs": [
    {
     "data": {
      "text/html": [
       "<div>\n",
       "<style scoped>\n",
       "    .dataframe tbody tr th:only-of-type {\n",
       "        vertical-align: middle;\n",
       "    }\n",
       "\n",
       "    .dataframe tbody tr th {\n",
       "        vertical-align: top;\n",
       "    }\n",
       "\n",
       "    .dataframe thead th {\n",
       "        text-align: right;\n",
       "    }\n",
       "</style>\n",
       "<table border=\"1\" class=\"dataframe\">\n",
       "  <thead>\n",
       "    <tr style=\"text-align: right;\">\n",
       "      <th></th>\n",
       "      <th>Workflow</th>\n",
       "      <th>Step Number</th>\n",
       "      <th>Execution Date</th>\n",
       "    </tr>\n",
       "  </thead>\n",
       "  <tbody>\n",
       "    <tr>\n",
       "      <th>0</th>\n",
       "      <td>Alpha</td>\n",
       "      <td>1</td>\n",
       "      <td>Error</td>\n",
       "    </tr>\n",
       "    <tr>\n",
       "      <th>1</th>\n",
       "      <td>Alpha</td>\n",
       "      <td>2</td>\n",
       "      <td>Complete</td>\n",
       "    </tr>\n",
       "    <tr>\n",
       "      <th>2</th>\n",
       "      <td>Alpha</td>\n",
       "      <td>3</td>\n",
       "      <td>Running</td>\n",
       "    </tr>\n",
       "    <tr>\n",
       "      <th>3</th>\n",
       "      <td>Bravo</td>\n",
       "      <td>1</td>\n",
       "      <td>Complete</td>\n",
       "    </tr>\n",
       "    <tr>\n",
       "      <th>4</th>\n",
       "      <td>Bravo</td>\n",
       "      <td>2</td>\n",
       "      <td>Complete</td>\n",
       "    </tr>\n",
       "    <tr>\n",
       "      <th>5</th>\n",
       "      <td>Charlie</td>\n",
       "      <td>1</td>\n",
       "      <td>Running</td>\n",
       "    </tr>\n",
       "    <tr>\n",
       "      <th>6</th>\n",
       "      <td>Charlie</td>\n",
       "      <td>2</td>\n",
       "      <td>Running</td>\n",
       "    </tr>\n",
       "    <tr>\n",
       "      <th>7</th>\n",
       "      <td>Delta</td>\n",
       "      <td>1</td>\n",
       "      <td>Error</td>\n",
       "    </tr>\n",
       "    <tr>\n",
       "      <th>8</th>\n",
       "      <td>Delta</td>\n",
       "      <td>2</td>\n",
       "      <td>Error</td>\n",
       "    </tr>\n",
       "    <tr>\n",
       "      <th>9</th>\n",
       "      <td>Echo</td>\n",
       "      <td>1</td>\n",
       "      <td>Running</td>\n",
       "    </tr>\n",
       "    <tr>\n",
       "      <th>10</th>\n",
       "      <td>Echo</td>\n",
       "      <td>2</td>\n",
       "      <td>Complete</td>\n",
       "    </tr>\n",
       "  </tbody>\n",
       "</table>\n",
       "</div>"
      ],
      "text/plain": [
       "   Workflow  Step Number Execution Date\n",
       "0     Alpha            1          Error\n",
       "1     Alpha            2       Complete\n",
       "2     Alpha            3        Running\n",
       "3     Bravo            1       Complete\n",
       "4     Bravo            2       Complete\n",
       "5   Charlie            1        Running\n",
       "6   Charlie            2        Running\n",
       "7     Delta            1          Error\n",
       "8     Delta            2          Error\n",
       "9      Echo            1        Running\n",
       "10     Echo            2       Complete"
      ]
     },
     "execution_count": 283,
     "metadata": {},
     "output_type": "execute_result"
    }
   ],
   "source": [
    "df.head(20)"
   ]
  },
  {
   "cell_type": "markdown",
   "id": "1b957a1f",
   "metadata": {},
   "source": [
    "### Puzzle 15"
   ]
  },
  {
   "cell_type": "code",
   "execution_count": 313,
   "id": "56a2edc9",
   "metadata": {},
   "outputs": [],
   "source": [
    "d = {'Workflow': [1, 2, 3, 4, 5, 6, 7, 8, 9],\n",
    "     'Step Number': [\"SELECT\", \"Product,\", \"UnitPrice,\", \"EffectiveDate\", \"FROM\", \"Products\", \"WHERE\", \"UnitPrice\", \"> 100\"]}\n",
    "df = pd.DataFrame(data=d)"
   ]
  },
  {
   "cell_type": "code",
   "execution_count": 317,
   "id": "fa9ad117",
   "metadata": {},
   "outputs": [
    {
     "data": {
      "text/plain": [
       "'SELECT Product, UnitPrice, EffectiveDate FROM Products WHERE UnitPrice > 100'"
      ]
     },
     "execution_count": 317,
     "metadata": {},
     "output_type": "execute_result"
    }
   ],
   "source": [
    "\" \".join(df['Step Number'].values)"
   ]
  },
  {
   "cell_type": "code",
   "execution_count": 319,
   "id": "bd777359",
   "metadata": {},
   "outputs": [],
   "source": [
    "df = df.agg(sum)"
   ]
  },
  {
   "cell_type": "code",
   "execution_count": 321,
   "id": "43c5ef8a",
   "metadata": {},
   "outputs": [
    {
     "data": {
      "text/plain": [
       "'SELECTProduct,UnitPrice,EffectiveDateFROMProductsWHEREUnitPrice> 100'"
      ]
     },
     "execution_count": 321,
     "metadata": {},
     "output_type": "execute_result"
    }
   ],
   "source": [
    "df['Step Number']"
   ]
  },
  {
   "cell_type": "code",
   "execution_count": null,
   "id": "c42f77c2",
   "metadata": {},
   "outputs": [],
   "source": []
  },
  {
   "cell_type": "markdown",
   "id": "e4085274",
   "metadata": {},
   "source": [
    "### Puzzle 17"
   ]
  },
  {
   "cell_type": "code",
   "execution_count": 322,
   "id": "3dc8f727",
   "metadata": {},
   "outputs": [],
   "source": [
    "d = {'Product': [\"Pencil\", \"Eraser\", \"Notebook\"],\n",
    "     'Step Number': [3, 4, 2]}\n",
    "df = pd.DataFrame(data=d)"
   ]
  },
  {
   "cell_type": "code",
   "execution_count": 324,
   "id": "f28b44b7",
   "metadata": {},
   "outputs": [
    {
     "data": {
      "text/html": [
       "<div>\n",
       "<style scoped>\n",
       "    .dataframe tbody tr th:only-of-type {\n",
       "        vertical-align: middle;\n",
       "    }\n",
       "\n",
       "    .dataframe tbody tr th {\n",
       "        vertical-align: top;\n",
       "    }\n",
       "\n",
       "    .dataframe thead th {\n",
       "        text-align: right;\n",
       "    }\n",
       "</style>\n",
       "<table border=\"1\" class=\"dataframe\">\n",
       "  <thead>\n",
       "    <tr style=\"text-align: right;\">\n",
       "      <th></th>\n",
       "      <th>Product</th>\n",
       "      <th>Step Number</th>\n",
       "    </tr>\n",
       "  </thead>\n",
       "  <tbody>\n",
       "    <tr>\n",
       "      <th>0</th>\n",
       "      <td>Pencil</td>\n",
       "      <td>3</td>\n",
       "    </tr>\n",
       "    <tr>\n",
       "      <th>1</th>\n",
       "      <td>Eraser</td>\n",
       "      <td>4</td>\n",
       "    </tr>\n",
       "    <tr>\n",
       "      <th>2</th>\n",
       "      <td>Notebook</td>\n",
       "      <td>2</td>\n",
       "    </tr>\n",
       "  </tbody>\n",
       "</table>\n",
       "</div>"
      ],
      "text/plain": [
       "    Product  Step Number\n",
       "0    Pencil            3\n",
       "1    Eraser            4\n",
       "2  Notebook            2"
      ]
     },
     "execution_count": 324,
     "metadata": {},
     "output_type": "execute_result"
    }
   ],
   "source": [
    "df.head()"
   ]
  },
  {
   "cell_type": "code",
   "execution_count": 329,
   "id": "742c98aa",
   "metadata": {},
   "outputs": [
    {
     "data": {
      "text/plain": [
       "['1', '1', '1']"
      ]
     },
     "execution_count": 329,
     "metadata": {},
     "output_type": "execute_result"
    }
   ],
   "source": [
    "[\"1\"] * 3"
   ]
  },
  {
   "cell_type": "code",
   "execution_count": 331,
   "id": "6de808f1",
   "metadata": {},
   "outputs": [],
   "source": [
    "df['Step Number'] = df['Step Number'].map(lambda x: [\"1\"] * x)"
   ]
  },
  {
   "cell_type": "code",
   "execution_count": 332,
   "id": "198b47bf",
   "metadata": {},
   "outputs": [
    {
     "data": {
      "text/html": [
       "<div>\n",
       "<style scoped>\n",
       "    .dataframe tbody tr th:only-of-type {\n",
       "        vertical-align: middle;\n",
       "    }\n",
       "\n",
       "    .dataframe tbody tr th {\n",
       "        vertical-align: top;\n",
       "    }\n",
       "\n",
       "    .dataframe thead th {\n",
       "        text-align: right;\n",
       "    }\n",
       "</style>\n",
       "<table border=\"1\" class=\"dataframe\">\n",
       "  <thead>\n",
       "    <tr style=\"text-align: right;\">\n",
       "      <th></th>\n",
       "      <th>Product</th>\n",
       "      <th>Step Number</th>\n",
       "    </tr>\n",
       "  </thead>\n",
       "  <tbody>\n",
       "    <tr>\n",
       "      <th>0</th>\n",
       "      <td>Pencil</td>\n",
       "      <td>1</td>\n",
       "    </tr>\n",
       "    <tr>\n",
       "      <th>0</th>\n",
       "      <td>Pencil</td>\n",
       "      <td>1</td>\n",
       "    </tr>\n",
       "    <tr>\n",
       "      <th>0</th>\n",
       "      <td>Pencil</td>\n",
       "      <td>1</td>\n",
       "    </tr>\n",
       "    <tr>\n",
       "      <th>1</th>\n",
       "      <td>Eraser</td>\n",
       "      <td>1</td>\n",
       "    </tr>\n",
       "    <tr>\n",
       "      <th>1</th>\n",
       "      <td>Eraser</td>\n",
       "      <td>1</td>\n",
       "    </tr>\n",
       "    <tr>\n",
       "      <th>1</th>\n",
       "      <td>Eraser</td>\n",
       "      <td>1</td>\n",
       "    </tr>\n",
       "    <tr>\n",
       "      <th>1</th>\n",
       "      <td>Eraser</td>\n",
       "      <td>1</td>\n",
       "    </tr>\n",
       "    <tr>\n",
       "      <th>2</th>\n",
       "      <td>Notebook</td>\n",
       "      <td>1</td>\n",
       "    </tr>\n",
       "    <tr>\n",
       "      <th>2</th>\n",
       "      <td>Notebook</td>\n",
       "      <td>1</td>\n",
       "    </tr>\n",
       "  </tbody>\n",
       "</table>\n",
       "</div>"
      ],
      "text/plain": [
       "    Product Step Number\n",
       "0    Pencil           1\n",
       "0    Pencil           1\n",
       "0    Pencil           1\n",
       "1    Eraser           1\n",
       "1    Eraser           1\n",
       "1    Eraser           1\n",
       "1    Eraser           1\n",
       "2  Notebook           1\n",
       "2  Notebook           1"
      ]
     },
     "execution_count": 332,
     "metadata": {},
     "output_type": "execute_result"
    }
   ],
   "source": [
    "df.explode('Step Number')"
   ]
  },
  {
   "cell_type": "code",
   "execution_count": null,
   "id": "150be9f5",
   "metadata": {},
   "outputs": [],
   "source": []
  },
  {
   "cell_type": "code",
   "execution_count": null,
   "id": "78901662",
   "metadata": {},
   "outputs": [],
   "source": []
  }
 ],
 "metadata": {
  "kernelspec": {
   "display_name": "Python 3 (ipykernel)",
   "language": "python",
   "name": "python3"
  },
  "language_info": {
   "codemirror_mode": {
    "name": "ipython",
    "version": 3
   },
   "file_extension": ".py",
   "mimetype": "text/x-python",
   "name": "python",
   "nbconvert_exporter": "python",
   "pygments_lexer": "ipython3",
   "version": "3.9.7"
  }
 },
 "nbformat": 4,
 "nbformat_minor": 5
}
