{
 "cells": [
  {
   "cell_type": "code",
   "execution_count": 1,
   "id": "c68652e0",
   "metadata": {},
   "outputs": [],
   "source": [
    "import sqlite3\n",
    "conn = sqlite3.connect(':memory:')"
   ]
  },
  {
   "cell_type": "code",
   "execution_count": null,
   "id": "c81854a2",
   "metadata": {},
   "outputs": [],
   "source": [
    "!pip install ipython-sql"
   ]
  },
  {
   "cell_type": "code",
   "execution_count": 21,
   "id": "4904ad79",
   "metadata": {},
   "outputs": [
    {
     "ename": "SyntaxError",
     "evalue": "invalid syntax (Temp/ipykernel_18000/1028437723.py, line 3)",
     "output_type": "error",
     "traceback": [
      "\u001b[1;36m  File \u001b[1;32m\"C:\\Users\\the_r\\AppData\\Local\\Temp/ipykernel_18000/1028437723.py\"\u001b[1;36m, line \u001b[1;32m3\u001b[0m\n\u001b[1;33m    SELECT * FROM SampleData\u001b[0m\n\u001b[1;37m                  ^\u001b[0m\n\u001b[1;31mSyntaxError\u001b[0m\u001b[1;31m:\u001b[0m invalid syntax\n"
     ]
    }
   ],
   "source": [
    "%sql\n",
    "\n",
    "SELECT * FROM SampleData"
   ]
  },
  {
   "cell_type": "code",
   "execution_count": 3,
   "id": "1870c3e3",
   "metadata": {},
   "outputs": [],
   "source": [
    "cur = conn.cursor()"
   ]
  },
  {
   "cell_type": "code",
   "execution_count": null,
   "id": "e690ec58",
   "metadata": {},
   "outputs": [],
   "source": [
    "cur.execute(\"CREATE TABLE movie(title, year, score)\")"
   ]
  },
  {
   "cell_type": "code",
   "execution_count": 4,
   "id": "1c7ef4ba",
   "metadata": {},
   "outputs": [
    {
     "data": {
      "text/plain": [
       "<sqlite3.Cursor at 0x2293839d9d0>"
      ]
     },
     "execution_count": 4,
     "metadata": {},
     "output_type": "execute_result"
    }
   ],
   "source": [
    "cur.execute(\"CREATE TABLE SampleData (IntegerValue INTEGER);\")"
   ]
  },
  {
   "cell_type": "code",
   "execution_count": 5,
   "id": "e1eb9036",
   "metadata": {},
   "outputs": [
    {
     "data": {
      "text/plain": [
       "<sqlite3.Cursor at 0x2293839d9d0>"
      ]
     },
     "execution_count": 5,
     "metadata": {},
     "output_type": "execute_result"
    }
   ],
   "source": [
    "cur.execute(\"INSERT INTO SampleData VALUES(5),(6),(10),(10),(13), (14),(17),(20),(81),(90),(76);\")"
   ]
  },
  {
   "cell_type": "code",
   "execution_count": 22,
   "id": "fa19cdfe",
   "metadata": {},
   "outputs": [
    {
     "data": {
      "text/plain": [
       "<sqlite3.Cursor at 0x2293839d9d0>"
      ]
     },
     "execution_count": 22,
     "metadata": {},
     "output_type": "execute_result"
    }
   ],
   "source": [
    "cur.execute('SELECT * FROM SampleData')"
   ]
  },
  {
   "cell_type": "code",
   "execution_count": 24,
   "id": "59cd21ee",
   "metadata": {},
   "outputs": [
    {
     "data": {
      "text/plain": [
       "5"
      ]
     },
     "execution_count": 24,
     "metadata": {},
     "output_type": "execute_result"
    }
   ],
   "source": [
    "cur.fetchone()[0]"
   ]
  },
  {
   "cell_type": "code",
   "execution_count": 23,
   "id": "d17e0745",
   "metadata": {},
   "outputs": [
    {
     "data": {
      "text/plain": [
       "(('IntegerValue', None, None, None, None, None, None),)"
      ]
     },
     "execution_count": 23,
     "metadata": {},
     "output_type": "execute_result"
    }
   ],
   "source": [
    "cur.description"
   ]
  },
  {
   "cell_type": "code",
   "execution_count": 28,
   "id": "ae8674c6",
   "metadata": {},
   "outputs": [],
   "source": [
    "def executeSQL(conn, query):\n",
    "    \"\"\"\n",
    "    Query all rows in the tasks table\n",
    "    :param conn: the Connection object\n",
    "    :return:\n",
    "    \"\"\"\n",
    "    cur = conn.cursor()\n",
    "    cur.execute(query)"
   ]
  },
  {
   "cell_type": "code",
   "execution_count": null,
   "id": "a27a50ee",
   "metadata": {},
   "outputs": [],
   "source": []
  },
  {
   "cell_type": "code",
   "execution_count": 34,
   "id": "80504915",
   "metadata": {},
   "outputs": [],
   "source": [
    "def selectSQL(conn, query):\n",
    "    \"\"\"\n",
    "    Query all rows in the tasks table\n",
    "    :param conn: the Connection object\n",
    "    :return:\n",
    "    \"\"\"\n",
    "    cur = conn.cursor()\n",
    "    cur.execute(query)\n",
    "\n",
    "    rows = cur.fetchall()\n",
    "\n",
    "    for row in rows:\n",
    "        print(row)"
   ]
  },
  {
   "cell_type": "code",
   "execution_count": 35,
   "id": "d48f7367",
   "metadata": {},
   "outputs": [
    {
     "name": "stdout",
     "output_type": "stream",
     "text": [
      "(5,)\n",
      "(6,)\n",
      "(10,)\n",
      "(10,)\n",
      "(13,)\n",
      "(14,)\n",
      "(17,)\n",
      "(20,)\n",
      "(81,)\n",
      "(90,)\n",
      "(76,)\n"
     ]
    }
   ],
   "source": [
    "selectSQL(conn, \"SELECT * FROM SampleData\")"
   ]
  },
  {
   "cell_type": "code",
   "execution_count": 41,
   "id": "b77b006e",
   "metadata": {},
   "outputs": [],
   "source": [
    "query = \"\"\"\n",
    "SELECT *\n",
    "FROM SampleData\n",
    "WHERE IntegerValue = 10\n",
    "\"\"\""
   ]
  },
  {
   "cell_type": "code",
   "execution_count": 42,
   "id": "1494701c",
   "metadata": {},
   "outputs": [
    {
     "data": {
      "text/plain": [
       "[(10,), (10,)]"
      ]
     },
     "execution_count": 42,
     "metadata": {},
     "output_type": "execute_result"
    }
   ],
   "source": [
    "res = cur.execute(query)\n",
    "res.fetchall()"
   ]
  },
  {
   "cell_type": "code",
   "execution_count": null,
   "id": "eac78d6a",
   "metadata": {},
   "outputs": [],
   "source": []
  }
 ],
 "metadata": {
  "kernelspec": {
   "display_name": "Python 3 (ipykernel)",
   "language": "python",
   "name": "python3"
  },
  "language_info": {
   "codemirror_mode": {
    "name": "ipython",
    "version": 3
   },
   "file_extension": ".py",
   "mimetype": "text/x-python",
   "name": "python",
   "nbconvert_exporter": "python",
   "pygments_lexer": "ipython3",
   "version": "3.9.7"
  }
 },
 "nbformat": 4,
 "nbformat_minor": 5
}
