{
 "cells": [
  {
   "cell_type": "markdown",
   "id": "e614eafb",
   "metadata": {},
   "source": [
    "# Advanced SQL puzzles with PySpark"
   ]
  },
  {
   "cell_type": "code",
   "execution_count": 1,
   "id": "9c2e3975",
   "metadata": {},
   "outputs": [],
   "source": [
    "import pyspark"
   ]
  },
  {
   "cell_type": "code",
   "execution_count": 2,
   "id": "71eef177",
   "metadata": {},
   "outputs": [],
   "source": [
    "from pyspark import SparkContext\n",
    "from pyspark.sql import SparkSession"
   ]
  },
  {
   "cell_type": "code",
   "execution_count": 3,
   "id": "55c21cfc",
   "metadata": {},
   "outputs": [],
   "source": [
    "spark = SparkSession.builder.appName('PySpark DataFrame From RDD').getOrCreate()"
   ]
  },
  {
   "cell_type": "code",
   "execution_count": null,
   "id": "d3381482",
   "metadata": {},
   "outputs": [],
   "source": []
  },
  {
   "cell_type": "markdown",
   "id": "67640a6d",
   "metadata": {},
   "source": [
    "### Puzzle #1"
   ]
  },
  {
   "cell_type": "code",
   "execution_count": 48,
   "id": "0eae2b06",
   "metadata": {},
   "outputs": [
    {
     "name": "stdout",
     "output_type": "stream",
     "text": [
      "+-----+\n",
      "|Item |\n",
      "+-----+\n",
      "|Sugar|\n",
      "|Bread|\n",
      "|Juice|\n",
      "|Soda |\n",
      "|Flour|\n",
      "+-----+\n",
      "\n"
     ]
    }
   ],
   "source": [
    "rows1 = [(\"Sugar\", ), \n",
    "        (\"Bread\", ), \n",
    "        (\"Juice\", ), \n",
    "        (\"Soda\", ),\n",
    "        (\"Flour\", )\n",
    "      ]\n",
    "nameColumns1 = [\"Item\"]\n",
    "df1 = spark.createDataFrame(data=rows, schema = nameColumns1)\n",
    "df1.show(truncate=False)"
   ]
  },
  {
   "cell_type": "code",
   "execution_count": 49,
   "id": "35b1dc86",
   "metadata": {},
   "outputs": [
    {
     "name": "stdout",
     "output_type": "stream",
     "text": [
      "+------+\n",
      "|Item  |\n",
      "+------+\n",
      "|Sugar |\n",
      "|Bread |\n",
      "|Butter|\n",
      "|Cheese|\n",
      "|Fruit |\n",
      "+------+\n",
      "\n"
     ]
    }
   ],
   "source": [
    "rows1_ = [(\"Sugar\", ), \n",
    "          (\"Bread\", ), \n",
    "          (\"Butter\", ), \n",
    "          (\"Cheese\", ),\n",
    "          (\"Fruit\", )\n",
    "         ]\n",
    "nameColumns1_ = [\"Item\"]\n",
    "df1_ = spark.createDataFrame(data=rows1_, schema = nameColumns1_)\n",
    "df1_.show(truncate=False)"
   ]
  },
  {
   "cell_type": "code",
   "execution_count": 50,
   "id": "18a2cab5",
   "metadata": {},
   "outputs": [
    {
     "name": "stdout",
     "output_type": "stream",
     "text": [
      "+-----+------+\n",
      "|Item |Item  |\n",
      "+-----+------+\n",
      "|Bread|Bread |\n",
      "|null |Butter|\n",
      "|null |Cheese|\n",
      "|Flour|null  |\n",
      "|null |Fruit |\n",
      "|Juice|null  |\n",
      "|Soda |null  |\n",
      "|Sugar|Sugar |\n",
      "+-----+------+\n",
      "\n"
     ]
    }
   ],
   "source": [
    "df1.join(df1_, df1.Item ==  df1_.Item, \"outer\").show(truncate=False)"
   ]
  },
  {
   "cell_type": "code",
   "execution_count": null,
   "id": "62349c95",
   "metadata": {},
   "outputs": [],
   "source": []
  },
  {
   "cell_type": "markdown",
   "id": "020b1f44",
   "metadata": {},
   "source": [
    "### Puzzle #5"
   ]
  },
  {
   "cell_type": "code",
   "execution_count": 51,
   "id": "47255317",
   "metadata": {},
   "outputs": [
    {
     "name": "stdout",
     "output_type": "stream",
     "text": [
      "+-----------+--------+------------+\n",
      "|Customer ID|Type    |Phone Number|\n",
      "+-----------+--------+------------+\n",
      "|1001       |Cellular|555-897-5421|\n",
      "|1001       |Work    |555-897-6542|\n",
      "|1001       |Home    |555-698-9874|\n",
      "|2002       |Cellular|555-963-6544|\n",
      "|2002       |Work    |555-812-9856|\n",
      "|3003       |Cellular|555-987-6541|\n",
      "+-----------+--------+------------+\n",
      "\n"
     ]
    }
   ],
   "source": [
    "rows5 = [(\"1001\", \"Cellular\", \"555-897-5421\"), \n",
    "         (\"1001\", \"Work\", \"555-897-6542\"), \n",
    "         (\"1001\", \"Home\", \"555-698-9874\"), \n",
    "         (\"2002\", \"Cellular\", \"555-963-6544\"),\n",
    "         (\"2002\", \"Work\", \"555-812-9856\"),\n",
    "         (\"3003\", \"Cellular\", \"555-987-6541\")]\n",
    "nameColumns5 = [\"Customer ID\", \"Type\", \"Phone Number\"]\n",
    "df5 = spark.createDataFrame(data=rows5, schema = nameColumns5)\n",
    "df5.show(truncate=False)"
   ]
  },
  {
   "cell_type": "code",
   "execution_count": 56,
   "id": "f656443b",
   "metadata": {},
   "outputs": [
    {
     "name": "stdout",
     "output_type": "stream",
     "text": [
      "+-----------+--------+----+----+\n",
      "|Customer ID|Cellular|Home|Work|\n",
      "+-----------+--------+----+----+\n",
      "|       3003|       1|null|null|\n",
      "|       2002|       1|null|   1|\n",
      "|       1001|       1|   1|   1|\n",
      "+-----------+--------+----+----+\n",
      "\n"
     ]
    }
   ],
   "source": [
    "df5.groupBy(\"Customer ID\").pivot(\"Type\").count().show()"
   ]
  },
  {
   "cell_type": "code",
   "execution_count": null,
   "id": "c516cabb",
   "metadata": {},
   "outputs": [],
   "source": []
  }
 ],
 "metadata": {
  "kernelspec": {
   "display_name": "Python 3 (ipykernel)",
   "language": "python",
   "name": "python3"
  },
  "language_info": {
   "codemirror_mode": {
    "name": "ipython",
    "version": 3
   },
   "file_extension": ".py",
   "mimetype": "text/x-python",
   "name": "python",
   "nbconvert_exporter": "python",
   "pygments_lexer": "ipython3",
   "version": "3.10.8"
  }
 },
 "nbformat": 4,
 "nbformat_minor": 5
}
