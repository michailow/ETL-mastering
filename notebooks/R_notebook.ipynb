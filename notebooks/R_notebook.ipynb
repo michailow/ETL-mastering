{
 "cells": [
  {
   "cell_type": "markdown",
   "id": "f365a376",
   "metadata": {},
   "source": [
    "## Advanced SQL Puzzles with Pandas"
   ]
  },
  {
   "cell_type": "markdown",
   "id": "64394cfa",
   "metadata": {},
   "source": [
    "Solving and enjoing SQL puzzles wtih Pandas! <br>\n",
    "As author said:\n",
    ">Working through these puzzles will give you an understanding of the SQL language and what types of\n",
    "problems the SQL language best solves.\n",
    "\n",
    "First time I am using R language\n",
    "\n",
    "__[More about puzzles and author](https://advancedsqlpuzzles.com/)__"
   ]
  },
  {
   "cell_type": "markdown",
   "id": "02ced77c",
   "metadata": {},
   "source": [
    "### Setup"
   ]
  },
  {
   "cell_type": "code",
   "execution_count": null,
   "id": "393ad3a2",
   "metadata": {},
   "outputs": [],
   "source": [
    "!conda install -c r r-essentials"
   ]
  },
  {
   "cell_type": "code",
   "execution_count": 1,
   "id": "7b2b7d5d",
   "metadata": {},
   "outputs": [
    {
     "data": {
      "text/html": [],
      "text/latex": [],
      "text/markdown": [],
      "text/plain": [
       "character(0)"
      ]
     },
     "metadata": {},
     "output_type": "display_data"
    }
   ],
   "source": [
    "ls() "
   ]
  },
  {
   "cell_type": "code",
   "execution_count": 2,
   "id": "6fa1bcf7",
   "metadata": {},
   "outputs": [
    {
     "data": {
      "text/html": [
       "<ol class=list-inline>\n",
       "\t<li>'.GlobalEnv'</li>\n",
       "\t<li>'jupyter:irkernel'</li>\n",
       "\t<li>'package:stats'</li>\n",
       "\t<li>'package:graphics'</li>\n",
       "\t<li>'package:grDevices'</li>\n",
       "\t<li>'package:utils'</li>\n",
       "\t<li>'package:datasets'</li>\n",
       "\t<li>'package:methods'</li>\n",
       "\t<li>'Autoloads'</li>\n",
       "\t<li>'package:base'</li>\n",
       "</ol>\n"
      ],
      "text/latex": [
       "\\begin{enumerate*}\n",
       "\\item '.GlobalEnv'\n",
       "\\item 'jupyter:irkernel'\n",
       "\\item 'package:stats'\n",
       "\\item 'package:graphics'\n",
       "\\item 'package:grDevices'\n",
       "\\item 'package:utils'\n",
       "\\item 'package:datasets'\n",
       "\\item 'package:methods'\n",
       "\\item 'Autoloads'\n",
       "\\item 'package:base'\n",
       "\\end{enumerate*}\n"
      ],
      "text/markdown": [
       "1. '.GlobalEnv'\n",
       "2. 'jupyter:irkernel'\n",
       "3. 'package:stats'\n",
       "4. 'package:graphics'\n",
       "5. 'package:grDevices'\n",
       "6. 'package:utils'\n",
       "7. 'package:datasets'\n",
       "8. 'package:methods'\n",
       "9. 'Autoloads'\n",
       "10. 'package:base'\n",
       "\n",
       "\n"
      ],
      "text/plain": [
       " [1] \".GlobalEnv\"        \"jupyter:irkernel\"  \"package:stats\"    \n",
       " [4] \"package:graphics\"  \"package:grDevices\" \"package:utils\"    \n",
       " [7] \"package:datasets\"  \"package:methods\"   \"Autoloads\"        \n",
       "[10] \"package:base\"     "
      ]
     },
     "metadata": {},
     "output_type": "display_data"
    }
   ],
   "source": [
    "search()"
   ]
  },
  {
   "cell_type": "code",
   "execution_count": 4,
   "id": "46218ef6",
   "metadata": {},
   "outputs": [
    {
     "name": "stderr",
     "output_type": "stream",
     "text": [
      "also installing the dependencies 'cli', 'rlang'\n",
      "\n"
     ]
    },
    {
     "name": "stdout",
     "output_type": "stream",
     "text": [
      "\n",
      "  There are binary versions available but the source versions are later:\n",
      "          binary source needs_compilation\n",
      "cli        2.5.0  3.6.1              TRUE\n",
      "rlang     0.4.11  1.1.1              TRUE\n",
      "lifecycle  1.0.0  1.0.3             FALSE\n",
      "\n",
      "  Binaries will be installed\n",
      "package 'cli' successfully unpacked and MD5 sums checked\n",
      "package 'rlang' successfully unpacked and MD5 sums checked\n"
     ]
    },
    {
     "name": "stderr",
     "output_type": "stream",
     "text": [
      "Warning message:\n",
      "\"cannot remove prior installation of package 'rlang'\"Warning message in file.copy(savedcopy, lib, recursive = TRUE):\n",
      "\"problem copying C:\\Users\\the_r\\anaconda3\\Lib\\R\\library\\00LOCK\\rlang\\libs\\x64\\rlang.dll to C:\\Users\\the_r\\anaconda3\\Lib\\R\\library\\rlang\\libs\\x64\\rlang.dll: Permission denied\"Warning message:\n",
      "\"restored 'rlang'\""
     ]
    },
    {
     "name": "stdout",
     "output_type": "stream",
     "text": [
      "\n",
      "The downloaded binary packages are in\n",
      "\tC:\\Users\\the_r\\AppData\\Local\\Temp\\RtmpA7HDei\\downloaded_packages\n"
     ]
    },
    {
     "name": "stderr",
     "output_type": "stream",
     "text": [
      "installing the source package 'lifecycle'\n",
      "\n",
      "Warning message in install.packages(\"lifecycle\"):\n",
      "\"installation of package 'lifecycle' had non-zero exit status\""
     ]
    }
   ],
   "source": [
    "install.packages(\"lifecycle\")"
   ]
  },
  {
   "cell_type": "code",
   "execution_count": 3,
   "id": "3c0465ff",
   "metadata": {},
   "outputs": [
    {
     "name": "stderr",
     "output_type": "stream",
     "text": [
      "also installing the dependencies 'cli', 'lifecycle', 'pillar', 'rlang', 'tibble', 'tidyselect', 'vctrs'\n",
      "\n"
     ]
    },
    {
     "name": "stdout",
     "output_type": "stream",
     "text": [
      "\n",
      "  There are binary versions available but the source versions are later:\n",
      "           binary source needs_compilation\n",
      "cli         2.5.0  3.6.1              TRUE\n",
      "lifecycle   1.0.0  1.0.3             FALSE\n",
      "pillar      1.6.0  1.9.0             FALSE\n",
      "rlang      0.4.11  1.1.1              TRUE\n",
      "tibble      3.1.1  3.2.1              TRUE\n",
      "tidyselect  1.1.1  1.2.0             FALSE\n",
      "vctrs       0.3.8  0.6.2              TRUE\n",
      "dplyr       1.0.6  1.1.2              TRUE\n",
      "\n",
      "  Binaries will be installed\n",
      "package 'cli' successfully unpacked and MD5 sums checked\n",
      "package 'rlang' successfully unpacked and MD5 sums checked\n"
     ]
    },
    {
     "name": "stderr",
     "output_type": "stream",
     "text": [
      "Warning message:\n",
      "\"cannot remove prior installation of package 'rlang'\"Warning message in file.copy(savedcopy, lib, recursive = TRUE):\n",
      "\"problem copying C:\\Users\\the_r\\anaconda3\\Lib\\R\\library\\00LOCK\\rlang\\libs\\x64\\rlang.dll to C:\\Users\\the_r\\anaconda3\\Lib\\R\\library\\rlang\\libs\\x64\\rlang.dll: Permission denied\"Warning message:\n",
      "\"restored 'rlang'\""
     ]
    },
    {
     "name": "stdout",
     "output_type": "stream",
     "text": [
      "package 'tibble' successfully unpacked and MD5 sums checked\n",
      "package 'vctrs' successfully unpacked and MD5 sums checked\n"
     ]
    },
    {
     "name": "stderr",
     "output_type": "stream",
     "text": [
      "Warning message:\n",
      "\"cannot remove prior installation of package 'vctrs'\"Warning message in file.copy(savedcopy, lib, recursive = TRUE):\n",
      "\"problem copying C:\\Users\\the_r\\anaconda3\\Lib\\R\\library\\00LOCK\\vctrs\\libs\\x64\\vctrs.dll to C:\\Users\\the_r\\anaconda3\\Lib\\R\\library\\vctrs\\libs\\x64\\vctrs.dll: Permission denied\"Warning message:\n",
      "\"restored 'vctrs'\""
     ]
    },
    {
     "name": "stdout",
     "output_type": "stream",
     "text": [
      "package 'dplyr' successfully unpacked and MD5 sums checked\n",
      "\n",
      "The downloaded binary packages are in\n",
      "\tC:\\Users\\the_r\\AppData\\Local\\Temp\\RtmpA7HDei\\downloaded_packages\n"
     ]
    },
    {
     "name": "stderr",
     "output_type": "stream",
     "text": [
      "installing the source packages 'lifecycle', 'pillar', 'tidyselect'\n",
      "\n",
      "Warning message in install.packages(\"dplyr\"):\n",
      "\"installation of package 'lifecycle' had non-zero exit status\"Warning message in install.packages(\"dplyr\"):\n",
      "\"installation of package 'pillar' had non-zero exit status\"Warning message in install.packages(\"dplyr\"):\n",
      "\"installation of package 'tidyselect' had non-zero exit status\""
     ]
    }
   ],
   "source": [
    "install.packages(\"dplyr\")"
   ]
  },
  {
   "cell_type": "code",
   "execution_count": null,
   "id": "c510b537",
   "metadata": {},
   "outputs": [],
   "source": [
    "library(dplyr)"
   ]
  },
  {
   "cell_type": "markdown",
   "id": "ec74a1fc",
   "metadata": {},
   "source": [
    "### Puzzle 1"
   ]
  },
  {
   "cell_type": "code",
   "execution_count": null,
   "id": "7ba49aa6",
   "metadata": {},
   "outputs": [],
   "source": [
    "item <- c(\"Sugar\", \"Bread\", \"Juice\", \"Soda\", \"Flour\")\n",
    "df1 <- data.frame(item)"
   ]
  },
  {
   "cell_type": "code",
   "execution_count": null,
   "id": "cbcbb615",
   "metadata": {},
   "outputs": [],
   "source": [
    "print (df1)"
   ]
  },
  {
   "cell_type": "code",
   "execution_count": null,
   "id": "529c888e",
   "metadata": {},
   "outputs": [],
   "source": [
    "item <- c('Sugar', 'Bread', 'Butter', 'Cheese', 'Fruit')\n",
    "df1_ <- data.frame(item)"
   ]
  },
  {
   "cell_type": "code",
   "execution_count": null,
   "id": "48f4d703",
   "metadata": {},
   "outputs": [],
   "source": [
    "print (df1_)"
   ]
  },
  {
   "cell_type": "code",
   "execution_count": null,
   "id": "d318a9f4",
   "metadata": {},
   "outputs": [],
   "source": [
    "innerJoinDf <- full_join(df1,df1_,by=\"item\")"
   ]
  },
  {
   "cell_type": "code",
   "execution_count": null,
   "id": "b6179d57",
   "metadata": {},
   "outputs": [],
   "source": []
  },
  {
   "cell_type": "code",
   "execution_count": null,
   "id": "e9110d2e",
   "metadata": {},
   "outputs": [],
   "source": []
  }
 ],
 "metadata": {
  "kernelspec": {
   "display_name": "R",
   "language": "R",
   "name": "ir"
  },
  "language_info": {
   "codemirror_mode": "r",
   "file_extension": ".r",
   "mimetype": "text/x-r-source",
   "name": "R",
   "pygments_lexer": "r",
   "version": "3.6.1"
  }
 },
 "nbformat": 4,
 "nbformat_minor": 5
}
