{
 "cells": [
  {
   "cell_type": "markdown",
   "id": "f365a376",
   "metadata": {},
   "source": [
    "## Advanced SQL Puzzles with R"
   ]
  },
  {
   "cell_type": "markdown",
   "id": "64394cfa",
   "metadata": {},
   "source": [
    "Solving and enjoing SQL puzzles wtih R! <br>\n",
    "As author said:\n",
    ">Working through these puzzles will give you an understanding of the SQL language and what types of\n",
    "problems the SQL language best solves.\n",
    "\n",
    "First time I am using R language<br>\n",
    "Thanks to __Garrett Grolemund__ and his book __Hands-On Programming with R__\n",
    "\n",
    "__[More about puzzles and author](https://advancedsqlpuzzles.com/)__"
   ]
  },
  {
   "cell_type": "markdown",
   "id": "02ced77c",
   "metadata": {},
   "source": [
    "### Setup"
   ]
  },
  {
   "cell_type": "raw",
   "id": "c384292c",
   "metadata": {},
   "source": [
    "Install R.\n",
    "Use the R terminal to install R packages:\n",
    "install.packages(\"IRkernel\")\n",
    "IRkernel::installspec()\n",
    "IRkernel::installspec(user = FALSE)"
   ]
  },
  {
   "cell_type": "code",
   "execution_count": 1,
   "id": "64a3af28",
   "metadata": {},
   "outputs": [
    {
     "data": {
      "text/html": [
       "<dl>\n",
       "\t<dt>$platform</dt>\n",
       "\t\t<dd>'x86_64-w64-mingw32'</dd>\n",
       "\t<dt>$arch</dt>\n",
       "\t\t<dd>'x86_64'</dd>\n",
       "\t<dt>$os</dt>\n",
       "\t\t<dd>'mingw32'</dd>\n",
       "\t<dt>$crt</dt>\n",
       "\t\t<dd>'ucrt'</dd>\n",
       "\t<dt>$system</dt>\n",
       "\t\t<dd>'x86_64, mingw32'</dd>\n",
       "\t<dt>$status</dt>\n",
       "\t\t<dd>''</dd>\n",
       "\t<dt>$major</dt>\n",
       "\t\t<dd>'4'</dd>\n",
       "\t<dt>$minor</dt>\n",
       "\t\t<dd>'3.0'</dd>\n",
       "\t<dt>$year</dt>\n",
       "\t\t<dd>'2023'</dd>\n",
       "\t<dt>$month</dt>\n",
       "\t\t<dd>'04'</dd>\n",
       "\t<dt>$day</dt>\n",
       "\t\t<dd>'21'</dd>\n",
       "\t<dt>$`svn rev`</dt>\n",
       "\t\t<dd>'84292'</dd>\n",
       "\t<dt>$language</dt>\n",
       "\t\t<dd>'R'</dd>\n",
       "\t<dt>$version.string</dt>\n",
       "\t\t<dd>'R version 4.3.0 (2023-04-21 ucrt)'</dd>\n",
       "\t<dt>$nickname</dt>\n",
       "\t\t<dd>'Already Tomorrow'</dd>\n",
       "</dl>\n"
      ],
      "text/latex": [
       "\\begin{description}\n",
       "\\item[\\$platform] 'x86\\_64-w64-mingw32'\n",
       "\\item[\\$arch] 'x86\\_64'\n",
       "\\item[\\$os] 'mingw32'\n",
       "\\item[\\$crt] 'ucrt'\n",
       "\\item[\\$system] 'x86\\_64, mingw32'\n",
       "\\item[\\$status] ''\n",
       "\\item[\\$major] '4'\n",
       "\\item[\\$minor] '3.0'\n",
       "\\item[\\$year] '2023'\n",
       "\\item[\\$month] '04'\n",
       "\\item[\\$day] '21'\n",
       "\\item[\\$`svn rev`] '84292'\n",
       "\\item[\\$language] 'R'\n",
       "\\item[\\$version.string] 'R version 4.3.0 (2023-04-21 ucrt)'\n",
       "\\item[\\$nickname] 'Already Tomorrow'\n",
       "\\end{description}\n"
      ],
      "text/markdown": [
       "$platform\n",
       ":   'x86_64-w64-mingw32'\n",
       "$arch\n",
       ":   'x86_64'\n",
       "$os\n",
       ":   'mingw32'\n",
       "$crt\n",
       ":   'ucrt'\n",
       "$system\n",
       ":   'x86_64, mingw32'\n",
       "$status\n",
       ":   ''\n",
       "$major\n",
       ":   '4'\n",
       "$minor\n",
       ":   '3.0'\n",
       "$year\n",
       ":   '2023'\n",
       "$month\n",
       ":   '04'\n",
       "$day\n",
       ":   '21'\n",
       "$`svn rev`\n",
       ":   '84292'\n",
       "$language\n",
       ":   'R'\n",
       "$version.string\n",
       ":   'R version 4.3.0 (2023-04-21 ucrt)'\n",
       "$nickname\n",
       ":   'Already Tomorrow'\n",
       "\n",
       "\n"
      ],
      "text/plain": [
       "$platform\n",
       "[1] \"x86_64-w64-mingw32\"\n",
       "\n",
       "$arch\n",
       "[1] \"x86_64\"\n",
       "\n",
       "$os\n",
       "[1] \"mingw32\"\n",
       "\n",
       "$crt\n",
       "[1] \"ucrt\"\n",
       "\n",
       "$system\n",
       "[1] \"x86_64, mingw32\"\n",
       "\n",
       "$status\n",
       "[1] \"\"\n",
       "\n",
       "$major\n",
       "[1] \"4\"\n",
       "\n",
       "$minor\n",
       "[1] \"3.0\"\n",
       "\n",
       "$year\n",
       "[1] \"2023\"\n",
       "\n",
       "$month\n",
       "[1] \"04\"\n",
       "\n",
       "$day\n",
       "[1] \"21\"\n",
       "\n",
       "$`svn rev`\n",
       "[1] \"84292\"\n",
       "\n",
       "$language\n",
       "[1] \"R\"\n",
       "\n",
       "$version.string\n",
       "[1] \"R version 4.3.0 (2023-04-21 ucrt)\"\n",
       "\n",
       "$nickname\n",
       "[1] \"Already Tomorrow\"\n"
      ]
     },
     "metadata": {},
     "output_type": "display_data"
    }
   ],
   "source": [
    "R.Version()"
   ]
  },
  {
   "cell_type": "code",
   "execution_count": 2,
   "id": "3c0465ff",
   "metadata": {},
   "outputs": [
    {
     "name": "stderr",
     "output_type": "stream",
     "text": [
      "Installing package into 'C:/Users/the_r/AppData/Local/R/win-library/4.3'\n",
      "(as 'lib' is unspecified)\n",
      "\n",
      "also installing the dependencies 'pkgconfig', 'withr', 'generics', 'magrittr', 'R6', 'tibble', 'tidyselect'\n",
      "\n",
      "\n"
     ]
    },
    {
     "name": "stdout",
     "output_type": "stream",
     "text": [
      "package 'pkgconfig' successfully unpacked and MD5 sums checked\n",
      "package 'withr' successfully unpacked and MD5 sums checked\n",
      "package 'generics' successfully unpacked and MD5 sums checked\n",
      "package 'magrittr' successfully unpacked and MD5 sums checked\n",
      "package 'R6' successfully unpacked and MD5 sums checked\n",
      "package 'tibble' successfully unpacked and MD5 sums checked\n",
      "package 'tidyselect' successfully unpacked and MD5 sums checked\n",
      "package 'dplyr' successfully unpacked and MD5 sums checked\n",
      "\n",
      "The downloaded binary packages are in\n",
      "\tC:\\Users\\the_r\\AppData\\Local\\Temp\\RtmpMDSVwF\\downloaded_packages\n"
     ]
    }
   ],
   "source": [
    "install.packages(\"dplyr\")"
   ]
  },
  {
   "cell_type": "code",
   "execution_count": 3,
   "id": "c510b537",
   "metadata": {},
   "outputs": [
    {
     "name": "stderr",
     "output_type": "stream",
     "text": [
      "\n",
      "Attaching package: 'dplyr'\n",
      "\n",
      "\n",
      "The following objects are masked from 'package:stats':\n",
      "\n",
      "    filter, lag\n",
      "\n",
      "\n",
      "The following objects are masked from 'package:base':\n",
      "\n",
      "    intersect, setdiff, setequal, union\n",
      "\n",
      "\n"
     ]
    }
   ],
   "source": [
    "library(dplyr)"
   ]
  },
  {
   "cell_type": "code",
   "execution_count": null,
   "id": "e0a29dcd",
   "metadata": {},
   "outputs": [],
   "source": []
  },
  {
   "cell_type": "code",
   "execution_count": 39,
   "id": "798b1138",
   "metadata": {},
   "outputs": [
    {
     "name": "stderr",
     "output_type": "stream",
     "text": [
      "Installing package into 'C:/Users/the_r/AppData/Local/R/win-library/4.3'\n",
      "(as 'lib' is unspecified)\n",
      "\n",
      "also installing the dependencies 'fs', 'rappdirs', 'sass', 'cachem', 'memoise', 'mime', 'stringi', 'highr', 'xfun', 'bslib', 'fontawesome', 'jquerylib', 'stringr', 'tinytex', 'yaml', 'knitr', 'rmarkdown', 'data.table', 'htmlwidgets'\n",
      "\n",
      "\n"
     ]
    },
    {
     "name": "stdout",
     "output_type": "stream",
     "text": [
      "package 'fs' successfully unpacked and MD5 sums checked\n",
      "package 'rappdirs' successfully unpacked and MD5 sums checked\n",
      "package 'sass' successfully unpacked and MD5 sums checked\n",
      "package 'cachem' successfully unpacked and MD5 sums checked\n",
      "package 'memoise' successfully unpacked and MD5 sums checked\n",
      "package 'mime' successfully unpacked and MD5 sums checked\n",
      "package 'stringi' successfully unpacked and MD5 sums checked\n",
      "package 'highr' successfully unpacked and MD5 sums checked\n",
      "package 'xfun' successfully unpacked and MD5 sums checked\n",
      "package 'bslib' successfully unpacked and MD5 sums checked\n",
      "package 'fontawesome' successfully unpacked and MD5 sums checked\n",
      "package 'jquerylib' successfully unpacked and MD5 sums checked\n",
      "package 'stringr' successfully unpacked and MD5 sums checked\n",
      "package 'tinytex' successfully unpacked and MD5 sums checked\n",
      "package 'yaml' successfully unpacked and MD5 sums checked\n",
      "package 'knitr' successfully unpacked and MD5 sums checked\n",
      "package 'rmarkdown' successfully unpacked and MD5 sums checked\n",
      "package 'data.table' successfully unpacked and MD5 sums checked\n",
      "package 'htmlwidgets' successfully unpacked and MD5 sums checked\n",
      "package 'pivottabler' successfully unpacked and MD5 sums checked\n",
      "\n",
      "The downloaded binary packages are in\n",
      "\tC:\\Users\\the_r\\AppData\\Local\\Temp\\RtmpMDSVwF\\downloaded_packages\n"
     ]
    }
   ],
   "source": [
    "install.packages(\"pivottabler\")"
   ]
  },
  {
   "cell_type": "code",
   "execution_count": 40,
   "id": "9bc3a532",
   "metadata": {},
   "outputs": [],
   "source": [
    "library(pivottabler)"
   ]
  },
  {
   "cell_type": "code",
   "execution_count": null,
   "id": "03d85cf6",
   "metadata": {},
   "outputs": [],
   "source": []
  },
  {
   "cell_type": "markdown",
   "id": "ec74a1fc",
   "metadata": {},
   "source": [
    "### Puzzle 1"
   ]
  },
  {
   "cell_type": "code",
   "execution_count": 4,
   "id": "7ba49aa6",
   "metadata": {},
   "outputs": [],
   "source": [
    "item <- c(\"Sugar\", \"Bread\", \"Juice\", \"Soda\", \"Flour\")\n",
    "df1 <- data.frame(item)"
   ]
  },
  {
   "cell_type": "code",
   "execution_count": 25,
   "id": "cbcbb615",
   "metadata": {},
   "outputs": [
    {
     "name": "stdout",
     "output_type": "stream",
     "text": [
      "   item ItemsCart1\n",
      "1 Sugar      Sugar\n",
      "2 Bread      Bread\n",
      "3 Juice      Juice\n",
      "4  Soda       Soda\n",
      "5 Flour      Flour\n"
     ]
    }
   ],
   "source": [
    "print (df1)"
   ]
  },
  {
   "cell_type": "code",
   "execution_count": 6,
   "id": "529c888e",
   "metadata": {},
   "outputs": [],
   "source": [
    "item <- c('Sugar', 'Bread', 'Butter', 'Cheese', 'Fruit')\n",
    "df1_ <- data.frame(item)"
   ]
  },
  {
   "cell_type": "code",
   "execution_count": 26,
   "id": "48f4d703",
   "metadata": {},
   "outputs": [
    {
     "name": "stdout",
     "output_type": "stream",
     "text": [
      "    item ItemsCart1\n",
      "1  Sugar      Sugar\n",
      "2  Bread      Bread\n",
      "3 Butter     Butter\n",
      "4 Cheese     Cheese\n",
      "5  Fruit      Fruit\n"
     ]
    }
   ],
   "source": [
    "print (df1_)"
   ]
  },
  {
   "cell_type": "code",
   "execution_count": 23,
   "id": "5ad3728f",
   "metadata": {},
   "outputs": [],
   "source": [
    "df1$ItemsCart1 = df1$item"
   ]
  },
  {
   "cell_type": "code",
   "execution_count": 24,
   "id": "0f4e18c6",
   "metadata": {},
   "outputs": [],
   "source": [
    "df1_$ItemsCart1 = df1_$item"
   ]
  },
  {
   "cell_type": "code",
   "execution_count": 27,
   "id": "d318a9f4",
   "metadata": {},
   "outputs": [],
   "source": [
    "full_join <- full_join(df1,df1_,by=\"item\")"
   ]
  },
  {
   "cell_type": "code",
   "execution_count": 28,
   "id": "b6179d57",
   "metadata": {},
   "outputs": [
    {
     "name": "stdout",
     "output_type": "stream",
     "text": [
      "    item ItemsCart1.x ItemsCart1.y\n",
      "1  Sugar        Sugar        Sugar\n",
      "2  Bread        Bread        Bread\n",
      "3  Juice        Juice         <NA>\n",
      "4   Soda         Soda         <NA>\n",
      "5  Flour        Flour         <NA>\n",
      "6 Butter         <NA>       Butter\n",
      "7 Cheese         <NA>       Cheese\n",
      "8  Fruit         <NA>        Fruit\n"
     ]
    }
   ],
   "source": [
    "print (full_join)"
   ]
  },
  {
   "cell_type": "code",
   "execution_count": 31,
   "id": "ca3ce64a",
   "metadata": {},
   "outputs": [
    {
     "data": {
      "text/html": [
       "<table class=\"dataframe\">\n",
       "<caption>A data.frame: 8 × 2</caption>\n",
       "<thead>\n",
       "\t<tr><th scope=col>ItemsCart1.x</th><th scope=col>ItemsCart1.y</th></tr>\n",
       "\t<tr><th scope=col>&lt;chr&gt;</th><th scope=col>&lt;chr&gt;</th></tr>\n",
       "</thead>\n",
       "<tbody>\n",
       "\t<tr><td>Sugar</td><td>Sugar </td></tr>\n",
       "\t<tr><td>Bread</td><td>Bread </td></tr>\n",
       "\t<tr><td>Juice</td><td>NA    </td></tr>\n",
       "\t<tr><td>Soda </td><td>NA    </td></tr>\n",
       "\t<tr><td>Flour</td><td>NA    </td></tr>\n",
       "\t<tr><td>NA   </td><td>Butter</td></tr>\n",
       "\t<tr><td>NA   </td><td>Cheese</td></tr>\n",
       "\t<tr><td>NA   </td><td>Fruit </td></tr>\n",
       "</tbody>\n",
       "</table>\n"
      ],
      "text/latex": [
       "A data.frame: 8 × 2\n",
       "\\begin{tabular}{ll}\n",
       " ItemsCart1.x & ItemsCart1.y\\\\\n",
       " <chr> & <chr>\\\\\n",
       "\\hline\n",
       "\t Sugar & Sugar \\\\\n",
       "\t Bread & Bread \\\\\n",
       "\t Juice & NA    \\\\\n",
       "\t Soda  & NA    \\\\\n",
       "\t Flour & NA    \\\\\n",
       "\t NA    & Butter\\\\\n",
       "\t NA    & Cheese\\\\\n",
       "\t NA    & Fruit \\\\\n",
       "\\end{tabular}\n"
      ],
      "text/markdown": [
       "\n",
       "A data.frame: 8 × 2\n",
       "\n",
       "| ItemsCart1.x &lt;chr&gt; | ItemsCart1.y &lt;chr&gt; |\n",
       "|---|---|\n",
       "| Sugar | Sugar  |\n",
       "| Bread | Bread  |\n",
       "| Juice | NA     |\n",
       "| Soda  | NA     |\n",
       "| Flour | NA     |\n",
       "| NA    | Butter |\n",
       "| NA    | Cheese |\n",
       "| NA    | Fruit  |\n",
       "\n"
      ],
      "text/plain": [
       "  ItemsCart1.x ItemsCart1.y\n",
       "1 Sugar        Sugar       \n",
       "2 Bread        Bread       \n",
       "3 Juice        NA          \n",
       "4 Soda         NA          \n",
       "5 Flour        NA          \n",
       "6 NA           Butter      \n",
       "7 NA           Cheese      \n",
       "8 NA           Fruit       "
      ]
     },
     "metadata": {},
     "output_type": "display_data"
    }
   ],
   "source": [
    "full_join[,c(2,3)]"
   ]
  },
  {
   "cell_type": "code",
   "execution_count": null,
   "id": "699765f1",
   "metadata": {},
   "outputs": [],
   "source": []
  },
  {
   "cell_type": "markdown",
   "id": "a6d538dd",
   "metadata": {},
   "source": [
    "###  Puzzle #4"
   ]
  },
  {
   "cell_type": "code",
   "execution_count": 42,
   "id": "44ff0364",
   "metadata": {},
   "outputs": [],
   "source": [
    "CustomerID <- c(1001, 1001, 1001, 1001, 2002, 3003, 3003, 4004)\n",
    "OrderID <- c(1, 2, 3, 4, 5, 6, 7, 8)\n",
    "DeliveryState <- c('CA', 'TX', 'TX', 'TX', 'WA', 'CA', \"CA\", 'TX')\n",
    "Amount <- c(\"$340\", '$950', '$670', '$860', '$320', '$650', '$830', '$120')\n",
    "df4 = data.frame(CustomerID, OrderID, DeliveryState, Amount)"
   ]
  },
  {
   "cell_type": "code",
   "execution_count": 44,
   "id": "6cd95c86",
   "metadata": {},
   "outputs": [
    {
     "name": "stdout",
     "output_type": "stream",
     "text": [
      "  CustomerID OrderID DeliveryState Amount\n",
      "1       1001       1            CA   $340\n",
      "2       1001       2            TX   $950\n",
      "3       1001       3            TX   $670\n",
      "4       1001       4            TX   $860\n",
      "5       2002       5            WA   $320\n",
      "6       3003       6            CA   $650\n",
      "7       3003       7            CA   $830\n",
      "8       4004       8            TX   $120\n"
     ]
    }
   ],
   "source": [
    "print (df4)"
   ]
  },
  {
   "cell_type": "code",
   "execution_count": 48,
   "id": "581f8d4c",
   "metadata": {},
   "outputs": [
    {
     "data": {
      "text/html": [
       "<table class=\"dataframe\">\n",
       "<caption>A data.frame: 4 × 4</caption>\n",
       "<thead>\n",
       "\t<tr><th scope=col>CustomerID</th><th scope=col>OrderID</th><th scope=col>DeliveryState</th><th scope=col>Amount</th></tr>\n",
       "\t<tr><th scope=col>&lt;dbl&gt;</th><th scope=col>&lt;dbl&gt;</th><th scope=col>&lt;chr&gt;</th><th scope=col>&lt;chr&gt;</th></tr>\n",
       "</thead>\n",
       "<tbody>\n",
       "\t<tr><td>1001</td><td>2</td><td>TX</td><td>$950</td></tr>\n",
       "\t<tr><td>1001</td><td>3</td><td>TX</td><td>$670</td></tr>\n",
       "\t<tr><td>1001</td><td>4</td><td>TX</td><td>$860</td></tr>\n",
       "\t<tr><td>4004</td><td>8</td><td>TX</td><td>$120</td></tr>\n",
       "</tbody>\n",
       "</table>\n"
      ],
      "text/latex": [
       "A data.frame: 4 × 4\n",
       "\\begin{tabular}{llll}\n",
       " CustomerID & OrderID & DeliveryState & Amount\\\\\n",
       " <dbl> & <dbl> & <chr> & <chr>\\\\\n",
       "\\hline\n",
       "\t 1001 & 2 & TX & \\$950\\\\\n",
       "\t 1001 & 3 & TX & \\$670\\\\\n",
       "\t 1001 & 4 & TX & \\$860\\\\\n",
       "\t 4004 & 8 & TX & \\$120\\\\\n",
       "\\end{tabular}\n"
      ],
      "text/markdown": [
       "\n",
       "A data.frame: 4 × 4\n",
       "\n",
       "| CustomerID &lt;dbl&gt; | OrderID &lt;dbl&gt; | DeliveryState &lt;chr&gt; | Amount &lt;chr&gt; |\n",
       "|---|---|---|---|\n",
       "| 1001 | 2 | TX | $950 |\n",
       "| 1001 | 3 | TX | $670 |\n",
       "| 1001 | 4 | TX | $860 |\n",
       "| 4004 | 8 | TX | $120 |\n",
       "\n"
      ],
      "text/plain": [
       "  CustomerID OrderID DeliveryState Amount\n",
       "1 1001       2       TX            $950  \n",
       "2 1001       3       TX            $670  \n",
       "3 1001       4       TX            $860  \n",
       "4 4004       8       TX            $120  "
      ]
     },
     "metadata": {},
     "output_type": "display_data"
    }
   ],
   "source": [
    "filter(df4, DeliveryState == 'TX')"
   ]
  },
  {
   "cell_type": "code",
   "execution_count": null,
   "id": "fdd06a52",
   "metadata": {},
   "outputs": [],
   "source": [
    "head(dnow,4)"
   ]
  },
  {
   "cell_type": "code",
   "execution_count": null,
   "id": "f9d854f6",
   "metadata": {},
   "outputs": [],
   "source": []
  },
  {
   "cell_type": "code",
   "execution_count": null,
   "id": "19c3a590",
   "metadata": {},
   "outputs": [],
   "source": []
  },
  {
   "cell_type": "markdown",
   "id": "dfbad107",
   "metadata": {},
   "source": [
    "###  Puzzle #5"
   ]
  },
  {
   "cell_type": "code",
   "execution_count": 36,
   "id": "fa765d48",
   "metadata": {},
   "outputs": [],
   "source": [
    "CustomerID  <- c(1001, 1001, 1001, 2002, 2002, 3003)\n",
    "Type <- c(\"Cellular\", \"Work\", \"Home\", \"Cellular\", \"Work\", \"Cellular\")\n",
    "PhoneNumber <- c('555-897-5421', '555-897-6542', '555-698-9874', '555-963-6544', '555-812-9856', '555-987-6541')\n",
    "df5 <- data.frame(CustomerID, Type, PhoneNumber)"
   ]
  },
  {
   "cell_type": "code",
   "execution_count": 45,
   "id": "97c6d8ce",
   "metadata": {},
   "outputs": [
    {
     "name": "stdout",
     "output_type": "stream",
     "text": [
      "  CustomerID     Type  PhoneNumber\n",
      "1       1001 Cellular 555-897-5421\n",
      "2       1001     Work 555-897-6542\n",
      "3       1001     Home 555-698-9874\n",
      "4       2002 Cellular 555-963-6544\n",
      "5       2002     Work 555-812-9856\n",
      "6       3003 Cellular 555-987-6541\n"
     ]
    }
   ],
   "source": [
    "print (df5)"
   ]
  },
  {
   "cell_type": "code",
   "execution_count": null,
   "id": "1780aac0",
   "metadata": {},
   "outputs": [],
   "source": []
  },
  {
   "cell_type": "code",
   "execution_count": null,
   "id": "e9110d2e",
   "metadata": {},
   "outputs": [],
   "source": []
  }
 ],
 "metadata": {
  "kernelspec": {
   "display_name": "R",
   "language": "R",
   "name": "ir"
  },
  "language_info": {
   "codemirror_mode": "r",
   "file_extension": ".r",
   "mimetype": "text/x-r-source",
   "name": "R",
   "pygments_lexer": "r",
   "version": "4.3.0"
  }
 },
 "nbformat": 4,
 "nbformat_minor": 5
}
