{
 "cells": [
  {
   "cell_type": "code",
   "execution_count": 1,
   "id": "145fbe79",
   "metadata": {},
   "outputs": [
    {
     "name": "stdout",
     "output_type": "stream",
     "text": [
      "Defaulting to user installation because normal site-packages is not writeable\n"
     ]
    },
    {
     "name": "stderr",
     "output_type": "stream",
     "text": [
      "ERROR: Could not open requirements file: [Errno 2] No such file or directory: 'r'\n",
      "WARNING: You are using pip version 21.3.1; however, version 23.1.2 is available.\n",
      "You should consider upgrading via the 'C:\\Program Files\\Python39\\python.exe -m pip install --upgrade pip' command.\n"
     ]
    }
   ],
   "source": [
    "!pip install -c r r-essentials"
   ]
  },
  {
   "cell_type": "code",
   "execution_count": 2,
   "id": "26c0110c",
   "metadata": {},
   "outputs": [
    {
     "name": "stdout",
     "output_type": "stream",
     "text": [
      "Defaulting to user installation because normal site-packages is not writeable\n",
      "Collecting rpy2\n",
      "  Downloading rpy2-3.5.12.tar.gz (217 kB)\n",
      "  Installing build dependencies: started\n",
      "  Installing build dependencies: finished with status 'done'\n",
      "  Getting requirements to build wheel: started\n"
     ]
    },
    {
     "name": "stderr",
     "output_type": "stream",
     "text": [
      "WARNING: You are using pip version 21.3.1; however, version 23.1.2 is available.\n",
      "You should consider upgrading via the 'C:\\Program Files\\Python39\\python.exe -m pip install --upgrade pip' command.\n"
     ]
    },
    {
     "name": "stdout",
     "output_type": "stream",
     "text": [
      "  Getting requirements to build wheel: finished with status 'done'\n",
      "  Preparing metadata (pyproject.toml): started\n",
      "  Preparing metadata (pyproject.toml): finished with status 'done'\n",
      "Collecting tzlocal<5.0\n",
      "  Downloading tzlocal-4.3-py3-none-any.whl (20 kB)\n",
      "Requirement already satisfied: pytz in c:\\users\\the_r\\appdata\\roaming\\python\\python39\\site-packages (from rpy2) (2021.1)\n",
      "Requirement already satisfied: cffi>=1.10.0 in c:\\users\\the_r\\appdata\\roaming\\python\\python39\\site-packages (from rpy2) (1.14.6)\n",
      "Requirement already satisfied: jinja2 in c:\\users\\the_r\\appdata\\roaming\\python\\python39\\site-packages (from rpy2) (2.11.3)\n",
      "Requirement already satisfied: packaging in c:\\users\\the_r\\appdata\\roaming\\python\\python39\\site-packages (from rpy2) (21.0)\n",
      "Requirement already satisfied: pycparser in c:\\users\\the_r\\appdata\\roaming\\python\\python39\\site-packages (from cffi>=1.10.0->rpy2) (2.20)\n",
      "Collecting pytz-deprecation-shim\n",
      "  Downloading pytz_deprecation_shim-0.1.0.post0-py2.py3-none-any.whl (15 kB)\n",
      "Collecting tzdata\n",
      "  Downloading tzdata-2023.3-py2.py3-none-any.whl (341 kB)\n",
      "Requirement already satisfied: MarkupSafe>=0.23 in c:\\users\\the_r\\appdata\\roaming\\python\\python39\\site-packages (from jinja2->rpy2) (1.1.1)\n",
      "Requirement already satisfied: pyparsing>=2.0.2 in c:\\users\\the_r\\appdata\\roaming\\python\\python39\\site-packages (from packaging->rpy2) (2.4.7)\n",
      "Building wheels for collected packages: rpy2\n",
      "  Building wheel for rpy2 (pyproject.toml): started\n",
      "  Building wheel for rpy2 (pyproject.toml): finished with status 'done'\n",
      "  Created wheel for rpy2: filename=rpy2-3.5.12-py3-none-any.whl size=219769 sha256=1cdec6042f50b2643d2382244daaf3c86225e60bafe45519f83fb55cbf0e7d83\n",
      "  Stored in directory: c:\\users\\the_r\\appdata\\local\\pip\\cache\\wheels\\f2\\5f\\63\\fb633ae683692191bd4f6d293bc6334f3eb3c1668313a5c53e\n",
      "Successfully built rpy2\n",
      "Installing collected packages: tzdata, pytz-deprecation-shim, tzlocal, rpy2\n",
      "Successfully installed pytz-deprecation-shim-0.1.0.post0 rpy2-3.5.12 tzdata-2023.3 tzlocal-4.3\n"
     ]
    }
   ],
   "source": [
    "!pip install rpy2"
   ]
  },
  {
   "cell_type": "code",
   "execution_count": null,
   "id": "614dc551",
   "metadata": {},
   "outputs": [],
   "source": []
  }
 ],
 "metadata": {
  "kernelspec": {
   "display_name": "Python 3 (ipykernel)",
   "language": "python",
   "name": "python3"
  },
  "language_info": {
   "codemirror_mode": {
    "name": "ipython",
    "version": 3
   },
   "file_extension": ".py",
   "mimetype": "text/x-python",
   "name": "python",
   "nbconvert_exporter": "python",
   "pygments_lexer": "ipython3",
   "version": "3.9.7"
  }
 },
 "nbformat": 4,
 "nbformat_minor": 5
}
