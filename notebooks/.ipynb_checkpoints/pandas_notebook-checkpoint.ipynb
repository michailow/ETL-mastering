{
 "cells": [
  {
   "cell_type": "markdown",
   "id": "8c87b938",
   "metadata": {},
   "source": [
    "## Advanced SQL Puzzles with Pandas"
   ]
  },
  {
   "cell_type": "markdown",
   "id": "65d19140",
   "metadata": {},
   "source": [
    "Solving and enjoing SQL puzzles wtih Pandas! <br>\n",
    "As author said:\n",
    ">Working through these puzzles will give you an understanding of the SQL language and what types of\n",
    "problems the SQL language best solves.\n",
    "\n",
    "From 4 notebooks, __Pandas__ in the easiest one. The framework have a lot of tools, methods and good documentation.<br>\n",
    "Sometimes tasks that should be difficult are solved by 2 functions.\n",
    "\n",
    "__[More about puzzles and author](https://advancedsqlpuzzles.com/)__"
   ]
  },
  {
   "cell_type": "markdown",
   "id": "accca469",
   "metadata": {},
   "source": [
    "### Setup"
   ]
  },
  {
   "cell_type": "code",
   "execution_count": 1,
   "id": "38a3d529",
   "metadata": {},
   "outputs": [],
   "source": [
    "import numpy as np\n",
    "import pandas as pd"
   ]
  },
  {
   "cell_type": "code",
   "execution_count": 2,
   "id": "04432cff",
   "metadata": {},
   "outputs": [
    {
     "name": "stdout",
     "output_type": "stream",
     "text": [
      "Python 3.9.7\n"
     ]
    }
   ],
   "source": [
    "!python --version"
   ]
  },
  {
   "cell_type": "code",
   "execution_count": 3,
   "id": "cacee39f",
   "metadata": {},
   "outputs": [
    {
     "data": {
      "text/plain": [
       "'1.20.3'"
      ]
     },
     "execution_count": 3,
     "metadata": {},
     "output_type": "execute_result"
    }
   ],
   "source": [
    "np.__version__"
   ]
  },
  {
   "cell_type": "code",
   "execution_count": 4,
   "id": "9f28982e",
   "metadata": {},
   "outputs": [
    {
     "data": {
      "text/plain": [
       "'1.3.2'"
      ]
     },
     "execution_count": 4,
     "metadata": {},
     "output_type": "execute_result"
    }
   ],
   "source": [
    "pd.__version__"
   ]
  },
  {
   "cell_type": "markdown",
   "id": "fdfe32f2",
   "metadata": {},
   "source": [
    "### Puzzle 1"
   ]
  },
  {
   "cell_type": "code",
   "execution_count": 7,
   "id": "170e2a1b",
   "metadata": {},
   "outputs": [],
   "source": [
    "d11 = {'item': ['Sugar', 'Bread', 'Juice', 'Soda', 'Flour']}\n",
    "df11 = pd.DataFrame(data=d11)"
   ]
  },
  {
   "cell_type": "code",
   "execution_count": 8,
   "id": "880a825f",
   "metadata": {},
   "outputs": [],
   "source": [
    "d12 = {'item': ['Sugar', 'Bread', 'Butter', 'Cheese', 'Fruit']}\n",
    "df12 = pd.DataFrame(data=d12)"
   ]
  },
  {
   "cell_type": "code",
   "execution_count": 9,
   "id": "b1724709",
   "metadata": {},
   "outputs": [
    {
     "data": {
      "text/html": [
       "<div>\n",
       "<style scoped>\n",
       "    .dataframe tbody tr th:only-of-type {\n",
       "        vertical-align: middle;\n",
       "    }\n",
       "\n",
       "    .dataframe tbody tr th {\n",
       "        vertical-align: top;\n",
       "    }\n",
       "\n",
       "    .dataframe thead th {\n",
       "        text-align: right;\n",
       "    }\n",
       "</style>\n",
       "<table border=\"1\" class=\"dataframe\">\n",
       "  <thead>\n",
       "    <tr style=\"text-align: right;\">\n",
       "      <th></th>\n",
       "      <th>item</th>\n",
       "    </tr>\n",
       "  </thead>\n",
       "  <tbody>\n",
       "    <tr>\n",
       "      <th>0</th>\n",
       "      <td>Sugar</td>\n",
       "    </tr>\n",
       "    <tr>\n",
       "      <th>1</th>\n",
       "      <td>Bread</td>\n",
       "    </tr>\n",
       "    <tr>\n",
       "      <th>2</th>\n",
       "      <td>Juice</td>\n",
       "    </tr>\n",
       "    <tr>\n",
       "      <th>3</th>\n",
       "      <td>Soda</td>\n",
       "    </tr>\n",
       "    <tr>\n",
       "      <th>4</th>\n",
       "      <td>Flour</td>\n",
       "    </tr>\n",
       "  </tbody>\n",
       "</table>\n",
       "</div>"
      ],
      "text/plain": [
       "    item\n",
       "0  Sugar\n",
       "1  Bread\n",
       "2  Juice\n",
       "3   Soda\n",
       "4  Flour"
      ]
     },
     "execution_count": 9,
     "metadata": {},
     "output_type": "execute_result"
    }
   ],
   "source": [
    "df11"
   ]
  },
  {
   "cell_type": "code",
   "execution_count": 10,
   "id": "93d33e4e",
   "metadata": {},
   "outputs": [
    {
     "data": {
      "text/html": [
       "<div>\n",
       "<style scoped>\n",
       "    .dataframe tbody tr th:only-of-type {\n",
       "        vertical-align: middle;\n",
       "    }\n",
       "\n",
       "    .dataframe tbody tr th {\n",
       "        vertical-align: top;\n",
       "    }\n",
       "\n",
       "    .dataframe thead th {\n",
       "        text-align: right;\n",
       "    }\n",
       "</style>\n",
       "<table border=\"1\" class=\"dataframe\">\n",
       "  <thead>\n",
       "    <tr style=\"text-align: right;\">\n",
       "      <th></th>\n",
       "      <th>item</th>\n",
       "    </tr>\n",
       "  </thead>\n",
       "  <tbody>\n",
       "    <tr>\n",
       "      <th>0</th>\n",
       "      <td>Sugar</td>\n",
       "    </tr>\n",
       "    <tr>\n",
       "      <th>1</th>\n",
       "      <td>Bread</td>\n",
       "    </tr>\n",
       "    <tr>\n",
       "      <th>2</th>\n",
       "      <td>Butter</td>\n",
       "    </tr>\n",
       "    <tr>\n",
       "      <th>3</th>\n",
       "      <td>Cheese</td>\n",
       "    </tr>\n",
       "    <tr>\n",
       "      <th>4</th>\n",
       "      <td>Fruit</td>\n",
       "    </tr>\n",
       "  </tbody>\n",
       "</table>\n",
       "</div>"
      ],
      "text/plain": [
       "     item\n",
       "0   Sugar\n",
       "1   Bread\n",
       "2  Butter\n",
       "3  Cheese\n",
       "4   Fruit"
      ]
     },
     "execution_count": 10,
     "metadata": {},
     "output_type": "execute_result"
    }
   ],
   "source": [
    "df12"
   ]
  },
  {
   "cell_type": "code",
   "execution_count": 12,
   "id": "1f162284",
   "metadata": {},
   "outputs": [],
   "source": [
    "df11['Item Cart 1'] = df11['item']"
   ]
  },
  {
   "cell_type": "code",
   "execution_count": 16,
   "id": "fa8fc874",
   "metadata": {},
   "outputs": [
    {
     "data": {
      "text/html": [
       "<div>\n",
       "<style scoped>\n",
       "    .dataframe tbody tr th:only-of-type {\n",
       "        vertical-align: middle;\n",
       "    }\n",
       "\n",
       "    .dataframe tbody tr th {\n",
       "        vertical-align: top;\n",
       "    }\n",
       "\n",
       "    .dataframe thead th {\n",
       "        text-align: right;\n",
       "    }\n",
       "</style>\n",
       "<table border=\"1\" class=\"dataframe\">\n",
       "  <thead>\n",
       "    <tr style=\"text-align: right;\">\n",
       "      <th></th>\n",
       "      <th>Item Cart 1</th>\n",
       "    </tr>\n",
       "    <tr>\n",
       "      <th>item</th>\n",
       "      <th></th>\n",
       "    </tr>\n",
       "  </thead>\n",
       "  <tbody>\n",
       "    <tr>\n",
       "      <th>Sugar</th>\n",
       "      <td>Sugar</td>\n",
       "    </tr>\n",
       "    <tr>\n",
       "      <th>Bread</th>\n",
       "      <td>Bread</td>\n",
       "    </tr>\n",
       "    <tr>\n",
       "      <th>Juice</th>\n",
       "      <td>Juice</td>\n",
       "    </tr>\n",
       "    <tr>\n",
       "      <th>Soda</th>\n",
       "      <td>Soda</td>\n",
       "    </tr>\n",
       "    <tr>\n",
       "      <th>Flour</th>\n",
       "      <td>Flour</td>\n",
       "    </tr>\n",
       "  </tbody>\n",
       "</table>\n",
       "</div>"
      ],
      "text/plain": [
       "      Item Cart 1\n",
       "item             \n",
       "Sugar       Sugar\n",
       "Bread       Bread\n",
       "Juice       Juice\n",
       "Soda         Soda\n",
       "Flour       Flour"
      ]
     },
     "execution_count": 16,
     "metadata": {},
     "output_type": "execute_result"
    }
   ],
   "source": [
    "df11.set_index('item')"
   ]
  },
  {
   "cell_type": "code",
   "execution_count": null,
   "id": "c9cd7ef3",
   "metadata": {},
   "outputs": [],
   "source": []
  },
  {
   "cell_type": "code",
   "execution_count": 19,
   "id": "f0e43b65",
   "metadata": {},
   "outputs": [],
   "source": [
    "df12['Item Cart 2'] = df12['item']"
   ]
  },
  {
   "cell_type": "code",
   "execution_count": 20,
   "id": "16bae02b",
   "metadata": {},
   "outputs": [
    {
     "data": {
      "text/html": [
       "<div>\n",
       "<style scoped>\n",
       "    .dataframe tbody tr th:only-of-type {\n",
       "        vertical-align: middle;\n",
       "    }\n",
       "\n",
       "    .dataframe tbody tr th {\n",
       "        vertical-align: top;\n",
       "    }\n",
       "\n",
       "    .dataframe thead th {\n",
       "        text-align: right;\n",
       "    }\n",
       "</style>\n",
       "<table border=\"1\" class=\"dataframe\">\n",
       "  <thead>\n",
       "    <tr style=\"text-align: right;\">\n",
       "      <th></th>\n",
       "      <th>Item Cart 2</th>\n",
       "    </tr>\n",
       "    <tr>\n",
       "      <th>item</th>\n",
       "      <th></th>\n",
       "    </tr>\n",
       "  </thead>\n",
       "  <tbody>\n",
       "    <tr>\n",
       "      <th>Sugar</th>\n",
       "      <td>Sugar</td>\n",
       "    </tr>\n",
       "    <tr>\n",
       "      <th>Bread</th>\n",
       "      <td>Bread</td>\n",
       "    </tr>\n",
       "    <tr>\n",
       "      <th>Butter</th>\n",
       "      <td>Butter</td>\n",
       "    </tr>\n",
       "    <tr>\n",
       "      <th>Cheese</th>\n",
       "      <td>Cheese</td>\n",
       "    </tr>\n",
       "    <tr>\n",
       "      <th>Fruit</th>\n",
       "      <td>Fruit</td>\n",
       "    </tr>\n",
       "  </tbody>\n",
       "</table>\n",
       "</div>"
      ],
      "text/plain": [
       "       Item Cart 2\n",
       "item              \n",
       "Sugar        Sugar\n",
       "Bread        Bread\n",
       "Butter      Butter\n",
       "Cheese      Cheese\n",
       "Fruit        Fruit"
      ]
     },
     "execution_count": 20,
     "metadata": {},
     "output_type": "execute_result"
    }
   ],
   "source": [
    "df12.set_index('item')"
   ]
  },
  {
   "cell_type": "code",
   "execution_count": null,
   "id": "19a52f21",
   "metadata": {},
   "outputs": [],
   "source": []
  },
  {
   "cell_type": "code",
   "execution_count": 22,
   "id": "9a79b988",
   "metadata": {},
   "outputs": [
    {
     "data": {
      "text/html": [
       "<div>\n",
       "<style scoped>\n",
       "    .dataframe tbody tr th:only-of-type {\n",
       "        vertical-align: middle;\n",
       "    }\n",
       "\n",
       "    .dataframe tbody tr th {\n",
       "        vertical-align: top;\n",
       "    }\n",
       "\n",
       "    .dataframe thead th {\n",
       "        text-align: right;\n",
       "    }\n",
       "</style>\n",
       "<table border=\"1\" class=\"dataframe\">\n",
       "  <thead>\n",
       "    <tr style=\"text-align: right;\">\n",
       "      <th></th>\n",
       "      <th>Item Cart 1</th>\n",
       "      <th>Item Cart 2</th>\n",
       "    </tr>\n",
       "  </thead>\n",
       "  <tbody>\n",
       "    <tr>\n",
       "      <th>0</th>\n",
       "      <td>Sugar</td>\n",
       "      <td>Sugar</td>\n",
       "    </tr>\n",
       "    <tr>\n",
       "      <th>1</th>\n",
       "      <td>Bread</td>\n",
       "      <td>Bread</td>\n",
       "    </tr>\n",
       "    <tr>\n",
       "      <th>2</th>\n",
       "      <td>Juice</td>\n",
       "      <td>NaN</td>\n",
       "    </tr>\n",
       "    <tr>\n",
       "      <th>3</th>\n",
       "      <td>Soda</td>\n",
       "      <td>NaN</td>\n",
       "    </tr>\n",
       "    <tr>\n",
       "      <th>4</th>\n",
       "      <td>Flour</td>\n",
       "      <td>NaN</td>\n",
       "    </tr>\n",
       "    <tr>\n",
       "      <th>5</th>\n",
       "      <td>NaN</td>\n",
       "      <td>Butter</td>\n",
       "    </tr>\n",
       "    <tr>\n",
       "      <th>6</th>\n",
       "      <td>NaN</td>\n",
       "      <td>Cheese</td>\n",
       "    </tr>\n",
       "    <tr>\n",
       "      <th>7</th>\n",
       "      <td>NaN</td>\n",
       "      <td>Fruit</td>\n",
       "    </tr>\n",
       "  </tbody>\n",
       "</table>\n",
       "</div>"
      ],
      "text/plain": [
       "  Item Cart 1 Item Cart 2\n",
       "0       Sugar       Sugar\n",
       "1       Bread       Bread\n",
       "2       Juice         NaN\n",
       "3        Soda         NaN\n",
       "4       Flour         NaN\n",
       "5         NaN      Butter\n",
       "6         NaN      Cheese\n",
       "7         NaN       Fruit"
      ]
     },
     "execution_count": 22,
     "metadata": {},
     "output_type": "execute_result"
    }
   ],
   "source": [
    "df11.merge(df12, how=\"outer\")[['Item Cart 1', 'Item Cart 2']]"
   ]
  },
  {
   "cell_type": "code",
   "execution_count": null,
   "id": "ae005dbd",
   "metadata": {},
   "outputs": [],
   "source": []
  },
  {
   "cell_type": "markdown",
   "id": "4de85196",
   "metadata": {},
   "source": [
    "### Puzzle 2"
   ]
  },
  {
   "cell_type": "code",
   "execution_count": 24,
   "id": "9994b78a",
   "metadata": {},
   "outputs": [
    {
     "name": "stderr",
     "output_type": "stream",
     "text": [
      "C:\\Users\\the_r\\AppData\\Local\\Temp/ipykernel_2448/2308908136.py:4: FutureWarning: Could not cast to int16, falling back to object. This behavior is deprecated. In a future version, when a dtype is passed to 'DataFrame', either all columns will be cast to that dtype, or a TypeError will be raised\n",
      "  df2 = pd.DataFrame(data=d2, dtype=np.int16)\n"
     ]
    }
   ],
   "source": [
    "d2 = {'Employee ID': [1001, 2002, 3003, 4004, 5005, 6006, 7007],\n",
    "     'Manager ID': [np.nan, 1001, 1001, 2002, 2002, 2002, 5005],\n",
    "     'Job Title': ['President', 'Director', 'Office Manager', 'Engineer', 'Engineer', 'Engineer', \"Intern\"]}\n",
    "df2 = pd.DataFrame(data=d2, dtype=np.int16)"
   ]
  },
  {
   "cell_type": "code",
   "execution_count": 26,
   "id": "dc0e2a39",
   "metadata": {},
   "outputs": [
    {
     "data": {
      "text/html": [
       "<div>\n",
       "<style scoped>\n",
       "    .dataframe tbody tr th:only-of-type {\n",
       "        vertical-align: middle;\n",
       "    }\n",
       "\n",
       "    .dataframe tbody tr th {\n",
       "        vertical-align: top;\n",
       "    }\n",
       "\n",
       "    .dataframe thead th {\n",
       "        text-align: right;\n",
       "    }\n",
       "</style>\n",
       "<table border=\"1\" class=\"dataframe\">\n",
       "  <thead>\n",
       "    <tr style=\"text-align: right;\">\n",
       "      <th></th>\n",
       "      <th>Employee ID</th>\n",
       "      <th>Manager ID</th>\n",
       "      <th>Job Title</th>\n",
       "    </tr>\n",
       "  </thead>\n",
       "  <tbody>\n",
       "    <tr>\n",
       "      <th>0</th>\n",
       "      <td>1001</td>\n",
       "      <td>NaN</td>\n",
       "      <td>President</td>\n",
       "    </tr>\n",
       "    <tr>\n",
       "      <th>1</th>\n",
       "      <td>2002</td>\n",
       "      <td>1001</td>\n",
       "      <td>Director</td>\n",
       "    </tr>\n",
       "    <tr>\n",
       "      <th>2</th>\n",
       "      <td>3003</td>\n",
       "      <td>1001</td>\n",
       "      <td>Office Manager</td>\n",
       "    </tr>\n",
       "    <tr>\n",
       "      <th>3</th>\n",
       "      <td>4004</td>\n",
       "      <td>2002</td>\n",
       "      <td>Engineer</td>\n",
       "    </tr>\n",
       "    <tr>\n",
       "      <th>4</th>\n",
       "      <td>5005</td>\n",
       "      <td>2002</td>\n",
       "      <td>Engineer</td>\n",
       "    </tr>\n",
       "  </tbody>\n",
       "</table>\n",
       "</div>"
      ],
      "text/plain": [
       "   Employee ID Manager ID       Job Title\n",
       "0         1001        NaN       President\n",
       "1         2002       1001        Director\n",
       "2         3003       1001  Office Manager\n",
       "3         4004       2002        Engineer\n",
       "4         5005       2002        Engineer"
      ]
     },
     "execution_count": 26,
     "metadata": {},
     "output_type": "execute_result"
    }
   ],
   "source": [
    "df2.head()"
   ]
  },
  {
   "cell_type": "code",
   "execution_count": 29,
   "id": "f0a1516e",
   "metadata": {},
   "outputs": [
    {
     "data": {
      "text/plain": [
       "nan"
      ]
     },
     "execution_count": 29,
     "metadata": {},
     "output_type": "execute_result"
    }
   ],
   "source": [
    "df2[df2[\"Employee ID\"] == 1001][\"Manager ID\"].values.any()"
   ]
  },
  {
   "cell_type": "code",
   "execution_count": 30,
   "id": "a16cede1",
   "metadata": {},
   "outputs": [
    {
     "data": {
      "text/plain": [
       "1001"
      ]
     },
     "execution_count": 30,
     "metadata": {},
     "output_type": "execute_result"
    }
   ],
   "source": [
    "df2[df2[\"Employee ID\"] == 2002][\"Manager ID\"].values.any()"
   ]
  },
  {
   "cell_type": "code",
   "execution_count": 36,
   "id": "d07fb6c3",
   "metadata": {},
   "outputs": [],
   "source": [
    "def checkDeep(EmployeeID, c):\n",
    "    if df2[df2[\"Employee ID\"] == EmployeeID][\"Manager ID\"].isnull().values.any():\n",
    "        return c\n",
    "    else:\n",
    "        c = checkDeep(df2[df2[\"Employee ID\"] == EmployeeID][\"Manager ID\"].values.any(), c+1)\n",
    "        return c"
   ]
  },
  {
   "cell_type": "code",
   "execution_count": 37,
   "id": "06c7a0cf",
   "metadata": {},
   "outputs": [],
   "source": [
    "df2['Depth'] = df2['Employee ID'].apply(lambda x: checkDeep(x, c=0))"
   ]
  },
  {
   "cell_type": "code",
   "execution_count": 39,
   "id": "c3285a7a",
   "metadata": {},
   "outputs": [
    {
     "data": {
      "text/html": [
       "<div>\n",
       "<style scoped>\n",
       "    .dataframe tbody tr th:only-of-type {\n",
       "        vertical-align: middle;\n",
       "    }\n",
       "\n",
       "    .dataframe tbody tr th {\n",
       "        vertical-align: top;\n",
       "    }\n",
       "\n",
       "    .dataframe thead th {\n",
       "        text-align: right;\n",
       "    }\n",
       "</style>\n",
       "<table border=\"1\" class=\"dataframe\">\n",
       "  <thead>\n",
       "    <tr style=\"text-align: right;\">\n",
       "      <th></th>\n",
       "      <th>Employee ID</th>\n",
       "      <th>Manager ID</th>\n",
       "      <th>Job Title</th>\n",
       "      <th>Depth</th>\n",
       "    </tr>\n",
       "  </thead>\n",
       "  <tbody>\n",
       "    <tr>\n",
       "      <th>0</th>\n",
       "      <td>1001</td>\n",
       "      <td>NaN</td>\n",
       "      <td>President</td>\n",
       "      <td>0</td>\n",
       "    </tr>\n",
       "    <tr>\n",
       "      <th>1</th>\n",
       "      <td>2002</td>\n",
       "      <td>1001</td>\n",
       "      <td>Director</td>\n",
       "      <td>1</td>\n",
       "    </tr>\n",
       "    <tr>\n",
       "      <th>2</th>\n",
       "      <td>3003</td>\n",
       "      <td>1001</td>\n",
       "      <td>Office Manager</td>\n",
       "      <td>1</td>\n",
       "    </tr>\n",
       "    <tr>\n",
       "      <th>3</th>\n",
       "      <td>4004</td>\n",
       "      <td>2002</td>\n",
       "      <td>Engineer</td>\n",
       "      <td>2</td>\n",
       "    </tr>\n",
       "    <tr>\n",
       "      <th>4</th>\n",
       "      <td>5005</td>\n",
       "      <td>2002</td>\n",
       "      <td>Engineer</td>\n",
       "      <td>2</td>\n",
       "    </tr>\n",
       "  </tbody>\n",
       "</table>\n",
       "</div>"
      ],
      "text/plain": [
       "   Employee ID Manager ID       Job Title  Depth\n",
       "0         1001        NaN       President      0\n",
       "1         2002       1001        Director      1\n",
       "2         3003       1001  Office Manager      1\n",
       "3         4004       2002        Engineer      2\n",
       "4         5005       2002        Engineer      2"
      ]
     },
     "execution_count": 39,
     "metadata": {},
     "output_type": "execute_result"
    }
   ],
   "source": [
    "df2.head()"
   ]
  },
  {
   "cell_type": "code",
   "execution_count": null,
   "id": "5cd37b30",
   "metadata": {},
   "outputs": [],
   "source": []
  },
  {
   "cell_type": "markdown",
   "id": "ab5e912d",
   "metadata": {},
   "source": [
    "### Puzzle 3"
   ]
  },
  {
   "cell_type": "code",
   "execution_count": 42,
   "id": "019d0fd4",
   "metadata": {},
   "outputs": [
    {
     "name": "stderr",
     "output_type": "stream",
     "text": [
      "C:\\Users\\the_r\\AppData\\Local\\Temp/ipykernel_2448/1961222809.py:5: FutureWarning: Could not cast to int16, falling back to object. This behavior is deprecated. In a future version, when a dtype is passed to 'DataFrame', either all columns will be cast to that dtype, or a TypeError will be raised\n",
      "  df3 = pd.DataFrame(data=d3, dtype=np.int16)\n"
     ]
    }
   ],
   "source": [
    "d3 = {'Customer ID': [1001, 1001, 1001, 1001, 2002, 3003, 3003, 4004],\n",
    "     'Order ID ': [1, 2, 3, 4, 5, 6, 7, 8],\n",
    "     'Delivery State': ['CA', 'TX', 'TX', 'TX', 'WA', 'CA', \"CA\", 'TX'],\n",
    "     'Amount': [\"$340\", '$950', '$670', '$860', '$320', '$650', '$830', '$120']}\n",
    "df3 = pd.DataFrame(data=d3, dtype=np.int16)"
   ]
  },
  {
   "cell_type": "code",
   "execution_count": 43,
   "id": "b7ad2b57",
   "metadata": {},
   "outputs": [
    {
     "data": {
      "text/html": [
       "<div>\n",
       "<style scoped>\n",
       "    .dataframe tbody tr th:only-of-type {\n",
       "        vertical-align: middle;\n",
       "    }\n",
       "\n",
       "    .dataframe tbody tr th {\n",
       "        vertical-align: top;\n",
       "    }\n",
       "\n",
       "    .dataframe thead th {\n",
       "        text-align: right;\n",
       "    }\n",
       "</style>\n",
       "<table border=\"1\" class=\"dataframe\">\n",
       "  <thead>\n",
       "    <tr style=\"text-align: right;\">\n",
       "      <th></th>\n",
       "      <th>Customer ID</th>\n",
       "      <th>Order ID</th>\n",
       "      <th>Delivery State</th>\n",
       "      <th>Amount</th>\n",
       "    </tr>\n",
       "  </thead>\n",
       "  <tbody>\n",
       "    <tr>\n",
       "      <th>0</th>\n",
       "      <td>1001</td>\n",
       "      <td>1</td>\n",
       "      <td>CA</td>\n",
       "      <td>$340</td>\n",
       "    </tr>\n",
       "    <tr>\n",
       "      <th>1</th>\n",
       "      <td>1001</td>\n",
       "      <td>2</td>\n",
       "      <td>TX</td>\n",
       "      <td>$950</td>\n",
       "    </tr>\n",
       "    <tr>\n",
       "      <th>2</th>\n",
       "      <td>1001</td>\n",
       "      <td>3</td>\n",
       "      <td>TX</td>\n",
       "      <td>$670</td>\n",
       "    </tr>\n",
       "    <tr>\n",
       "      <th>3</th>\n",
       "      <td>1001</td>\n",
       "      <td>4</td>\n",
       "      <td>TX</td>\n",
       "      <td>$860</td>\n",
       "    </tr>\n",
       "    <tr>\n",
       "      <th>4</th>\n",
       "      <td>2002</td>\n",
       "      <td>5</td>\n",
       "      <td>WA</td>\n",
       "      <td>$320</td>\n",
       "    </tr>\n",
       "  </tbody>\n",
       "</table>\n",
       "</div>"
      ],
      "text/plain": [
       "   Customer ID  Order ID  Delivery State Amount\n",
       "0         1001          1             CA   $340\n",
       "1         1001          2             TX   $950\n",
       "2         1001          3             TX   $670\n",
       "3         1001          4             TX   $860\n",
       "4         2002          5             WA   $320"
      ]
     },
     "execution_count": 43,
     "metadata": {},
     "output_type": "execute_result"
    }
   ],
   "source": [
    "df3.head()"
   ]
  },
  {
   "cell_type": "code",
   "execution_count": 44,
   "id": "e640f635",
   "metadata": {},
   "outputs": [
    {
     "data": {
      "text/html": [
       "<div>\n",
       "<style scoped>\n",
       "    .dataframe tbody tr th:only-of-type {\n",
       "        vertical-align: middle;\n",
       "    }\n",
       "\n",
       "    .dataframe tbody tr th {\n",
       "        vertical-align: top;\n",
       "    }\n",
       "\n",
       "    .dataframe thead th {\n",
       "        text-align: right;\n",
       "    }\n",
       "</style>\n",
       "<table border=\"1\" class=\"dataframe\">\n",
       "  <thead>\n",
       "    <tr style=\"text-align: right;\">\n",
       "      <th></th>\n",
       "      <th>Customer ID</th>\n",
       "      <th>Order ID</th>\n",
       "      <th>Delivery State</th>\n",
       "      <th>Amount</th>\n",
       "    </tr>\n",
       "  </thead>\n",
       "  <tbody>\n",
       "    <tr>\n",
       "      <th>1</th>\n",
       "      <td>1001</td>\n",
       "      <td>2</td>\n",
       "      <td>TX</td>\n",
       "      <td>$950</td>\n",
       "    </tr>\n",
       "    <tr>\n",
       "      <th>2</th>\n",
       "      <td>1001</td>\n",
       "      <td>3</td>\n",
       "      <td>TX</td>\n",
       "      <td>$670</td>\n",
       "    </tr>\n",
       "    <tr>\n",
       "      <th>3</th>\n",
       "      <td>1001</td>\n",
       "      <td>4</td>\n",
       "      <td>TX</td>\n",
       "      <td>$860</td>\n",
       "    </tr>\n",
       "  </tbody>\n",
       "</table>\n",
       "</div>"
      ],
      "text/plain": [
       "   Customer ID  Order ID  Delivery State Amount\n",
       "1         1001          2             TX   $950\n",
       "2         1001          3             TX   $670\n",
       "3         1001          4             TX   $860"
      ]
     },
     "execution_count": 44,
     "metadata": {},
     "output_type": "execute_result"
    }
   ],
   "source": [
    "df3[df3['Delivery State'] == 'TX'].head(len(df3[df3['Delivery State'] == 'CA']))"
   ]
  },
  {
   "cell_type": "markdown",
   "id": "c94dca40",
   "metadata": {},
   "source": [
    "### Puzzle 4"
   ]
  },
  {
   "cell_type": "code",
   "execution_count": 45,
   "id": "7269261e",
   "metadata": {},
   "outputs": [
    {
     "name": "stderr",
     "output_type": "stream",
     "text": [
      "C:\\Users\\the_r\\AppData\\Local\\Temp/ipykernel_2448/1447778678.py:4: FutureWarning: Could not cast to int16, falling back to object. This behavior is deprecated. In a future version, when a dtype is passed to 'DataFrame', either all columns will be cast to that dtype, or a TypeError will be raised\n",
      "  df4 = pd.DataFrame(data=d4, dtype=np.int16)\n"
     ]
    }
   ],
   "source": [
    "d4 = {'Customer ID': [1001, 1001, 1001, 2002, 2002, 3003],\n",
    "     'Type': [\"Cellular\", \"Work\", \"Home\", \"Cellular\", \"Work\", \"Cellular\"],\n",
    "     'Phone Number': ['555-897-5421', '555-897-6542', '555-698-9874', '555-963-6544', '555-812-9856', '555-987-6541']}\n",
    "df4 = pd.DataFrame(data=d4, dtype=np.int16)"
   ]
  },
  {
   "cell_type": "code",
   "execution_count": 46,
   "id": "588d05e6",
   "metadata": {},
   "outputs": [
    {
     "data": {
      "text/html": [
       "<div>\n",
       "<style scoped>\n",
       "    .dataframe tbody tr th:only-of-type {\n",
       "        vertical-align: middle;\n",
       "    }\n",
       "\n",
       "    .dataframe tbody tr th {\n",
       "        vertical-align: top;\n",
       "    }\n",
       "\n",
       "    .dataframe thead th {\n",
       "        text-align: right;\n",
       "    }\n",
       "</style>\n",
       "<table border=\"1\" class=\"dataframe\">\n",
       "  <thead>\n",
       "    <tr style=\"text-align: right;\">\n",
       "      <th></th>\n",
       "      <th>Customer ID</th>\n",
       "      <th>Type</th>\n",
       "      <th>Phone Number</th>\n",
       "    </tr>\n",
       "  </thead>\n",
       "  <tbody>\n",
       "    <tr>\n",
       "      <th>0</th>\n",
       "      <td>1001</td>\n",
       "      <td>Cellular</td>\n",
       "      <td>555-897-5421</td>\n",
       "    </tr>\n",
       "    <tr>\n",
       "      <th>1</th>\n",
       "      <td>1001</td>\n",
       "      <td>Work</td>\n",
       "      <td>555-897-6542</td>\n",
       "    </tr>\n",
       "    <tr>\n",
       "      <th>2</th>\n",
       "      <td>1001</td>\n",
       "      <td>Home</td>\n",
       "      <td>555-698-9874</td>\n",
       "    </tr>\n",
       "    <tr>\n",
       "      <th>3</th>\n",
       "      <td>2002</td>\n",
       "      <td>Cellular</td>\n",
       "      <td>555-963-6544</td>\n",
       "    </tr>\n",
       "    <tr>\n",
       "      <th>4</th>\n",
       "      <td>2002</td>\n",
       "      <td>Work</td>\n",
       "      <td>555-812-9856</td>\n",
       "    </tr>\n",
       "  </tbody>\n",
       "</table>\n",
       "</div>"
      ],
      "text/plain": [
       "   Customer ID      Type  Phone Number\n",
       "0         1001  Cellular  555-897-5421\n",
       "1         1001      Work  555-897-6542\n",
       "2         1001      Home  555-698-9874\n",
       "3         2002  Cellular  555-963-6544\n",
       "4         2002      Work  555-812-9856"
      ]
     },
     "execution_count": 46,
     "metadata": {},
     "output_type": "execute_result"
    }
   ],
   "source": [
    "df4.head()"
   ]
  },
  {
   "cell_type": "code",
   "execution_count": 47,
   "id": "f8d70f43",
   "metadata": {},
   "outputs": [
    {
     "data": {
      "text/html": [
       "<div>\n",
       "<style scoped>\n",
       "    .dataframe tbody tr th:only-of-type {\n",
       "        vertical-align: middle;\n",
       "    }\n",
       "\n",
       "    .dataframe tbody tr th {\n",
       "        vertical-align: top;\n",
       "    }\n",
       "\n",
       "    .dataframe thead th {\n",
       "        text-align: right;\n",
       "    }\n",
       "</style>\n",
       "<table border=\"1\" class=\"dataframe\">\n",
       "  <thead>\n",
       "    <tr style=\"text-align: right;\">\n",
       "      <th>Type</th>\n",
       "      <th>Cellular</th>\n",
       "      <th>Home</th>\n",
       "      <th>Work</th>\n",
       "    </tr>\n",
       "    <tr>\n",
       "      <th>Customer ID</th>\n",
       "      <th></th>\n",
       "      <th></th>\n",
       "      <th></th>\n",
       "    </tr>\n",
       "  </thead>\n",
       "  <tbody>\n",
       "    <tr>\n",
       "      <th>1001</th>\n",
       "      <td>555-897-5421</td>\n",
       "      <td>555-698-9874</td>\n",
       "      <td>555-897-6542</td>\n",
       "    </tr>\n",
       "    <tr>\n",
       "      <th>2002</th>\n",
       "      <td>555-963-6544</td>\n",
       "      <td>NaN</td>\n",
       "      <td>555-812-9856</td>\n",
       "    </tr>\n",
       "    <tr>\n",
       "      <th>3003</th>\n",
       "      <td>555-987-6541</td>\n",
       "      <td>NaN</td>\n",
       "      <td>NaN</td>\n",
       "    </tr>\n",
       "  </tbody>\n",
       "</table>\n",
       "</div>"
      ],
      "text/plain": [
       "Type             Cellular          Home          Work\n",
       "Customer ID                                          \n",
       "1001         555-897-5421  555-698-9874  555-897-6542\n",
       "2002         555-963-6544           NaN  555-812-9856\n",
       "3003         555-987-6541           NaN           NaN"
      ]
     },
     "execution_count": 47,
     "metadata": {},
     "output_type": "execute_result"
    }
   ],
   "source": [
    "df4.pivot(index='Customer ID', columns='Type', values='Phone Number')"
   ]
  },
  {
   "cell_type": "markdown",
   "id": "93016287",
   "metadata": {},
   "source": [
    "### Puzzle 7"
   ]
  },
  {
   "cell_type": "code",
   "execution_count": 48,
   "id": "397ec328",
   "metadata": {},
   "outputs": [
    {
     "name": "stderr",
     "output_type": "stream",
     "text": [
      "C:\\Users\\the_r\\AppData\\Local\\Temp/ipykernel_2448/3696350575.py:3: FutureWarning: Could not cast to int16, falling back to object. This behavior is deprecated. In a future version, when a dtype is passed to 'DataFrame', either all columns will be cast to that dtype, or a TypeError will be raised\n",
      "  df7 = pd.DataFrame(data=d7, dtype=np.int16)\n"
     ]
    }
   ],
   "source": [
    "d7 = {'Customer ID': [1001, 1001, 1001, 1001, 2002, 2002, 2002, 3003, 3003, 4004],\n",
    "     'Type': [\"Geologist\", \"Astrogator\", \"Biochemist\", \"Technician\", \"Surgeon\", \"Machinist\", \"Geologist\", \"Geologist\", \"Astrogator\", \"Selenologist\"]}\n",
    "df7 = pd.DataFrame(data=d7, dtype=np.int16)"
   ]
  },
  {
   "cell_type": "code",
   "execution_count": 51,
   "id": "0173cdc9",
   "metadata": {},
   "outputs": [
    {
     "data": {
      "text/html": [
       "<div>\n",
       "<style scoped>\n",
       "    .dataframe tbody tr th:only-of-type {\n",
       "        vertical-align: middle;\n",
       "    }\n",
       "\n",
       "    .dataframe tbody tr th {\n",
       "        vertical-align: top;\n",
       "    }\n",
       "\n",
       "    .dataframe thead th {\n",
       "        text-align: right;\n",
       "    }\n",
       "</style>\n",
       "<table border=\"1\" class=\"dataframe\">\n",
       "  <thead>\n",
       "    <tr style=\"text-align: right;\">\n",
       "      <th></th>\n",
       "      <th>Customer ID</th>\n",
       "      <th>Type</th>\n",
       "    </tr>\n",
       "  </thead>\n",
       "  <tbody>\n",
       "    <tr>\n",
       "      <th>0</th>\n",
       "      <td>1001</td>\n",
       "      <td>Geologist</td>\n",
       "    </tr>\n",
       "    <tr>\n",
       "      <th>1</th>\n",
       "      <td>1001</td>\n",
       "      <td>Astrogator</td>\n",
       "    </tr>\n",
       "    <tr>\n",
       "      <th>2</th>\n",
       "      <td>1001</td>\n",
       "      <td>Biochemist</td>\n",
       "    </tr>\n",
       "    <tr>\n",
       "      <th>3</th>\n",
       "      <td>1001</td>\n",
       "      <td>Technician</td>\n",
       "    </tr>\n",
       "    <tr>\n",
       "      <th>4</th>\n",
       "      <td>2002</td>\n",
       "      <td>Surgeon</td>\n",
       "    </tr>\n",
       "    <tr>\n",
       "      <th>5</th>\n",
       "      <td>2002</td>\n",
       "      <td>Machinist</td>\n",
       "    </tr>\n",
       "    <tr>\n",
       "      <th>6</th>\n",
       "      <td>2002</td>\n",
       "      <td>Geologist</td>\n",
       "    </tr>\n",
       "    <tr>\n",
       "      <th>7</th>\n",
       "      <td>3003</td>\n",
       "      <td>Geologist</td>\n",
       "    </tr>\n",
       "    <tr>\n",
       "      <th>8</th>\n",
       "      <td>3003</td>\n",
       "      <td>Astrogator</td>\n",
       "    </tr>\n",
       "    <tr>\n",
       "      <th>9</th>\n",
       "      <td>4004</td>\n",
       "      <td>Selenologist</td>\n",
       "    </tr>\n",
       "  </tbody>\n",
       "</table>\n",
       "</div>"
      ],
      "text/plain": [
       "   Customer ID          Type\n",
       "0         1001     Geologist\n",
       "1         1001    Astrogator\n",
       "2         1001    Biochemist\n",
       "3         1001    Technician\n",
       "4         2002       Surgeon\n",
       "5         2002     Machinist\n",
       "6         2002     Geologist\n",
       "7         3003     Geologist\n",
       "8         3003    Astrogator\n",
       "9         4004  Selenologist"
      ]
     },
     "execution_count": 51,
     "metadata": {},
     "output_type": "execute_result"
    }
   ],
   "source": [
    "df7.head(10)"
   ]
  },
  {
   "cell_type": "code",
   "execution_count": 49,
   "id": "c5b60e92",
   "metadata": {},
   "outputs": [
    {
     "name": "stderr",
     "output_type": "stream",
     "text": [
      "C:\\Users\\the_r\\AppData\\Local\\Temp/ipykernel_2448/4204490358.py:2: FutureWarning: Could not cast to int16, falling back to object. This behavior is deprecated. In a future version, when a dtype is passed to 'DataFrame', either all columns will be cast to that dtype, or a TypeError will be raised\n",
      "  requrements = pd.DataFrame(data=d7, dtype=np.int16)\n"
     ]
    }
   ],
   "source": [
    "d7 = {'Description': [\"Geologist\", \"Astrogator\", \"Technician\"]}\n",
    "requrements = pd.DataFrame(data=d7, dtype=np.int16)"
   ]
  },
  {
   "cell_type": "code",
   "execution_count": 52,
   "id": "a1ab7bd4",
   "metadata": {},
   "outputs": [
    {
     "data": {
      "text/html": [
       "<div>\n",
       "<style scoped>\n",
       "    .dataframe tbody tr th:only-of-type {\n",
       "        vertical-align: middle;\n",
       "    }\n",
       "\n",
       "    .dataframe tbody tr th {\n",
       "        vertical-align: top;\n",
       "    }\n",
       "\n",
       "    .dataframe thead th {\n",
       "        text-align: right;\n",
       "    }\n",
       "</style>\n",
       "<table border=\"1\" class=\"dataframe\">\n",
       "  <thead>\n",
       "    <tr style=\"text-align: right;\">\n",
       "      <th></th>\n",
       "      <th>Description</th>\n",
       "    </tr>\n",
       "  </thead>\n",
       "  <tbody>\n",
       "    <tr>\n",
       "      <th>0</th>\n",
       "      <td>Geologist</td>\n",
       "    </tr>\n",
       "    <tr>\n",
       "      <th>1</th>\n",
       "      <td>Astrogator</td>\n",
       "    </tr>\n",
       "    <tr>\n",
       "      <th>2</th>\n",
       "      <td>Technician</td>\n",
       "    </tr>\n",
       "  </tbody>\n",
       "</table>\n",
       "</div>"
      ],
      "text/plain": [
       "  Description\n",
       "0   Geologist\n",
       "1  Astrogator\n",
       "2  Technician"
      ]
     },
     "execution_count": 52,
     "metadata": {},
     "output_type": "execute_result"
    }
   ],
   "source": [
    "requrements.head()"
   ]
  },
  {
   "cell_type": "code",
   "execution_count": null,
   "id": "05a0011d",
   "metadata": {},
   "outputs": [],
   "source": []
  },
  {
   "cell_type": "code",
   "execution_count": 53,
   "id": "368c895d",
   "metadata": {},
   "outputs": [
    {
     "data": {
      "text/plain": [
       "array(['Geologist', 'Astrogator', 'Technician'], dtype=object)"
      ]
     },
     "execution_count": 53,
     "metadata": {},
     "output_type": "execute_result"
    }
   ],
   "source": [
    "requrements['Description'].values"
   ]
  },
  {
   "cell_type": "code",
   "execution_count": null,
   "id": "3a7a27a0",
   "metadata": {},
   "outputs": [],
   "source": []
  },
  {
   "cell_type": "markdown",
   "id": "249f6d15",
   "metadata": {},
   "source": [
    "### Puzzle 8"
   ]
  },
  {
   "cell_type": "code",
   "execution_count": 55,
   "id": "0c3e9670",
   "metadata": {},
   "outputs": [
    {
     "name": "stderr",
     "output_type": "stream",
     "text": [
      "C:\\Users\\the_r\\AppData\\Local\\Temp/ipykernel_2448/3484000908.py:5: FutureWarning: Could not cast to int16, falling back to object. This behavior is deprecated. In a future version, when a dtype is passed to 'DataFrame', either all columns will be cast to that dtype, or a TypeError will be raised\n",
      "  df8 = pd.DataFrame(data=d8, dtype=np.int16)\n"
     ]
    }
   ],
   "source": [
    "d8 = {'Workflow': [\"Alpha\", \"Bravo\", \"Charlie\", \"Delta\"],\n",
    "     'Case 1': [0, 0, 1, 0],\n",
    "     'Case 2': [0, 1, 0, 0],\n",
    "     'Case 3': [0, 1, 0, 0]}\n",
    "df8 = pd.DataFrame(data=d8, dtype=np.int16)"
   ]
  },
  {
   "cell_type": "code",
   "execution_count": 56,
   "id": "79ffb5d8",
   "metadata": {},
   "outputs": [],
   "source": [
    "df8['Passed'] = df8['Case 1'] +  df8['Case 2'] + df8['Case 3']"
   ]
  },
  {
   "cell_type": "code",
   "execution_count": 57,
   "id": "a12857a1",
   "metadata": {},
   "outputs": [],
   "source": [
    "dfResult = df8[['Workflow', 'Passed']]"
   ]
  },
  {
   "cell_type": "code",
   "execution_count": 58,
   "id": "b23874d9",
   "metadata": {},
   "outputs": [
    {
     "data": {
      "text/html": [
       "<div>\n",
       "<style scoped>\n",
       "    .dataframe tbody tr th:only-of-type {\n",
       "        vertical-align: middle;\n",
       "    }\n",
       "\n",
       "    .dataframe tbody tr th {\n",
       "        vertical-align: top;\n",
       "    }\n",
       "\n",
       "    .dataframe thead th {\n",
       "        text-align: right;\n",
       "    }\n",
       "</style>\n",
       "<table border=\"1\" class=\"dataframe\">\n",
       "  <thead>\n",
       "    <tr style=\"text-align: right;\">\n",
       "      <th></th>\n",
       "      <th>Workflow</th>\n",
       "      <th>Passed</th>\n",
       "    </tr>\n",
       "  </thead>\n",
       "  <tbody>\n",
       "    <tr>\n",
       "      <th>0</th>\n",
       "      <td>Alpha</td>\n",
       "      <td>0</td>\n",
       "    </tr>\n",
       "    <tr>\n",
       "      <th>1</th>\n",
       "      <td>Bravo</td>\n",
       "      <td>2</td>\n",
       "    </tr>\n",
       "    <tr>\n",
       "      <th>2</th>\n",
       "      <td>Charlie</td>\n",
       "      <td>1</td>\n",
       "    </tr>\n",
       "    <tr>\n",
       "      <th>3</th>\n",
       "      <td>Delta</td>\n",
       "      <td>0</td>\n",
       "    </tr>\n",
       "  </tbody>\n",
       "</table>\n",
       "</div>"
      ],
      "text/plain": [
       "  Workflow  Passed\n",
       "0    Alpha       0\n",
       "1    Bravo       2\n",
       "2  Charlie       1\n",
       "3    Delta       0"
      ]
     },
     "execution_count": 58,
     "metadata": {},
     "output_type": "execute_result"
    }
   ],
   "source": [
    "dfResult.head()"
   ]
  },
  {
   "cell_type": "markdown",
   "id": "5bd5de60",
   "metadata": {},
   "source": [
    "### Puzzle 10"
   ]
  },
  {
   "cell_type": "code",
   "execution_count": 59,
   "id": "89a831d8",
   "metadata": {},
   "outputs": [],
   "source": [
    "(5),(6),(10),(10),(13),\n",
    "(14),(17),(20),(81),(90),(76);"
   ]
  },
  {
   "cell_type": "code",
   "execution_count": 60,
   "id": "b71258fa",
   "metadata": {},
   "outputs": [],
   "source": [
    "r = [5, 6, 10, 10, 13, 14, 17, 20, 81, 90, 76]\n",
    "ser = pd.Series(r, copy=False)"
   ]
  },
  {
   "cell_type": "code",
   "execution_count": 61,
   "id": "c4af7574",
   "metadata": {},
   "outputs": [
    {
     "data": {
      "text/plain": [
       "31.09090909090909"
      ]
     },
     "execution_count": 61,
     "metadata": {},
     "output_type": "execute_result"
    }
   ],
   "source": [
    "ser.mean()"
   ]
  },
  {
   "cell_type": "code",
   "execution_count": 62,
   "id": "00059207",
   "metadata": {},
   "outputs": [
    {
     "data": {
      "text/plain": [
       "14.0"
      ]
     },
     "execution_count": 62,
     "metadata": {},
     "output_type": "execute_result"
    }
   ],
   "source": [
    "ser.median()"
   ]
  },
  {
   "cell_type": "code",
   "execution_count": 63,
   "id": "12fa410b",
   "metadata": {},
   "outputs": [
    {
     "data": {
      "text/plain": [
       "0    10\n",
       "dtype: int64"
      ]
     },
     "execution_count": 63,
     "metadata": {},
     "output_type": "execute_result"
    }
   ],
   "source": [
    "ser.mode()"
   ]
  },
  {
   "cell_type": "code",
   "execution_count": null,
   "id": "e70fc717",
   "metadata": {},
   "outputs": [],
   "source": []
  },
  {
   "cell_type": "markdown",
   "id": "b30ab726",
   "metadata": {},
   "source": [
    "### Puzzle 11"
   ]
  },
  {
   "cell_type": "code",
   "execution_count": 65,
   "id": "d3a8e858",
   "metadata": {},
   "outputs": [],
   "source": [
    "d11 = {'Test Case': [\"A\", \"B\", \"C\"]}\n",
    "df11 = pd.DataFrame(data=d11)"
   ]
  },
  {
   "cell_type": "code",
   "execution_count": 66,
   "id": "af63609b",
   "metadata": {},
   "outputs": [],
   "source": [
    "val = df11['Test Case'].values"
   ]
  },
  {
   "cell_type": "code",
   "execution_count": null,
   "id": "b766a6a6",
   "metadata": {},
   "outputs": [],
   "source": []
  },
  {
   "cell_type": "code",
   "execution_count": 67,
   "id": "e5e79345",
   "metadata": {},
   "outputs": [],
   "source": [
    "from itertools import permutations\n",
    "\n",
    "perm = permutations(val)\n",
    "valuePerm = [\",\".join([y for y in x]) for x in perm]"
   ]
  },
  {
   "cell_type": "code",
   "execution_count": 68,
   "id": "477b1193",
   "metadata": {},
   "outputs": [
    {
     "data": {
      "text/plain": [
       "['A,B,C', 'A,C,B', 'B,A,C', 'B,C,A', 'C,A,B', 'C,B,A']"
      ]
     },
     "execution_count": 68,
     "metadata": {},
     "output_type": "execute_result"
    }
   ],
   "source": [
    "valuePerm"
   ]
  },
  {
   "cell_type": "code",
   "execution_count": 69,
   "id": "475f3e97",
   "metadata": {},
   "outputs": [],
   "source": [
    "d = {'Test Case': valuePerm}\n",
    "df = pd.DataFrame(data=d)"
   ]
  },
  {
   "cell_type": "code",
   "execution_count": 70,
   "id": "11272796",
   "metadata": {},
   "outputs": [
    {
     "data": {
      "text/html": [
       "<div>\n",
       "<style scoped>\n",
       "    .dataframe tbody tr th:only-of-type {\n",
       "        vertical-align: middle;\n",
       "    }\n",
       "\n",
       "    .dataframe tbody tr th {\n",
       "        vertical-align: top;\n",
       "    }\n",
       "\n",
       "    .dataframe thead th {\n",
       "        text-align: right;\n",
       "    }\n",
       "</style>\n",
       "<table border=\"1\" class=\"dataframe\">\n",
       "  <thead>\n",
       "    <tr style=\"text-align: right;\">\n",
       "      <th></th>\n",
       "      <th>Test Case</th>\n",
       "    </tr>\n",
       "  </thead>\n",
       "  <tbody>\n",
       "    <tr>\n",
       "      <th>0</th>\n",
       "      <td>A,B,C</td>\n",
       "    </tr>\n",
       "    <tr>\n",
       "      <th>1</th>\n",
       "      <td>A,C,B</td>\n",
       "    </tr>\n",
       "    <tr>\n",
       "      <th>2</th>\n",
       "      <td>B,A,C</td>\n",
       "    </tr>\n",
       "    <tr>\n",
       "      <th>3</th>\n",
       "      <td>B,C,A</td>\n",
       "    </tr>\n",
       "    <tr>\n",
       "      <th>4</th>\n",
       "      <td>C,A,B</td>\n",
       "    </tr>\n",
       "  </tbody>\n",
       "</table>\n",
       "</div>"
      ],
      "text/plain": [
       "  Test Case\n",
       "0     A,B,C\n",
       "1     A,C,B\n",
       "2     B,A,C\n",
       "3     B,C,A\n",
       "4     C,A,B"
      ]
     },
     "execution_count": 70,
     "metadata": {},
     "output_type": "execute_result"
    }
   ],
   "source": [
    "df.head()"
   ]
  },
  {
   "cell_type": "code",
   "execution_count": null,
   "id": "4436bc55",
   "metadata": {},
   "outputs": [],
   "source": []
  },
  {
   "cell_type": "markdown",
   "id": "16995916",
   "metadata": {},
   "source": [
    "### Puzzle 12"
   ]
  },
  {
   "cell_type": "code",
   "execution_count": 71,
   "id": "0219f219",
   "metadata": {},
   "outputs": [],
   "source": [
    "d12 = {'Workflow': [\"Alpha\", \"Alpha\", \"Alpha\", \"Bravo\", \"Bravo\", \"Bravo\", \"Charlie\", \"Charlie\", \"Charlie\"],\n",
    "     'Execution Date': [\"6/1/2018\", \"6/14/2018\", \"6/15/2018\", \"6/1/2018\", \"6/2/2018\", \"6/19/2018\", \"6/1/2018\", \"6/15/2018\", \"6/30/2018\"]}\n",
    "df12 = pd.DataFrame(data=d12)\n",
    "df12['Execution Date'] = pd.to_datetime(df12['Execution Date'])"
   ]
  },
  {
   "cell_type": "code",
   "execution_count": 72,
   "id": "4a690a50",
   "metadata": {},
   "outputs": [
    {
     "data": {
      "text/html": [
       "<div>\n",
       "<style scoped>\n",
       "    .dataframe tbody tr th:only-of-type {\n",
       "        vertical-align: middle;\n",
       "    }\n",
       "\n",
       "    .dataframe tbody tr th {\n",
       "        vertical-align: top;\n",
       "    }\n",
       "\n",
       "    .dataframe thead th {\n",
       "        text-align: right;\n",
       "    }\n",
       "</style>\n",
       "<table border=\"1\" class=\"dataframe\">\n",
       "  <thead>\n",
       "    <tr style=\"text-align: right;\">\n",
       "      <th></th>\n",
       "      <th>Workflow</th>\n",
       "      <th>Execution Date</th>\n",
       "    </tr>\n",
       "  </thead>\n",
       "  <tbody>\n",
       "    <tr>\n",
       "      <th>0</th>\n",
       "      <td>Alpha</td>\n",
       "      <td>2018-06-01</td>\n",
       "    </tr>\n",
       "    <tr>\n",
       "      <th>1</th>\n",
       "      <td>Alpha</td>\n",
       "      <td>2018-06-14</td>\n",
       "    </tr>\n",
       "    <tr>\n",
       "      <th>2</th>\n",
       "      <td>Alpha</td>\n",
       "      <td>2018-06-15</td>\n",
       "    </tr>\n",
       "    <tr>\n",
       "      <th>3</th>\n",
       "      <td>Bravo</td>\n",
       "      <td>2018-06-01</td>\n",
       "    </tr>\n",
       "    <tr>\n",
       "      <th>4</th>\n",
       "      <td>Bravo</td>\n",
       "      <td>2018-06-02</td>\n",
       "    </tr>\n",
       "    <tr>\n",
       "      <th>5</th>\n",
       "      <td>Bravo</td>\n",
       "      <td>2018-06-19</td>\n",
       "    </tr>\n",
       "    <tr>\n",
       "      <th>6</th>\n",
       "      <td>Charlie</td>\n",
       "      <td>2018-06-01</td>\n",
       "    </tr>\n",
       "    <tr>\n",
       "      <th>7</th>\n",
       "      <td>Charlie</td>\n",
       "      <td>2018-06-15</td>\n",
       "    </tr>\n",
       "    <tr>\n",
       "      <th>8</th>\n",
       "      <td>Charlie</td>\n",
       "      <td>2018-06-30</td>\n",
       "    </tr>\n",
       "  </tbody>\n",
       "</table>\n",
       "</div>"
      ],
      "text/plain": [
       "  Workflow Execution Date\n",
       "0    Alpha     2018-06-01\n",
       "1    Alpha     2018-06-14\n",
       "2    Alpha     2018-06-15\n",
       "3    Bravo     2018-06-01\n",
       "4    Bravo     2018-06-02\n",
       "5    Bravo     2018-06-19\n",
       "6  Charlie     2018-06-01\n",
       "7  Charlie     2018-06-15\n",
       "8  Charlie     2018-06-30"
      ]
     },
     "execution_count": 72,
     "metadata": {},
     "output_type": "execute_result"
    }
   ],
   "source": [
    "df12.head(10)"
   ]
  },
  {
   "cell_type": "code",
   "execution_count": 73,
   "id": "b04ea54c",
   "metadata": {},
   "outputs": [],
   "source": [
    "def avgTime(x):\n",
    "    diff = x.diff().dropna().dt.days.mean()\n",
    "    return int(diff)"
   ]
  },
  {
   "cell_type": "code",
   "execution_count": 74,
   "id": "5a898d7b",
   "metadata": {},
   "outputs": [],
   "source": [
    "dfAgg = df12.groupby('Workflow')[['Execution Date']].agg(avgTime)"
   ]
  },
  {
   "cell_type": "code",
   "execution_count": 75,
   "id": "496a39e3",
   "metadata": {},
   "outputs": [
    {
     "data": {
      "text/html": [
       "<div>\n",
       "<style scoped>\n",
       "    .dataframe tbody tr th:only-of-type {\n",
       "        vertical-align: middle;\n",
       "    }\n",
       "\n",
       "    .dataframe tbody tr th {\n",
       "        vertical-align: top;\n",
       "    }\n",
       "\n",
       "    .dataframe thead th {\n",
       "        text-align: right;\n",
       "    }\n",
       "</style>\n",
       "<table border=\"1\" class=\"dataframe\">\n",
       "  <thead>\n",
       "    <tr style=\"text-align: right;\">\n",
       "      <th></th>\n",
       "      <th>Execution Date</th>\n",
       "    </tr>\n",
       "    <tr>\n",
       "      <th>Workflow</th>\n",
       "      <th></th>\n",
       "    </tr>\n",
       "  </thead>\n",
       "  <tbody>\n",
       "    <tr>\n",
       "      <th>Alpha</th>\n",
       "      <td>7</td>\n",
       "    </tr>\n",
       "    <tr>\n",
       "      <th>Bravo</th>\n",
       "      <td>9</td>\n",
       "    </tr>\n",
       "    <tr>\n",
       "      <th>Charlie</th>\n",
       "      <td>14</td>\n",
       "    </tr>\n",
       "  </tbody>\n",
       "</table>\n",
       "</div>"
      ],
      "text/plain": [
       "          Execution Date\n",
       "Workflow                \n",
       "Alpha                  7\n",
       "Bravo                  9\n",
       "Charlie               14"
      ]
     },
     "execution_count": 75,
     "metadata": {},
     "output_type": "execute_result"
    }
   ],
   "source": [
    "dfAgg"
   ]
  },
  {
   "cell_type": "code",
   "execution_count": null,
   "id": "bf8602de",
   "metadata": {},
   "outputs": [],
   "source": []
  },
  {
   "cell_type": "markdown",
   "id": "dbb8e2e2",
   "metadata": {},
   "source": [
    "### Puzzle 13"
   ]
  },
  {
   "cell_type": "code",
   "execution_count": 76,
   "id": "421d8205",
   "metadata": {},
   "outputs": [],
   "source": [
    "d13 = {'Date': [\"7/1/2018\", \"7/2/2018\", \"7/3/2018\", \"7/4/2018\", \"7/5/2018\"],\n",
    "     'Quantity Adjustment': [100, 75, -150, 50, -100]}\n",
    "df13 = pd.DataFrame(data=d13)\n",
    "df13['Date'] = pd.to_datetime(df13['Date'])"
   ]
  },
  {
   "cell_type": "code",
   "execution_count": 78,
   "id": "9ea0f9da",
   "metadata": {},
   "outputs": [
    {
     "data": {
      "text/html": [
       "<div>\n",
       "<style scoped>\n",
       "    .dataframe tbody tr th:only-of-type {\n",
       "        vertical-align: middle;\n",
       "    }\n",
       "\n",
       "    .dataframe tbody tr th {\n",
       "        vertical-align: top;\n",
       "    }\n",
       "\n",
       "    .dataframe thead th {\n",
       "        text-align: right;\n",
       "    }\n",
       "</style>\n",
       "<table border=\"1\" class=\"dataframe\">\n",
       "  <thead>\n",
       "    <tr style=\"text-align: right;\">\n",
       "      <th></th>\n",
       "      <th>Date</th>\n",
       "      <th>Quantity Adjustment</th>\n",
       "    </tr>\n",
       "  </thead>\n",
       "  <tbody>\n",
       "    <tr>\n",
       "      <th>0</th>\n",
       "      <td>2018-07-01</td>\n",
       "      <td>100</td>\n",
       "    </tr>\n",
       "    <tr>\n",
       "      <th>1</th>\n",
       "      <td>2018-07-02</td>\n",
       "      <td>75</td>\n",
       "    </tr>\n",
       "    <tr>\n",
       "      <th>2</th>\n",
       "      <td>2018-07-03</td>\n",
       "      <td>-150</td>\n",
       "    </tr>\n",
       "    <tr>\n",
       "      <th>3</th>\n",
       "      <td>2018-07-04</td>\n",
       "      <td>50</td>\n",
       "    </tr>\n",
       "    <tr>\n",
       "      <th>4</th>\n",
       "      <td>2018-07-05</td>\n",
       "      <td>-100</td>\n",
       "    </tr>\n",
       "  </tbody>\n",
       "</table>\n",
       "</div>"
      ],
      "text/plain": [
       "        Date  Quantity Adjustment\n",
       "0 2018-07-01                  100\n",
       "1 2018-07-02                   75\n",
       "2 2018-07-03                 -150\n",
       "3 2018-07-04                   50\n",
       "4 2018-07-05                 -100"
      ]
     },
     "execution_count": 78,
     "metadata": {},
     "output_type": "execute_result"
    }
   ],
   "source": [
    "df13.head(10)"
   ]
  },
  {
   "cell_type": "code",
   "execution_count": 79,
   "id": "f18f09eb",
   "metadata": {},
   "outputs": [],
   "source": [
    "df13['Inventory'] = df13['Quantity Adjustment'].cumsum()"
   ]
  },
  {
   "cell_type": "code",
   "execution_count": 80,
   "id": "7a98a5ab",
   "metadata": {},
   "outputs": [
    {
     "data": {
      "text/html": [
       "<div>\n",
       "<style scoped>\n",
       "    .dataframe tbody tr th:only-of-type {\n",
       "        vertical-align: middle;\n",
       "    }\n",
       "\n",
       "    .dataframe tbody tr th {\n",
       "        vertical-align: top;\n",
       "    }\n",
       "\n",
       "    .dataframe thead th {\n",
       "        text-align: right;\n",
       "    }\n",
       "</style>\n",
       "<table border=\"1\" class=\"dataframe\">\n",
       "  <thead>\n",
       "    <tr style=\"text-align: right;\">\n",
       "      <th></th>\n",
       "      <th>Date</th>\n",
       "      <th>Quantity Adjustment</th>\n",
       "      <th>Inventory</th>\n",
       "    </tr>\n",
       "  </thead>\n",
       "  <tbody>\n",
       "    <tr>\n",
       "      <th>0</th>\n",
       "      <td>2018-07-01</td>\n",
       "      <td>100</td>\n",
       "      <td>100</td>\n",
       "    </tr>\n",
       "    <tr>\n",
       "      <th>1</th>\n",
       "      <td>2018-07-02</td>\n",
       "      <td>75</td>\n",
       "      <td>175</td>\n",
       "    </tr>\n",
       "    <tr>\n",
       "      <th>2</th>\n",
       "      <td>2018-07-03</td>\n",
       "      <td>-150</td>\n",
       "      <td>25</td>\n",
       "    </tr>\n",
       "    <tr>\n",
       "      <th>3</th>\n",
       "      <td>2018-07-04</td>\n",
       "      <td>50</td>\n",
       "      <td>75</td>\n",
       "    </tr>\n",
       "    <tr>\n",
       "      <th>4</th>\n",
       "      <td>2018-07-05</td>\n",
       "      <td>-100</td>\n",
       "      <td>-25</td>\n",
       "    </tr>\n",
       "  </tbody>\n",
       "</table>\n",
       "</div>"
      ],
      "text/plain": [
       "        Date  Quantity Adjustment  Inventory\n",
       "0 2018-07-01                  100        100\n",
       "1 2018-07-02                   75        175\n",
       "2 2018-07-03                 -150         25\n",
       "3 2018-07-04                   50         75\n",
       "4 2018-07-05                 -100        -25"
      ]
     },
     "execution_count": 80,
     "metadata": {},
     "output_type": "execute_result"
    }
   ],
   "source": [
    "df13.head()"
   ]
  },
  {
   "cell_type": "code",
   "execution_count": null,
   "id": "b55ef247",
   "metadata": {},
   "outputs": [],
   "source": []
  },
  {
   "cell_type": "markdown",
   "id": "5b1fe45d",
   "metadata": {},
   "source": [
    "### Puzzle 14"
   ]
  },
  {
   "cell_type": "code",
   "execution_count": 81,
   "id": "8a509ae9",
   "metadata": {},
   "outputs": [],
   "source": [
    "d14 = {'Workflow': [\"Alpha\", \"Alpha\", \"Alpha\", \"Bravo\", \"Bravo\", \"Charlie\", \"Charlie\", \"Delta\", \"Delta\", \"Echo\", \"Echo\"],\n",
    "     'Step Number': [1, 2, 3, 1, 2, 1, 2, 1, 2, 1, 2],\n",
    "     'Execution Date': [\"Error\", \"Complete\", \"Running\", \"Complete\", \"Complete\", \"Running\", \"Running\", \"Error\", \"Error\", \"Running\", \"Complete\"]}\n",
    "df14 = pd.DataFrame(data=d14)"
   ]
  },
  {
   "cell_type": "code",
   "execution_count": 88,
   "id": "cc25fd8e",
   "metadata": {},
   "outputs": [
    {
     "data": {
      "text/html": [
       "<div>\n",
       "<style scoped>\n",
       "    .dataframe tbody tr th:only-of-type {\n",
       "        vertical-align: middle;\n",
       "    }\n",
       "\n",
       "    .dataframe tbody tr th {\n",
       "        vertical-align: top;\n",
       "    }\n",
       "\n",
       "    .dataframe thead th {\n",
       "        text-align: right;\n",
       "    }\n",
       "</style>\n",
       "<table border=\"1\" class=\"dataframe\">\n",
       "  <thead>\n",
       "    <tr style=\"text-align: right;\">\n",
       "      <th></th>\n",
       "      <th>Workflow</th>\n",
       "      <th>Step Number</th>\n",
       "      <th>Execution Date</th>\n",
       "    </tr>\n",
       "  </thead>\n",
       "  <tbody>\n",
       "    <tr>\n",
       "      <th>0</th>\n",
       "      <td>Alpha</td>\n",
       "      <td>1</td>\n",
       "      <td>Error</td>\n",
       "    </tr>\n",
       "    <tr>\n",
       "      <th>1</th>\n",
       "      <td>Alpha</td>\n",
       "      <td>2</td>\n",
       "      <td>Complete</td>\n",
       "    </tr>\n",
       "    <tr>\n",
       "      <th>2</th>\n",
       "      <td>Alpha</td>\n",
       "      <td>3</td>\n",
       "      <td>Running</td>\n",
       "    </tr>\n",
       "    <tr>\n",
       "      <th>3</th>\n",
       "      <td>Bravo</td>\n",
       "      <td>1</td>\n",
       "      <td>Complete</td>\n",
       "    </tr>\n",
       "    <tr>\n",
       "      <th>4</th>\n",
       "      <td>Bravo</td>\n",
       "      <td>2</td>\n",
       "      <td>Complete</td>\n",
       "    </tr>\n",
       "    <tr>\n",
       "      <th>5</th>\n",
       "      <td>Charlie</td>\n",
       "      <td>1</td>\n",
       "      <td>Running</td>\n",
       "    </tr>\n",
       "    <tr>\n",
       "      <th>6</th>\n",
       "      <td>Charlie</td>\n",
       "      <td>2</td>\n",
       "      <td>Running</td>\n",
       "    </tr>\n",
       "    <tr>\n",
       "      <th>7</th>\n",
       "      <td>Delta</td>\n",
       "      <td>1</td>\n",
       "      <td>Error</td>\n",
       "    </tr>\n",
       "    <tr>\n",
       "      <th>8</th>\n",
       "      <td>Delta</td>\n",
       "      <td>2</td>\n",
       "      <td>Error</td>\n",
       "    </tr>\n",
       "    <tr>\n",
       "      <th>9</th>\n",
       "      <td>Echo</td>\n",
       "      <td>1</td>\n",
       "      <td>Running</td>\n",
       "    </tr>\n",
       "    <tr>\n",
       "      <th>10</th>\n",
       "      <td>Echo</td>\n",
       "      <td>2</td>\n",
       "      <td>Complete</td>\n",
       "    </tr>\n",
       "  </tbody>\n",
       "</table>\n",
       "</div>"
      ],
      "text/plain": [
       "   Workflow  Step Number Execution Date\n",
       "0     Alpha            1          Error\n",
       "1     Alpha            2       Complete\n",
       "2     Alpha            3        Running\n",
       "3     Bravo            1       Complete\n",
       "4     Bravo            2       Complete\n",
       "5   Charlie            1        Running\n",
       "6   Charlie            2        Running\n",
       "7     Delta            1          Error\n",
       "8     Delta            2          Error\n",
       "9      Echo            1        Running\n",
       "10     Echo            2       Complete"
      ]
     },
     "execution_count": 88,
     "metadata": {},
     "output_type": "execute_result"
    }
   ],
   "source": [
    "df14"
   ]
  },
  {
   "cell_type": "code",
   "execution_count": 84,
   "id": "7292c18d",
   "metadata": {},
   "outputs": [],
   "source": [
    "def getStatus(x):\n",
    "    val = x.values\n",
    "    if len(set(val)) == 1:\n",
    "        return val[0]\n",
    "    elif \"Error\" in val:\n",
    "        return \"Indeterminate\"\n",
    "    else:\n",
    "        return \"Running\""
   ]
  },
  {
   "cell_type": "code",
   "execution_count": 86,
   "id": "b31d00c6",
   "metadata": {},
   "outputs": [
    {
     "data": {
      "text/html": [
       "<div>\n",
       "<style scoped>\n",
       "    .dataframe tbody tr th:only-of-type {\n",
       "        vertical-align: middle;\n",
       "    }\n",
       "\n",
       "    .dataframe tbody tr th {\n",
       "        vertical-align: top;\n",
       "    }\n",
       "\n",
       "    .dataframe thead th {\n",
       "        text-align: right;\n",
       "    }\n",
       "</style>\n",
       "<table border=\"1\" class=\"dataframe\">\n",
       "  <thead>\n",
       "    <tr style=\"text-align: right;\">\n",
       "      <th></th>\n",
       "      <th>Execution Date</th>\n",
       "    </tr>\n",
       "    <tr>\n",
       "      <th>Workflow</th>\n",
       "      <th></th>\n",
       "    </tr>\n",
       "  </thead>\n",
       "  <tbody>\n",
       "    <tr>\n",
       "      <th>Alpha</th>\n",
       "      <td>Indeterminate</td>\n",
       "    </tr>\n",
       "    <tr>\n",
       "      <th>Bravo</th>\n",
       "      <td>Complete</td>\n",
       "    </tr>\n",
       "    <tr>\n",
       "      <th>Charlie</th>\n",
       "      <td>Running</td>\n",
       "    </tr>\n",
       "    <tr>\n",
       "      <th>Delta</th>\n",
       "      <td>Error</td>\n",
       "    </tr>\n",
       "    <tr>\n",
       "      <th>Echo</th>\n",
       "      <td>Running</td>\n",
       "    </tr>\n",
       "  </tbody>\n",
       "</table>\n",
       "</div>"
      ],
      "text/plain": [
       "         Execution Date\n",
       "Workflow               \n",
       "Alpha     Indeterminate\n",
       "Bravo          Complete\n",
       "Charlie         Running\n",
       "Delta             Error\n",
       "Echo            Running"
      ]
     },
     "execution_count": 86,
     "metadata": {},
     "output_type": "execute_result"
    }
   ],
   "source": [
    "df14.groupby('Workflow')[[\"Execution Date\"]].agg(getStatus)"
   ]
  },
  {
   "cell_type": "markdown",
   "id": "3f673730",
   "metadata": {},
   "source": [
    "### Puzzle 15"
   ]
  },
  {
   "cell_type": "code",
   "execution_count": 89,
   "id": "8f9c400b",
   "metadata": {},
   "outputs": [],
   "source": [
    "d15 = {'Workflow': [1, 2, 3, 4, 5, 6, 7, 8, 9],\n",
    "     'Step Number': [\"SELECT\", \"Product,\", \"UnitPrice,\", \"EffectiveDate\", \"FROM\", \"Products\", \"WHERE\", \"UnitPrice\", \"> 100\"]}\n",
    "df15 = pd.DataFrame(data=d15)"
   ]
  },
  {
   "cell_type": "code",
   "execution_count": 90,
   "id": "def8f555",
   "metadata": {},
   "outputs": [
    {
     "ename": "KeyError",
     "evalue": "'Step Number'",
     "output_type": "error",
     "traceback": [
      "\u001b[1;31m---------------------------------------------------------------------------\u001b[0m",
      "\u001b[1;31mKeyError\u001b[0m                                  Traceback (most recent call last)",
      "\u001b[1;32m~\\AppData\\Roaming\\Python\\Python39\\site-packages\\pandas\\core\\indexes\\base.py\u001b[0m in \u001b[0;36mget_loc\u001b[1;34m(self, key, method, tolerance)\u001b[0m\n\u001b[0;32m   3360\u001b[0m             \u001b[1;32mtry\u001b[0m\u001b[1;33m:\u001b[0m\u001b[1;33m\u001b[0m\u001b[1;33m\u001b[0m\u001b[0m\n\u001b[1;32m-> 3361\u001b[1;33m                 \u001b[1;32mreturn\u001b[0m \u001b[0mself\u001b[0m\u001b[1;33m.\u001b[0m\u001b[0m_engine\u001b[0m\u001b[1;33m.\u001b[0m\u001b[0mget_loc\u001b[0m\u001b[1;33m(\u001b[0m\u001b[0mcasted_key\u001b[0m\u001b[1;33m)\u001b[0m\u001b[1;33m\u001b[0m\u001b[1;33m\u001b[0m\u001b[0m\n\u001b[0m\u001b[0;32m   3362\u001b[0m             \u001b[1;32mexcept\u001b[0m \u001b[0mKeyError\u001b[0m \u001b[1;32mas\u001b[0m \u001b[0merr\u001b[0m\u001b[1;33m:\u001b[0m\u001b[1;33m\u001b[0m\u001b[1;33m\u001b[0m\u001b[0m\n",
      "\u001b[1;32m~\\AppData\\Roaming\\Python\\Python39\\site-packages\\pandas\\_libs\\index.pyx\u001b[0m in \u001b[0;36mpandas._libs.index.IndexEngine.get_loc\u001b[1;34m()\u001b[0m\n",
      "\u001b[1;32m~\\AppData\\Roaming\\Python\\Python39\\site-packages\\pandas\\_libs\\index.pyx\u001b[0m in \u001b[0;36mpandas._libs.index.IndexEngine.get_loc\u001b[1;34m()\u001b[0m\n",
      "\u001b[1;32mpandas\\_libs\\hashtable_class_helper.pxi\u001b[0m in \u001b[0;36mpandas._libs.hashtable.PyObjectHashTable.get_item\u001b[1;34m()\u001b[0m\n",
      "\u001b[1;32mpandas\\_libs\\hashtable_class_helper.pxi\u001b[0m in \u001b[0;36mpandas._libs.hashtable.PyObjectHashTable.get_item\u001b[1;34m()\u001b[0m\n",
      "\u001b[1;31mKeyError\u001b[0m: 'Step Number'",
      "\nThe above exception was the direct cause of the following exception:\n",
      "\u001b[1;31mKeyError\u001b[0m                                  Traceback (most recent call last)",
      "\u001b[1;32m~\\AppData\\Local\\Temp/ipykernel_2448/4211414362.py\u001b[0m in \u001b[0;36m<module>\u001b[1;34m\u001b[0m\n\u001b[1;32m----> 1\u001b[1;33m \u001b[1;34m\" \"\u001b[0m\u001b[1;33m.\u001b[0m\u001b[0mjoin\u001b[0m\u001b[1;33m(\u001b[0m\u001b[0mdf\u001b[0m\u001b[1;33m[\u001b[0m\u001b[1;34m'Step Number'\u001b[0m\u001b[1;33m]\u001b[0m\u001b[1;33m.\u001b[0m\u001b[0mvalues\u001b[0m\u001b[1;33m)\u001b[0m\u001b[1;33m\u001b[0m\u001b[1;33m\u001b[0m\u001b[0m\n\u001b[0m",
      "\u001b[1;32m~\\AppData\\Roaming\\Python\\Python39\\site-packages\\pandas\\core\\frame.py\u001b[0m in \u001b[0;36m__getitem__\u001b[1;34m(self, key)\u001b[0m\n\u001b[0;32m   3453\u001b[0m             \u001b[1;32mif\u001b[0m \u001b[0mself\u001b[0m\u001b[1;33m.\u001b[0m\u001b[0mcolumns\u001b[0m\u001b[1;33m.\u001b[0m\u001b[0mnlevels\u001b[0m \u001b[1;33m>\u001b[0m \u001b[1;36m1\u001b[0m\u001b[1;33m:\u001b[0m\u001b[1;33m\u001b[0m\u001b[1;33m\u001b[0m\u001b[0m\n\u001b[0;32m   3454\u001b[0m                 \u001b[1;32mreturn\u001b[0m \u001b[0mself\u001b[0m\u001b[1;33m.\u001b[0m\u001b[0m_getitem_multilevel\u001b[0m\u001b[1;33m(\u001b[0m\u001b[0mkey\u001b[0m\u001b[1;33m)\u001b[0m\u001b[1;33m\u001b[0m\u001b[1;33m\u001b[0m\u001b[0m\n\u001b[1;32m-> 3455\u001b[1;33m             \u001b[0mindexer\u001b[0m \u001b[1;33m=\u001b[0m \u001b[0mself\u001b[0m\u001b[1;33m.\u001b[0m\u001b[0mcolumns\u001b[0m\u001b[1;33m.\u001b[0m\u001b[0mget_loc\u001b[0m\u001b[1;33m(\u001b[0m\u001b[0mkey\u001b[0m\u001b[1;33m)\u001b[0m\u001b[1;33m\u001b[0m\u001b[1;33m\u001b[0m\u001b[0m\n\u001b[0m\u001b[0;32m   3456\u001b[0m             \u001b[1;32mif\u001b[0m \u001b[0mis_integer\u001b[0m\u001b[1;33m(\u001b[0m\u001b[0mindexer\u001b[0m\u001b[1;33m)\u001b[0m\u001b[1;33m:\u001b[0m\u001b[1;33m\u001b[0m\u001b[1;33m\u001b[0m\u001b[0m\n\u001b[0;32m   3457\u001b[0m                 \u001b[0mindexer\u001b[0m \u001b[1;33m=\u001b[0m \u001b[1;33m[\u001b[0m\u001b[0mindexer\u001b[0m\u001b[1;33m]\u001b[0m\u001b[1;33m\u001b[0m\u001b[1;33m\u001b[0m\u001b[0m\n",
      "\u001b[1;32m~\\AppData\\Roaming\\Python\\Python39\\site-packages\\pandas\\core\\indexes\\base.py\u001b[0m in \u001b[0;36mget_loc\u001b[1;34m(self, key, method, tolerance)\u001b[0m\n\u001b[0;32m   3361\u001b[0m                 \u001b[1;32mreturn\u001b[0m \u001b[0mself\u001b[0m\u001b[1;33m.\u001b[0m\u001b[0m_engine\u001b[0m\u001b[1;33m.\u001b[0m\u001b[0mget_loc\u001b[0m\u001b[1;33m(\u001b[0m\u001b[0mcasted_key\u001b[0m\u001b[1;33m)\u001b[0m\u001b[1;33m\u001b[0m\u001b[1;33m\u001b[0m\u001b[0m\n\u001b[0;32m   3362\u001b[0m             \u001b[1;32mexcept\u001b[0m \u001b[0mKeyError\u001b[0m \u001b[1;32mas\u001b[0m \u001b[0merr\u001b[0m\u001b[1;33m:\u001b[0m\u001b[1;33m\u001b[0m\u001b[1;33m\u001b[0m\u001b[0m\n\u001b[1;32m-> 3363\u001b[1;33m                 \u001b[1;32mraise\u001b[0m \u001b[0mKeyError\u001b[0m\u001b[1;33m(\u001b[0m\u001b[0mkey\u001b[0m\u001b[1;33m)\u001b[0m \u001b[1;32mfrom\u001b[0m \u001b[0merr\u001b[0m\u001b[1;33m\u001b[0m\u001b[1;33m\u001b[0m\u001b[0m\n\u001b[0m\u001b[0;32m   3364\u001b[0m \u001b[1;33m\u001b[0m\u001b[0m\n\u001b[0;32m   3365\u001b[0m         \u001b[1;32mif\u001b[0m \u001b[0mis_scalar\u001b[0m\u001b[1;33m(\u001b[0m\u001b[0mkey\u001b[0m\u001b[1;33m)\u001b[0m \u001b[1;32mand\u001b[0m \u001b[0misna\u001b[0m\u001b[1;33m(\u001b[0m\u001b[0mkey\u001b[0m\u001b[1;33m)\u001b[0m \u001b[1;32mand\u001b[0m \u001b[1;32mnot\u001b[0m \u001b[0mself\u001b[0m\u001b[1;33m.\u001b[0m\u001b[0mhasnans\u001b[0m\u001b[1;33m:\u001b[0m\u001b[1;33m\u001b[0m\u001b[1;33m\u001b[0m\u001b[0m\n",
      "\u001b[1;31mKeyError\u001b[0m: 'Step Number'"
     ]
    }
   ],
   "source": [
    "\" \".join(df['Step Number'].values)"
   ]
  },
  {
   "cell_type": "code",
   "execution_count": 91,
   "id": "c5a3427b",
   "metadata": {},
   "outputs": [],
   "source": [
    "df15 = df15.agg(sum)"
   ]
  },
  {
   "cell_type": "code",
   "execution_count": 92,
   "id": "6d423dd6",
   "metadata": {},
   "outputs": [
    {
     "data": {
      "text/plain": [
       "'SELECTProduct,UnitPrice,EffectiveDateFROMProductsWHEREUnitPrice> 100'"
      ]
     },
     "execution_count": 92,
     "metadata": {},
     "output_type": "execute_result"
    }
   ],
   "source": [
    "df15['Step Number']"
   ]
  },
  {
   "cell_type": "code",
   "execution_count": null,
   "id": "cf7c972e",
   "metadata": {},
   "outputs": [],
   "source": []
  },
  {
   "cell_type": "markdown",
   "id": "62215191",
   "metadata": {},
   "source": [
    "### Puzzle 17"
   ]
  },
  {
   "cell_type": "code",
   "execution_count": 93,
   "id": "5db0c495",
   "metadata": {},
   "outputs": [],
   "source": [
    "d17 = {'Product': [\"Pencil\", \"Eraser\", \"Notebook\"],\n",
    "     'Step Number': [3, 4, 2]}\n",
    "df17 = pd.DataFrame(data=d17)"
   ]
  },
  {
   "cell_type": "code",
   "execution_count": 94,
   "id": "4af401aa",
   "metadata": {},
   "outputs": [
    {
     "data": {
      "text/html": [
       "<div>\n",
       "<style scoped>\n",
       "    .dataframe tbody tr th:only-of-type {\n",
       "        vertical-align: middle;\n",
       "    }\n",
       "\n",
       "    .dataframe tbody tr th {\n",
       "        vertical-align: top;\n",
       "    }\n",
       "\n",
       "    .dataframe thead th {\n",
       "        text-align: right;\n",
       "    }\n",
       "</style>\n",
       "<table border=\"1\" class=\"dataframe\">\n",
       "  <thead>\n",
       "    <tr style=\"text-align: right;\">\n",
       "      <th></th>\n",
       "      <th>Product</th>\n",
       "      <th>Step Number</th>\n",
       "    </tr>\n",
       "  </thead>\n",
       "  <tbody>\n",
       "    <tr>\n",
       "      <th>0</th>\n",
       "      <td>Pencil</td>\n",
       "      <td>3</td>\n",
       "    </tr>\n",
       "    <tr>\n",
       "      <th>1</th>\n",
       "      <td>Eraser</td>\n",
       "      <td>4</td>\n",
       "    </tr>\n",
       "    <tr>\n",
       "      <th>2</th>\n",
       "      <td>Notebook</td>\n",
       "      <td>2</td>\n",
       "    </tr>\n",
       "  </tbody>\n",
       "</table>\n",
       "</div>"
      ],
      "text/plain": [
       "    Product  Step Number\n",
       "0    Pencil            3\n",
       "1    Eraser            4\n",
       "2  Notebook            2"
      ]
     },
     "execution_count": 94,
     "metadata": {},
     "output_type": "execute_result"
    }
   ],
   "source": [
    "df17.head()"
   ]
  },
  {
   "cell_type": "code",
   "execution_count": null,
   "id": "1877a2fd",
   "metadata": {},
   "outputs": [],
   "source": [
    "[\"1\"] * 3"
   ]
  },
  {
   "cell_type": "code",
   "execution_count": 96,
   "id": "062e9202",
   "metadata": {},
   "outputs": [],
   "source": [
    "df17['Step Number'] = df17['Step Number'].map(lambda x: [\"1\"] * x)"
   ]
  },
  {
   "cell_type": "code",
   "execution_count": 97,
   "id": "3118e702",
   "metadata": {},
   "outputs": [
    {
     "data": {
      "text/html": [
       "<div>\n",
       "<style scoped>\n",
       "    .dataframe tbody tr th:only-of-type {\n",
       "        vertical-align: middle;\n",
       "    }\n",
       "\n",
       "    .dataframe tbody tr th {\n",
       "        vertical-align: top;\n",
       "    }\n",
       "\n",
       "    .dataframe thead th {\n",
       "        text-align: right;\n",
       "    }\n",
       "</style>\n",
       "<table border=\"1\" class=\"dataframe\">\n",
       "  <thead>\n",
       "    <tr style=\"text-align: right;\">\n",
       "      <th></th>\n",
       "      <th>Product</th>\n",
       "      <th>Step Number</th>\n",
       "    </tr>\n",
       "  </thead>\n",
       "  <tbody>\n",
       "    <tr>\n",
       "      <th>0</th>\n",
       "      <td>Pencil</td>\n",
       "      <td>1</td>\n",
       "    </tr>\n",
       "    <tr>\n",
       "      <th>0</th>\n",
       "      <td>Pencil</td>\n",
       "      <td>1</td>\n",
       "    </tr>\n",
       "    <tr>\n",
       "      <th>0</th>\n",
       "      <td>Pencil</td>\n",
       "      <td>1</td>\n",
       "    </tr>\n",
       "    <tr>\n",
       "      <th>1</th>\n",
       "      <td>Eraser</td>\n",
       "      <td>1</td>\n",
       "    </tr>\n",
       "    <tr>\n",
       "      <th>1</th>\n",
       "      <td>Eraser</td>\n",
       "      <td>1</td>\n",
       "    </tr>\n",
       "    <tr>\n",
       "      <th>1</th>\n",
       "      <td>Eraser</td>\n",
       "      <td>1</td>\n",
       "    </tr>\n",
       "    <tr>\n",
       "      <th>1</th>\n",
       "      <td>Eraser</td>\n",
       "      <td>1</td>\n",
       "    </tr>\n",
       "    <tr>\n",
       "      <th>2</th>\n",
       "      <td>Notebook</td>\n",
       "      <td>1</td>\n",
       "    </tr>\n",
       "    <tr>\n",
       "      <th>2</th>\n",
       "      <td>Notebook</td>\n",
       "      <td>1</td>\n",
       "    </tr>\n",
       "  </tbody>\n",
       "</table>\n",
       "</div>"
      ],
      "text/plain": [
       "    Product Step Number\n",
       "0    Pencil           1\n",
       "0    Pencil           1\n",
       "0    Pencil           1\n",
       "1    Eraser           1\n",
       "1    Eraser           1\n",
       "1    Eraser           1\n",
       "1    Eraser           1\n",
       "2  Notebook           1\n",
       "2  Notebook           1"
      ]
     },
     "execution_count": 97,
     "metadata": {},
     "output_type": "execute_result"
    }
   ],
   "source": [
    "df17.explode('Step Number')"
   ]
  },
  {
   "cell_type": "markdown",
   "id": "7f56d838",
   "metadata": {},
   "source": [
    "### Task 18"
   ]
  },
  {
   "cell_type": "code",
   "execution_count": 98,
   "id": "4da4e2bf",
   "metadata": {},
   "outputs": [],
   "source": [
    "d18 = {'SeatingChart': [7, 13, 14, 15, 27, 28, 29, 30, 31, 32, 33, 34, 52, 53, 54]}\n",
    "df18 = pd.DataFrame(data=d18)"
   ]
  },
  {
   "cell_type": "code",
   "execution_count": 99,
   "id": "0acc36a2",
   "metadata": {},
   "outputs": [
    {
     "data": {
      "text/html": [
       "<div>\n",
       "<style scoped>\n",
       "    .dataframe tbody tr th:only-of-type {\n",
       "        vertical-align: middle;\n",
       "    }\n",
       "\n",
       "    .dataframe tbody tr th {\n",
       "        vertical-align: top;\n",
       "    }\n",
       "\n",
       "    .dataframe thead th {\n",
       "        text-align: right;\n",
       "    }\n",
       "</style>\n",
       "<table border=\"1\" class=\"dataframe\">\n",
       "  <thead>\n",
       "    <tr style=\"text-align: right;\">\n",
       "      <th></th>\n",
       "      <th>SeatingChart</th>\n",
       "    </tr>\n",
       "  </thead>\n",
       "  <tbody>\n",
       "    <tr>\n",
       "      <th>0</th>\n",
       "      <td>7</td>\n",
       "    </tr>\n",
       "    <tr>\n",
       "      <th>1</th>\n",
       "      <td>13</td>\n",
       "    </tr>\n",
       "    <tr>\n",
       "      <th>2</th>\n",
       "      <td>14</td>\n",
       "    </tr>\n",
       "    <tr>\n",
       "      <th>3</th>\n",
       "      <td>15</td>\n",
       "    </tr>\n",
       "    <tr>\n",
       "      <th>4</th>\n",
       "      <td>27</td>\n",
       "    </tr>\n",
       "    <tr>\n",
       "      <th>5</th>\n",
       "      <td>28</td>\n",
       "    </tr>\n",
       "    <tr>\n",
       "      <th>6</th>\n",
       "      <td>29</td>\n",
       "    </tr>\n",
       "    <tr>\n",
       "      <th>7</th>\n",
       "      <td>30</td>\n",
       "    </tr>\n",
       "    <tr>\n",
       "      <th>8</th>\n",
       "      <td>31</td>\n",
       "    </tr>\n",
       "    <tr>\n",
       "      <th>9</th>\n",
       "      <td>32</td>\n",
       "    </tr>\n",
       "    <tr>\n",
       "      <th>10</th>\n",
       "      <td>33</td>\n",
       "    </tr>\n",
       "    <tr>\n",
       "      <th>11</th>\n",
       "      <td>34</td>\n",
       "    </tr>\n",
       "    <tr>\n",
       "      <th>12</th>\n",
       "      <td>52</td>\n",
       "    </tr>\n",
       "    <tr>\n",
       "      <th>13</th>\n",
       "      <td>53</td>\n",
       "    </tr>\n",
       "    <tr>\n",
       "      <th>14</th>\n",
       "      <td>54</td>\n",
       "    </tr>\n",
       "  </tbody>\n",
       "</table>\n",
       "</div>"
      ],
      "text/plain": [
       "    SeatingChart\n",
       "0              7\n",
       "1             13\n",
       "2             14\n",
       "3             15\n",
       "4             27\n",
       "5             28\n",
       "6             29\n",
       "7             30\n",
       "8             31\n",
       "9             32\n",
       "10            33\n",
       "11            34\n",
       "12            52\n",
       "13            53\n",
       "14            54"
      ]
     },
     "execution_count": 99,
     "metadata": {},
     "output_type": "execute_result"
    }
   ],
   "source": [
    "df18.head(30)"
   ]
  },
  {
   "cell_type": "code",
   "execution_count": 101,
   "id": "39e4751c",
   "metadata": {},
   "outputs": [
    {
     "data": {
      "text/plain": [
       "array([ 1,  2,  3,  4,  5,  6,  7,  8,  9, 10, 11, 12, 13, 14, 15, 16, 17,\n",
       "       18, 19, 20, 21, 22, 23, 24, 25, 26, 27, 28, 29, 30, 31, 32, 33, 34,\n",
       "       35, 36, 37, 38, 39, 40, 41, 42, 43, 44, 45, 46, 47, 48, 49, 50, 51,\n",
       "       52, 53, 54], dtype=int64)"
      ]
     },
     "execution_count": 101,
     "metadata": {},
     "output_type": "execute_result"
    }
   ],
   "source": [
    "np.arange(1, df18['SeatingChart'].max()+1)"
   ]
  },
  {
   "cell_type": "code",
   "execution_count": 102,
   "id": "12cc0059",
   "metadata": {},
   "outputs": [],
   "source": [
    "vals = df18['SeatingChart'].values"
   ]
  },
  {
   "cell_type": "code",
   "execution_count": null,
   "id": "1af2ec08",
   "metadata": {},
   "outputs": [],
   "source": [
    "dfAnother = dfAlls[~dfAlls.isin(vals)].dropna()"
   ]
  },
  {
   "cell_type": "code",
   "execution_count": null,
   "id": "f6687fb6",
   "metadata": {},
   "outputs": [],
   "source": [
    "dfGroups = pd.concat([pd.DataFrame({'SeatingChart': [1]}), df], ignore_index=True)"
   ]
  },
  {
   "cell_type": "code",
   "execution_count": null,
   "id": "a854ea58",
   "metadata": {},
   "outputs": [],
   "source": [
    "dfAns = dfNew[dfNew.diff(1)['SeatingChart'] > 1]"
   ]
  },
  {
   "cell_type": "code",
   "execution_count": null,
   "id": "839756ff",
   "metadata": {
    "scrolled": true
   },
   "outputs": [],
   "source": [
    "dfAns"
   ]
  },
  {
   "cell_type": "code",
   "execution_count": null,
   "id": "81470c86",
   "metadata": {},
   "outputs": [],
   "source": []
  },
  {
   "cell_type": "code",
   "execution_count": null,
   "id": "22a39b29",
   "metadata": {},
   "outputs": [],
   "source": []
  },
  {
   "cell_type": "code",
   "execution_count": null,
   "id": "ec2d415b",
   "metadata": {},
   "outputs": [],
   "source": [
    "dfAlls = pd.DataFrame(data={'SeatingChart': np.arange(1, df['SeatingChart'].max())})"
   ]
  },
  {
   "cell_type": "code",
   "execution_count": null,
   "id": "e7e307df",
   "metadata": {
    "scrolled": true
   },
   "outputs": [],
   "source": [
    "dfAlls"
   ]
  },
  {
   "cell_type": "code",
   "execution_count": null,
   "id": "ce133933",
   "metadata": {
    "scrolled": false
   },
   "outputs": [],
   "source": [
    "dfAnother.count()"
   ]
  },
  {
   "cell_type": "code",
   "execution_count": null,
   "id": "35eaccc5",
   "metadata": {},
   "outputs": [],
   "source": [
    "df.isin(somewhere)"
   ]
  },
  {
   "cell_type": "code",
   "execution_count": null,
   "id": "5bf80c39",
   "metadata": {},
   "outputs": [],
   "source": []
  },
  {
   "cell_type": "code",
   "execution_count": null,
   "id": "4b489f65",
   "metadata": {},
   "outputs": [],
   "source": []
  },
  {
   "cell_type": "code",
   "execution_count": null,
   "id": "8b07eff3",
   "metadata": {},
   "outputs": [],
   "source": []
  },
  {
   "cell_type": "code",
   "execution_count": null,
   "id": "3563c8d9",
   "metadata": {},
   "outputs": [],
   "source": []
  },
  {
   "cell_type": "code",
   "execution_count": null,
   "id": "da9de3ba",
   "metadata": {},
   "outputs": [],
   "source": [
    "df[df['SeatingChart'] % 2 == 0].count()"
   ]
  },
  {
   "cell_type": "code",
   "execution_count": null,
   "id": "dad15860",
   "metadata": {},
   "outputs": [],
   "source": []
  },
  {
   "cell_type": "code",
   "execution_count": null,
   "id": "7d071b3a",
   "metadata": {},
   "outputs": [],
   "source": [
    "df[df['SeatingChart'] % 2 == 1].count()"
   ]
  },
  {
   "cell_type": "code",
   "execution_count": null,
   "id": "aeea2bec",
   "metadata": {},
   "outputs": [],
   "source": []
  },
  {
   "cell_type": "markdown",
   "id": "cb59f647",
   "metadata": {},
   "source": [
    "### Puzzle 19"
   ]
  },
  {
   "cell_type": "code",
   "execution_count": null,
   "id": "a7c0a806",
   "metadata": {},
   "outputs": [],
   "source": []
  },
  {
   "cell_type": "markdown",
   "id": "01b8750d",
   "metadata": {},
   "source": [
    "### Puzzle 20"
   ]
  },
  {
   "cell_type": "code",
   "execution_count": null,
   "id": "afe28e82",
   "metadata": {},
   "outputs": [],
   "source": [
    "d = {'Product ID': [1001, 1001, 1001, 2002, 2002],\n",
    "     'Effective Date': [\"1/1/2018\", \"4/15/2018\", \"6/8/2018\", \"4/17/2018\", \"5/19/2018 \"],\n",
    "     'Unit Price': [\"$1.99\", \"$2.99\", \"$3.99\", \"$2.99\", \"$1.99\"]}\n",
    "df = pd.DataFrame(data=d)\n",
    "df['Effective Date'] = pd.to_datetime(df['Effective Date'])"
   ]
  },
  {
   "cell_type": "code",
   "execution_count": null,
   "id": "5b7b2ec4",
   "metadata": {},
   "outputs": [],
   "source": [
    "df.loc[df.groupby('Product ID')['Effective Date'].idxmax()]"
   ]
  },
  {
   "cell_type": "code",
   "execution_count": null,
   "id": "f265c8d0",
   "metadata": {},
   "outputs": [],
   "source": [
    "df.agg(selectMax, axis = 1)"
   ]
  },
  {
   "cell_type": "code",
   "execution_count": null,
   "id": "c12c2e2b",
   "metadata": {},
   "outputs": [],
   "source": [
    "len([\"TX\", \"TX\", \"TX\", \"TX\", \"TX\", \"TX\", \"TX\", \"IA\", \"IA\", \"IA\", \"IA\", \"IA\", \"IA\"])"
   ]
  },
  {
   "cell_type": "code",
   "execution_count": null,
   "id": "1890671a",
   "metadata": {},
   "outputs": [],
   "source": []
  },
  {
   "cell_type": "code",
   "execution_count": null,
   "id": "5ee15847",
   "metadata": {},
   "outputs": [],
   "source": []
  },
  {
   "cell_type": "markdown",
   "id": "8b1d0d7e",
   "metadata": {},
   "source": [
    "### Puzzle 21"
   ]
  },
  {
   "cell_type": "code",
   "execution_count": null,
   "id": "34d14725",
   "metadata": {},
   "outputs": [],
   "source": [
    "d = {'Order ID': [1, 2, 3, 4, 5, 6, 7, 8, 9, 10, 11, 12, 13],\n",
    "     'Customer ID': [1001, 1001, 1001, 1001, 1001, 2002, 2002, 3003, 3003, 3003, 4004, 4004, 4004],\n",
    "     'Order Date': ['1/1/2018', \"1/1/2018\", '1/1/2018', \"2/1/2018\", \"3/1/2018\", \"2/1/2018\", \"2/1/2018\", \"1/1/2018\", \"2/1/2018\", \"3/1/2018\", \"4/1/2018\", \"5/1/2018\", \"5/1/2018\"],\n",
    "     'Amount': [\"$100\", \"$150\", \"$75\", \"$100\", \"$100\", \"$75\", \"$150\", \"$100\", \"$100\", \"$100\", \"$100\", \"$50\", \"$100\"],\n",
    "     'State': [\"TX\", \"TX\", \"TX\", \"TX\", \"TX\", \"TX\", \"TX\", \"IA\", \"IA\", \"IA\", \"IA\", \"IA\", \"IA\"]}\n",
    "df = pd.DataFrame(data=d)"
   ]
  },
  {
   "cell_type": "code",
   "execution_count": null,
   "id": "8d3007dc",
   "metadata": {},
   "outputs": [],
   "source": [
    "df"
   ]
  },
  {
   "cell_type": "code",
   "execution_count": null,
   "id": "56607e8b",
   "metadata": {},
   "outputs": [],
   "source": [
    "\"$100\"[1:]"
   ]
  },
  {
   "cell_type": "code",
   "execution_count": null,
   "id": "4ea4bd68",
   "metadata": {},
   "outputs": [],
   "source": [
    "def moneyMean(value):\n",
    "    return int(value[1:])"
   ]
  },
  {
   "cell_type": "code",
   "execution_count": null,
   "id": "ffa648fd",
   "metadata": {},
   "outputs": [],
   "source": [
    "df[\"Amount\"] = df.apply(lambda x: moneyMean(x[\"Amount\"]), axis=1)"
   ]
  },
  {
   "cell_type": "code",
   "execution_count": null,
   "id": "8f877ee8",
   "metadata": {},
   "outputs": [],
   "source": [
    "meanDF = df.groupby(\"Customer ID\")['Amount'].mean()"
   ]
  },
  {
   "cell_type": "code",
   "execution_count": null,
   "id": "d9fe1aa7",
   "metadata": {},
   "outputs": [],
   "source": [
    "indexVals = meanDF[meanDF > 100].index"
   ]
  },
  {
   "cell_type": "code",
   "execution_count": null,
   "id": "5eb8e71a",
   "metadata": {},
   "outputs": [],
   "source": [
    "df[df['Customer ID'].isin(indexVals)]"
   ]
  },
  {
   "cell_type": "code",
   "execution_count": null,
   "id": "d05c3bb6",
   "metadata": {},
   "outputs": [],
   "source": []
  },
  {
   "cell_type": "markdown",
   "id": "9cf1ed35",
   "metadata": {},
   "source": [
    "### Puzzle 22"
   ]
  },
  {
   "cell_type": "code",
   "execution_count": null,
   "id": "a7e03365",
   "metadata": {},
   "outputs": [],
   "source": [
    "d = {'Workflow': [\"Bravo\", \"Alpha\", \"Charlie\", \"Alpha\", \"Bravo\", \"Charlie\", \"Alpha\", \"Charlie\"],\n",
    "     'Message': [\"Error: Cannot Divide by 0\", \"Error: Conversion Failed\", \"Error: Conversion Failed\", \"Error: Unidentified error occurred\", \"Error: Unidentified error occurred\", \"Error: Unidentified error occurred\", \"Status Complete\", \"Status Complete\"],\n",
    "     'Occurrences': [3, 5, 7, 9, 1, 10, 8, 6]}\n",
    "df = pd.DataFrame(data=d)"
   ]
  },
  {
   "cell_type": "code",
   "execution_count": null,
   "id": "da0037a3",
   "metadata": {},
   "outputs": [],
   "source": [
    "df"
   ]
  },
  {
   "cell_type": "code",
   "execution_count": null,
   "id": "a1476e8e",
   "metadata": {},
   "outputs": [],
   "source": [
    "df.loc[df.groupby('Message')['Occurrences'].idxmax()]"
   ]
  },
  {
   "cell_type": "code",
   "execution_count": null,
   "id": "8c4de4f9",
   "metadata": {},
   "outputs": [],
   "source": []
  },
  {
   "cell_type": "markdown",
   "id": "9b94fff6",
   "metadata": {},
   "source": [
    "### Puzzle 23"
   ]
  },
  {
   "cell_type": "code",
   "execution_count": null,
   "id": "e20e2e6a",
   "metadata": {},
   "outputs": [],
   "source": [
    "d = {'Player ID': [1001, 2002, 3003, 4004, 5005],\n",
    "     'Score': [2343, 9432, 6548, 1054, 6832]}\n",
    "df = pd.DataFrame(data=d)"
   ]
  },
  {
   "cell_type": "code",
   "execution_count": null,
   "id": "3ea55d0d",
   "metadata": {},
   "outputs": [],
   "source": [
    "df"
   ]
  },
  {
   "cell_type": "code",
   "execution_count": null,
   "id": "6d48b030",
   "metadata": {},
   "outputs": [],
   "source": [
    "df.sort_values(by=['Score'], ascending=False, ignore_index=True)"
   ]
  },
  {
   "cell_type": "code",
   "execution_count": null,
   "id": "b5b91ddb",
   "metadata": {},
   "outputs": [],
   "source": []
  },
  {
   "cell_type": "markdown",
   "id": "d7a888e7",
   "metadata": {},
   "source": [
    "### Puzzle 24"
   ]
  },
  {
   "cell_type": "code",
   "execution_count": null,
   "id": "33414451",
   "metadata": {},
   "outputs": [],
   "source": [
    "d = {'Order ID': [1, 2, 3, 4, 5, 6, 7, 8, 9, 10, 11, 12, 13],\n",
    "     'Customer ID': [1001, 1001, 1001, 1001, 1001, 2002, 2002, 3003, 3003, 3003, 4004, 4004, 4004],\n",
    "     'Order Date': ['1/1/2018', \"1/1/2018\", '1/1/2018', \"2/1/2018\", \"3/1/2018\", \"2/1/2018\", \"2/1/2018\", \"1/1/2018\", \"2/1/2018\", \"3/1/2018\", \"4/1/2018\", \"5/1/2018\", \"5/1/2018\"],\n",
    "     'Amount': [\"$100\", \"$150\", \"$75\", \"$100\", \"$100\", \"$75\", \"$150\", \"$100\", \"$100\", \"$100\", \"$100\", \"$50\", \"$100\"],\n",
    "     'State': [\"TX\", \"TX\", \"TX\", \"TX\", \"TX\", \"TX\", \"TX\", \"IA\", \"IA\", \"IA\", \"IA\", \"IA\", \"IA\"]}\n",
    "df = pd.DataFrame(data=d)"
   ]
  },
  {
   "cell_type": "code",
   "execution_count": null,
   "id": "aac2590c",
   "metadata": {},
   "outputs": [],
   "source": [
    "df"
   ]
  },
  {
   "cell_type": "code",
   "execution_count": null,
   "id": "bd671610",
   "metadata": {},
   "outputs": [],
   "source": [
    "df[df['Order ID'].between(5, 10)]"
   ]
  },
  {
   "cell_type": "code",
   "execution_count": null,
   "id": "c036badd",
   "metadata": {},
   "outputs": [],
   "source": []
  },
  {
   "cell_type": "markdown",
   "id": "e2910501",
   "metadata": {},
   "source": [
    "### Puzzle 25"
   ]
  },
  {
   "cell_type": "code",
   "execution_count": null,
   "id": "bbd20190",
   "metadata": {},
   "outputs": [],
   "source": [
    "d = {'Order ID': [1, 2, 3, 4, 5, 6],\n",
    "     'Customer ID': [1001, 1001, 1001, 2002, 2002, 2002],\n",
    "     'Count': [12, 54, 32, 7, 16, 5],\n",
    "     'Vendor': ['Direct Parts', 'Direct Parts', \"ACME\", \"ACME\", \"ACME\", \"Direct Parts\"]}\n",
    "df = pd.DataFrame(data=d)"
   ]
  },
  {
   "cell_type": "code",
   "execution_count": null,
   "id": "f6f67839",
   "metadata": {},
   "outputs": [],
   "source": [
    "df.loc[df.groupby(\"Customer ID\")['Count'].idxmax()][['Customer ID', 'Vendor']]"
   ]
  },
  {
   "cell_type": "code",
   "execution_count": null,
   "id": "587e64d5",
   "metadata": {},
   "outputs": [],
   "source": []
  },
  {
   "cell_type": "markdown",
   "id": "95aa273b",
   "metadata": {},
   "source": [
    "### Puzzle 26"
   ]
  },
  {
   "cell_type": "code",
   "execution_count": null,
   "id": "1ea08020",
   "metadata": {},
   "outputs": [],
   "source": [
    "d = {'Year': [2018, 2017, 2017, 2016, 2016, 2016],\n",
    "     'Amount': [\"$352,645\", \"$165,565\", \"$254,654\", \"$159,521\", \"$251,696\", \"$111,894\"]}\n",
    "df = pd.DataFrame(data=d)"
   ]
  },
  {
   "cell_type": "code",
   "execution_count": null,
   "id": "ca01b7c0",
   "metadata": {},
   "outputs": [],
   "source": [
    "def moneyMean(value):\n",
    "    value = value.replace(\",\", \"\")\n",
    "    return int(value[1:])"
   ]
  },
  {
   "cell_type": "code",
   "execution_count": null,
   "id": "45b15fdc",
   "metadata": {},
   "outputs": [],
   "source": [
    "df['Amount'] = df['Amount'].map(lambda x: moneyMean(x))"
   ]
  },
  {
   "cell_type": "code",
   "execution_count": null,
   "id": "29fcbeeb",
   "metadata": {},
   "outputs": [],
   "source": [
    "df.groupby(\"Year\").sum().transpose()"
   ]
  },
  {
   "cell_type": "code",
   "execution_count": null,
   "id": "1c6d9c48",
   "metadata": {},
   "outputs": [],
   "source": []
  },
  {
   "cell_type": "markdown",
   "id": "2da375e1",
   "metadata": {},
   "source": [
    "### Puzzle 27"
   ]
  },
  {
   "cell_type": "code",
   "execution_count": null,
   "id": "31e11a6f",
   "metadata": {},
   "outputs": [],
   "source": []
  },
  {
   "cell_type": "markdown",
   "id": "84e5201a",
   "metadata": {},
   "source": [
    "### Puzzle 28"
   ]
  },
  {
   "cell_type": "code",
   "execution_count": null,
   "id": "d5ec42f8",
   "metadata": {},
   "outputs": [],
   "source": [
    "d = {'Year': [1, 2, 3, 4, 5, 6, 7, 8, 9, 10, 11, 12],\n",
    "     'Amount': [\"Alpha\", None, None, None, \"Bravo\", None, None, None, None, \"Charlie\", None, None],\n",
    "     'Status': ['Pass', \"Fail\", \"Fail\", 'Fail', \"Pass\", 'Fail', \"Fail\", \"Pass\", \"Pass\", \"Fail\", \"Fail\", \"Fail\"]}\n",
    "df = pd.DataFrame(data=d)"
   ]
  },
  {
   "cell_type": "code",
   "execution_count": null,
   "id": "5e943b92",
   "metadata": {},
   "outputs": [],
   "source": [
    "df"
   ]
  },
  {
   "cell_type": "code",
   "execution_count": null,
   "id": "d22e4b7d",
   "metadata": {},
   "outputs": [],
   "source": [
    "df.fillna(method=\"ffill\")"
   ]
  },
  {
   "cell_type": "code",
   "execution_count": null,
   "id": "c1ef3534",
   "metadata": {},
   "outputs": [],
   "source": []
  },
  {
   "cell_type": "markdown",
   "id": "95d69b86",
   "metadata": {},
   "source": [
    "### Puzzle 29"
   ]
  },
  {
   "cell_type": "code",
   "execution_count": null,
   "id": "eafdd10b",
   "metadata": {},
   "outputs": [],
   "source": [
    "d29 = {'Step Number': [1, 2, 3, 4, 5, 6, 7, 8, 9, 10, 11, 12],\n",
    "       'Status': ['Passed', \"Passed\", \"Passed\", 'Passed', \"Failed\", 'Failed', \"Failed\", \"Failed\", \"Failed\", \"Passed\", \"Passed\", \"Passed\"]}\n",
    "df29 = pd.DataFrame(data=d29)"
   ]
  },
  {
   "cell_type": "code",
   "execution_count": null,
   "id": "821f6461",
   "metadata": {},
   "outputs": [],
   "source": [
    "df29"
   ]
  },
  {
   "cell_type": "markdown",
   "id": "c8aec0ad",
   "metadata": {},
   "source": [
    "### Puzzle 30"
   ]
  },
  {
   "cell_type": "code",
   "execution_count": null,
   "id": "95b7b84c",
   "metadata": {},
   "outputs": [],
   "source": []
  },
  {
   "cell_type": "markdown",
   "id": "342aa073",
   "metadata": {},
   "source": [
    "### Puzzle 31"
   ]
  },
  {
   "cell_type": "code",
   "execution_count": null,
   "id": "4e7a7ac0",
   "metadata": {},
   "outputs": [],
   "source": [
    "d31 = {'IntegerValue': [3759, 3760, 3761, 3762, 3763]}\n",
    "df31 = pd.DataFrame(data=d31)"
   ]
  },
  {
   "cell_type": "code",
   "execution_count": null,
   "id": "76ec769b",
   "metadata": {},
   "outputs": [],
   "source": [
    "df31"
   ]
  },
  {
   "cell_type": "code",
   "execution_count": null,
   "id": "cd2fdd5e",
   "metadata": {},
   "outputs": [],
   "source": [
    "df31['IntegerValue'].max()"
   ]
  },
  {
   "cell_type": "markdown",
   "id": "39542be2",
   "metadata": {},
   "source": [
    "### Puzzle #32"
   ]
  },
  {
   "cell_type": "code",
   "execution_count": 3,
   "id": "c9d80215",
   "metadata": {},
   "outputs": [],
   "source": [
    "d32 = {'Spaceman ID': [1001, 2002, 3003, 4004, 5005, 6006, 7007, 8008, 9009],\n",
    "       'Job Description': ['Astrogator', \"Astrogator\", \"Astrogator\", 'Geologist', \"Geologist\", 'Geologist', \"Technician\", \"Technician\", \"Technician\"],\n",
    "       \"Mission Count\" : [6, 12, 17, 21, 9, 8, 13, 2, 7]}\n",
    "df32 = pd.DataFrame(data=d32)"
   ]
  },
  {
   "cell_type": "code",
   "execution_count": 4,
   "id": "f95a589e",
   "metadata": {},
   "outputs": [
    {
     "data": {
      "text/html": [
       "<div>\n",
       "<style scoped>\n",
       "    .dataframe tbody tr th:only-of-type {\n",
       "        vertical-align: middle;\n",
       "    }\n",
       "\n",
       "    .dataframe tbody tr th {\n",
       "        vertical-align: top;\n",
       "    }\n",
       "\n",
       "    .dataframe thead th {\n",
       "        text-align: right;\n",
       "    }\n",
       "</style>\n",
       "<table border=\"1\" class=\"dataframe\">\n",
       "  <thead>\n",
       "    <tr style=\"text-align: right;\">\n",
       "      <th></th>\n",
       "      <th>Spaceman ID</th>\n",
       "      <th>Job Description</th>\n",
       "      <th>Mission Count</th>\n",
       "    </tr>\n",
       "  </thead>\n",
       "  <tbody>\n",
       "    <tr>\n",
       "      <th>0</th>\n",
       "      <td>1001</td>\n",
       "      <td>Astrogator</td>\n",
       "      <td>6</td>\n",
       "    </tr>\n",
       "    <tr>\n",
       "      <th>1</th>\n",
       "      <td>2002</td>\n",
       "      <td>Astrogator</td>\n",
       "      <td>12</td>\n",
       "    </tr>\n",
       "    <tr>\n",
       "      <th>2</th>\n",
       "      <td>3003</td>\n",
       "      <td>Astrogator</td>\n",
       "      <td>17</td>\n",
       "    </tr>\n",
       "    <tr>\n",
       "      <th>3</th>\n",
       "      <td>4004</td>\n",
       "      <td>Geologist</td>\n",
       "      <td>21</td>\n",
       "    </tr>\n",
       "    <tr>\n",
       "      <th>4</th>\n",
       "      <td>5005</td>\n",
       "      <td>Geologist</td>\n",
       "      <td>9</td>\n",
       "    </tr>\n",
       "    <tr>\n",
       "      <th>5</th>\n",
       "      <td>6006</td>\n",
       "      <td>Geologist</td>\n",
       "      <td>8</td>\n",
       "    </tr>\n",
       "    <tr>\n",
       "      <th>6</th>\n",
       "      <td>7007</td>\n",
       "      <td>Technician</td>\n",
       "      <td>13</td>\n",
       "    </tr>\n",
       "    <tr>\n",
       "      <th>7</th>\n",
       "      <td>8008</td>\n",
       "      <td>Technician</td>\n",
       "      <td>2</td>\n",
       "    </tr>\n",
       "    <tr>\n",
       "      <th>8</th>\n",
       "      <td>9009</td>\n",
       "      <td>Technician</td>\n",
       "      <td>7</td>\n",
       "    </tr>\n",
       "  </tbody>\n",
       "</table>\n",
       "</div>"
      ],
      "text/plain": [
       "   Spaceman ID Job Description  Mission Count\n",
       "0         1001      Astrogator              6\n",
       "1         2002      Astrogator             12\n",
       "2         3003      Astrogator             17\n",
       "3         4004       Geologist             21\n",
       "4         5005       Geologist              9\n",
       "5         6006       Geologist              8\n",
       "6         7007      Technician             13\n",
       "7         8008      Technician              2\n",
       "8         9009      Technician              7"
      ]
     },
     "execution_count": 4,
     "metadata": {},
     "output_type": "execute_result"
    }
   ],
   "source": [
    "df32"
   ]
  },
  {
   "cell_type": "markdown",
   "id": "042359ee",
   "metadata": {},
   "source": [
    "#### Approach 1. With Apply. <br>\n",
    "So, basically groupBy splits data by some column, then applies some operation and sticks together Series objects into new dataFrame"
   ]
  },
  {
   "cell_type": "code",
   "execution_count": null,
   "id": "b270e956",
   "metadata": {},
   "outputs": [],
   "source": []
  },
  {
   "cell_type": "code",
   "execution_count": 5,
   "id": "31ff745e",
   "metadata": {},
   "outputs": [],
   "source": [
    "def examineData(data):\n",
    "    print(type(data))\n",
    "    print(data)\n",
    "    #print(data.min())\n",
    "    #print(type(data.min()))\n",
    "    return data"
   ]
  },
  {
   "cell_type": "code",
   "execution_count": 6,
   "id": "da70ad1d",
   "metadata": {},
   "outputs": [
    {
     "name": "stdout",
     "output_type": "stream",
     "text": [
      "<class 'pandas.core.frame.DataFrame'>\n",
      "   Spaceman ID Job Description  Mission Count\n",
      "0         1001      Astrogator              6\n",
      "1         2002      Astrogator             12\n",
      "2         3003      Astrogator             17\n",
      "<class 'pandas.core.frame.DataFrame'>\n",
      "   Spaceman ID Job Description  Mission Count\n",
      "3         4004       Geologist             21\n",
      "4         5005       Geologist              9\n",
      "5         6006       Geologist              8\n",
      "<class 'pandas.core.frame.DataFrame'>\n",
      "   Spaceman ID Job Description  Mission Count\n",
      "6         7007      Technician             13\n",
      "7         8008      Technician              2\n",
      "8         9009      Technician              7\n"
     ]
    },
    {
     "data": {
      "text/html": [
       "<div>\n",
       "<style scoped>\n",
       "    .dataframe tbody tr th:only-of-type {\n",
       "        vertical-align: middle;\n",
       "    }\n",
       "\n",
       "    .dataframe tbody tr th {\n",
       "        vertical-align: top;\n",
       "    }\n",
       "\n",
       "    .dataframe thead th {\n",
       "        text-align: right;\n",
       "    }\n",
       "</style>\n",
       "<table border=\"1\" class=\"dataframe\">\n",
       "  <thead>\n",
       "    <tr style=\"text-align: right;\">\n",
       "      <th></th>\n",
       "      <th>Spaceman ID</th>\n",
       "      <th>Job Description</th>\n",
       "      <th>Mission Count</th>\n",
       "    </tr>\n",
       "  </thead>\n",
       "  <tbody>\n",
       "    <tr>\n",
       "      <th>0</th>\n",
       "      <td>1001</td>\n",
       "      <td>Astrogator</td>\n",
       "      <td>6</td>\n",
       "    </tr>\n",
       "    <tr>\n",
       "      <th>1</th>\n",
       "      <td>2002</td>\n",
       "      <td>Astrogator</td>\n",
       "      <td>12</td>\n",
       "    </tr>\n",
       "    <tr>\n",
       "      <th>2</th>\n",
       "      <td>3003</td>\n",
       "      <td>Astrogator</td>\n",
       "      <td>17</td>\n",
       "    </tr>\n",
       "    <tr>\n",
       "      <th>3</th>\n",
       "      <td>4004</td>\n",
       "      <td>Geologist</td>\n",
       "      <td>21</td>\n",
       "    </tr>\n",
       "    <tr>\n",
       "      <th>4</th>\n",
       "      <td>5005</td>\n",
       "      <td>Geologist</td>\n",
       "      <td>9</td>\n",
       "    </tr>\n",
       "    <tr>\n",
       "      <th>5</th>\n",
       "      <td>6006</td>\n",
       "      <td>Geologist</td>\n",
       "      <td>8</td>\n",
       "    </tr>\n",
       "    <tr>\n",
       "      <th>6</th>\n",
       "      <td>7007</td>\n",
       "      <td>Technician</td>\n",
       "      <td>13</td>\n",
       "    </tr>\n",
       "    <tr>\n",
       "      <th>7</th>\n",
       "      <td>8008</td>\n",
       "      <td>Technician</td>\n",
       "      <td>2</td>\n",
       "    </tr>\n",
       "    <tr>\n",
       "      <th>8</th>\n",
       "      <td>9009</td>\n",
       "      <td>Technician</td>\n",
       "      <td>7</td>\n",
       "    </tr>\n",
       "  </tbody>\n",
       "</table>\n",
       "</div>"
      ],
      "text/plain": [
       "   Spaceman ID Job Description  Mission Count\n",
       "0         1001      Astrogator              6\n",
       "1         2002      Astrogator             12\n",
       "2         3003      Astrogator             17\n",
       "3         4004       Geologist             21\n",
       "4         5005       Geologist              9\n",
       "5         6006       Geologist              8\n",
       "6         7007      Technician             13\n",
       "7         8008      Technician              2\n",
       "8         9009      Technician              7"
      ]
     },
     "execution_count": 6,
     "metadata": {},
     "output_type": "execute_result"
    }
   ],
   "source": [
    "df32.groupby(\"Job Description\").apply(examineData)"
   ]
  },
  {
   "cell_type": "code",
   "execution_count": null,
   "id": "52f1d678",
   "metadata": {},
   "outputs": [],
   "source": []
  },
  {
   "cell_type": "code",
   "execution_count": 7,
   "id": "92f9f1c1",
   "metadata": {},
   "outputs": [],
   "source": [
    "def findMax(data):\n",
    "    result = data[data['Mission Count'] == data['Mission Count'].max()].squeeze()\n",
    "    return result"
   ]
  },
  {
   "cell_type": "code",
   "execution_count": 8,
   "id": "30e40bc9",
   "metadata": {},
   "outputs": [],
   "source": [
    "def findMin(data):\n",
    "    result = data[data['Mission Count'] == data['Mission Count'].min()].squeeze()\n",
    "    return result"
   ]
  },
  {
   "cell_type": "code",
   "execution_count": null,
   "id": "380007c5",
   "metadata": {},
   "outputs": [],
   "source": []
  },
  {
   "cell_type": "code",
   "execution_count": null,
   "id": "1ea08c0e",
   "metadata": {},
   "outputs": [],
   "source": []
  },
  {
   "cell_type": "code",
   "execution_count": 9,
   "id": "38bd7df7",
   "metadata": {},
   "outputs": [
    {
     "data": {
      "text/html": [
       "<div>\n",
       "<style scoped>\n",
       "    .dataframe tbody tr th:only-of-type {\n",
       "        vertical-align: middle;\n",
       "    }\n",
       "\n",
       "    .dataframe tbody tr th {\n",
       "        vertical-align: top;\n",
       "    }\n",
       "\n",
       "    .dataframe thead th {\n",
       "        text-align: right;\n",
       "    }\n",
       "</style>\n",
       "<table border=\"1\" class=\"dataframe\">\n",
       "  <thead>\n",
       "    <tr style=\"text-align: right;\">\n",
       "      <th></th>\n",
       "      <th>Spaceman ID</th>\n",
       "      <th>Job Description</th>\n",
       "      <th>Mission Count</th>\n",
       "    </tr>\n",
       "    <tr>\n",
       "      <th>Job Description</th>\n",
       "      <th></th>\n",
       "      <th></th>\n",
       "      <th></th>\n",
       "    </tr>\n",
       "  </thead>\n",
       "  <tbody>\n",
       "    <tr>\n",
       "      <th>Astrogator</th>\n",
       "      <td>3003</td>\n",
       "      <td>Astrogator</td>\n",
       "      <td>17</td>\n",
       "    </tr>\n",
       "    <tr>\n",
       "      <th>Geologist</th>\n",
       "      <td>4004</td>\n",
       "      <td>Geologist</td>\n",
       "      <td>21</td>\n",
       "    </tr>\n",
       "    <tr>\n",
       "      <th>Technician</th>\n",
       "      <td>7007</td>\n",
       "      <td>Technician</td>\n",
       "      <td>13</td>\n",
       "    </tr>\n",
       "  </tbody>\n",
       "</table>\n",
       "</div>"
      ],
      "text/plain": [
       "                 Spaceman ID Job Description  Mission Count\n",
       "Job Description                                            \n",
       "Astrogator              3003      Astrogator             17\n",
       "Geologist               4004       Geologist             21\n",
       "Technician              7007      Technician             13"
      ]
     },
     "execution_count": 9,
     "metadata": {},
     "output_type": "execute_result"
    }
   ],
   "source": [
    "df32.groupby(\"Job Description\").apply(findMax)"
   ]
  },
  {
   "cell_type": "code",
   "execution_count": 10,
   "id": "434ca792",
   "metadata": {},
   "outputs": [
    {
     "data": {
      "text/html": [
       "<div>\n",
       "<style scoped>\n",
       "    .dataframe tbody tr th:only-of-type {\n",
       "        vertical-align: middle;\n",
       "    }\n",
       "\n",
       "    .dataframe tbody tr th {\n",
       "        vertical-align: top;\n",
       "    }\n",
       "\n",
       "    .dataframe thead th {\n",
       "        text-align: right;\n",
       "    }\n",
       "</style>\n",
       "<table border=\"1\" class=\"dataframe\">\n",
       "  <thead>\n",
       "    <tr style=\"text-align: right;\">\n",
       "      <th></th>\n",
       "      <th>Spaceman ID</th>\n",
       "      <th>Job Description</th>\n",
       "      <th>Mission Count</th>\n",
       "    </tr>\n",
       "    <tr>\n",
       "      <th>Job Description</th>\n",
       "      <th></th>\n",
       "      <th></th>\n",
       "      <th></th>\n",
       "    </tr>\n",
       "  </thead>\n",
       "  <tbody>\n",
       "    <tr>\n",
       "      <th>Astrogator</th>\n",
       "      <td>1001</td>\n",
       "      <td>Astrogator</td>\n",
       "      <td>6</td>\n",
       "    </tr>\n",
       "    <tr>\n",
       "      <th>Geologist</th>\n",
       "      <td>6006</td>\n",
       "      <td>Geologist</td>\n",
       "      <td>8</td>\n",
       "    </tr>\n",
       "    <tr>\n",
       "      <th>Technician</th>\n",
       "      <td>8008</td>\n",
       "      <td>Technician</td>\n",
       "      <td>2</td>\n",
       "    </tr>\n",
       "  </tbody>\n",
       "</table>\n",
       "</div>"
      ],
      "text/plain": [
       "                 Spaceman ID Job Description  Mission Count\n",
       "Job Description                                            \n",
       "Astrogator              1001      Astrogator              6\n",
       "Geologist               6006       Geologist              8\n",
       "Technician              8008      Technician              2"
      ]
     },
     "execution_count": 10,
     "metadata": {},
     "output_type": "execute_result"
    }
   ],
   "source": [
    "df32.groupby(\"Job Description\").apply(findMin)"
   ]
  },
  {
   "cell_type": "code",
   "execution_count": 11,
   "id": "f87dc678",
   "metadata": {},
   "outputs": [],
   "source": [
    "dfMostLeast = df32.groupby(\"Job Description\").apply(findMax)[['Spaceman ID']]"
   ]
  },
  {
   "cell_type": "code",
   "execution_count": 12,
   "id": "fa6455dc",
   "metadata": {},
   "outputs": [],
   "source": [
    "dfMostLeast = dfMostLeast.rename(columns={\"Spaceman ID\": \"Most Experienced \"})"
   ]
  },
  {
   "cell_type": "code",
   "execution_count": 13,
   "id": "14438537",
   "metadata": {},
   "outputs": [],
   "source": [
    "dfMostLeast['Least Experienced'] = df32.groupby(\"Job Description\").apply(findMin)[['Spaceman ID']]"
   ]
  },
  {
   "cell_type": "code",
   "execution_count": 14,
   "id": "e242f6b5",
   "metadata": {},
   "outputs": [
    {
     "data": {
      "text/html": [
       "<div>\n",
       "<style scoped>\n",
       "    .dataframe tbody tr th:only-of-type {\n",
       "        vertical-align: middle;\n",
       "    }\n",
       "\n",
       "    .dataframe tbody tr th {\n",
       "        vertical-align: top;\n",
       "    }\n",
       "\n",
       "    .dataframe thead th {\n",
       "        text-align: right;\n",
       "    }\n",
       "</style>\n",
       "<table border=\"1\" class=\"dataframe\">\n",
       "  <thead>\n",
       "    <tr style=\"text-align: right;\">\n",
       "      <th></th>\n",
       "      <th>Most Experienced</th>\n",
       "      <th>Least Experienced</th>\n",
       "    </tr>\n",
       "    <tr>\n",
       "      <th>Job Description</th>\n",
       "      <th></th>\n",
       "      <th></th>\n",
       "    </tr>\n",
       "  </thead>\n",
       "  <tbody>\n",
       "    <tr>\n",
       "      <th>Astrogator</th>\n",
       "      <td>3003</td>\n",
       "      <td>1001</td>\n",
       "    </tr>\n",
       "    <tr>\n",
       "      <th>Geologist</th>\n",
       "      <td>4004</td>\n",
       "      <td>6006</td>\n",
       "    </tr>\n",
       "    <tr>\n",
       "      <th>Technician</th>\n",
       "      <td>7007</td>\n",
       "      <td>8008</td>\n",
       "    </tr>\n",
       "  </tbody>\n",
       "</table>\n",
       "</div>"
      ],
      "text/plain": [
       "                 Most Experienced   Least Experienced\n",
       "Job Description                                      \n",
       "Astrogator                    3003               1001\n",
       "Geologist                     4004               6006\n",
       "Technician                    7007               8008"
      ]
     },
     "execution_count": 14,
     "metadata": {},
     "output_type": "execute_result"
    }
   ],
   "source": [
    "dfMostLeast.head()"
   ]
  },
  {
   "cell_type": "code",
   "execution_count": null,
   "id": "97fda23c",
   "metadata": {},
   "outputs": [],
   "source": []
  },
  {
   "cell_type": "code",
   "execution_count": null,
   "id": "8b050de2",
   "metadata": {},
   "outputs": [],
   "source": []
  },
  {
   "cell_type": "markdown",
   "id": "41f1877d",
   "metadata": {},
   "source": [
    "### Puzzle #33"
   ]
  },
  {
   "cell_type": "code",
   "execution_count": 7,
   "id": "3decdbb7",
   "metadata": {},
   "outputs": [],
   "source": [
    "d33_ = {'OrderID': [1, 2, 3],\n",
    "       'Product': ['Widget', \"Gizmo\", \"Doodad\"],\n",
    "       'DaysToDeliver' : [7, 3, 9]}\n",
    "df33_ = pd.DataFrame(data=d33_)"
   ]
  },
  {
   "cell_type": "code",
   "execution_count": null,
   "id": "eb3a1be6",
   "metadata": {},
   "outputs": [],
   "source": [
    "('AA-111','Widget',7),\n",
    "('BB-222','Widget',2),\n",
    "('CC-333','Widget',3),\n",
    "('DD-444','Widget',1),\n",
    "('AA-111','Gizmo',7),\n",
    "('BB-222','Gizmo',2),\n",
    "('AA-111','Doodad',7),\n",
    "('DD-444','Doodad',1);"
   ]
  },
  {
   "cell_type": "code",
   "execution_count": 11,
   "id": "14682add",
   "metadata": {},
   "outputs": [],
   "source": [
    "d33 = {'PartID': ['AA-111', 'BB-222', 'CC-333', 'DD-444', 'AA-111', 'BB-222', 'AA-111', 'DD-444'],\n",
    "       'Product': ['Widget', \"Widget\", \"Widget\", 'Widget', \"Gizmo\", 'Gizmo', \"Doodad\", \"Doodad\"],\n",
    "       'DaysToManufacture': [7, 2, 3, 1, 7, 2, 7, 1]}\n",
    "df33 = pd.DataFrame(data=d33)"
   ]
  },
  {
   "cell_type": "code",
   "execution_count": 12,
   "id": "bd5f92e2",
   "metadata": {},
   "outputs": [
    {
     "data": {
      "text/html": [
       "<div>\n",
       "<style scoped>\n",
       "    .dataframe tbody tr th:only-of-type {\n",
       "        vertical-align: middle;\n",
       "    }\n",
       "\n",
       "    .dataframe tbody tr th {\n",
       "        vertical-align: top;\n",
       "    }\n",
       "\n",
       "    .dataframe thead th {\n",
       "        text-align: right;\n",
       "    }\n",
       "</style>\n",
       "<table border=\"1\" class=\"dataframe\">\n",
       "  <thead>\n",
       "    <tr style=\"text-align: right;\">\n",
       "      <th></th>\n",
       "      <th>OrderID</th>\n",
       "      <th>Product</th>\n",
       "      <th>DaysToDeliver</th>\n",
       "    </tr>\n",
       "  </thead>\n",
       "  <tbody>\n",
       "    <tr>\n",
       "      <th>0</th>\n",
       "      <td>1</td>\n",
       "      <td>Widget</td>\n",
       "      <td>7</td>\n",
       "    </tr>\n",
       "    <tr>\n",
       "      <th>1</th>\n",
       "      <td>2</td>\n",
       "      <td>Gizmo</td>\n",
       "      <td>3</td>\n",
       "    </tr>\n",
       "    <tr>\n",
       "      <th>2</th>\n",
       "      <td>3</td>\n",
       "      <td>Doodad</td>\n",
       "      <td>9</td>\n",
       "    </tr>\n",
       "  </tbody>\n",
       "</table>\n",
       "</div>"
      ],
      "text/plain": [
       "   OrderID Product  DaysToDeliver\n",
       "0        1  Widget              7\n",
       "1        2   Gizmo              3\n",
       "2        3  Doodad              9"
      ]
     },
     "execution_count": 12,
     "metadata": {},
     "output_type": "execute_result"
    }
   ],
   "source": [
    "df33_"
   ]
  },
  {
   "cell_type": "code",
   "execution_count": 13,
   "id": "ce265579",
   "metadata": {},
   "outputs": [
    {
     "data": {
      "text/html": [
       "<div>\n",
       "<style scoped>\n",
       "    .dataframe tbody tr th:only-of-type {\n",
       "        vertical-align: middle;\n",
       "    }\n",
       "\n",
       "    .dataframe tbody tr th {\n",
       "        vertical-align: top;\n",
       "    }\n",
       "\n",
       "    .dataframe thead th {\n",
       "        text-align: right;\n",
       "    }\n",
       "</style>\n",
       "<table border=\"1\" class=\"dataframe\">\n",
       "  <thead>\n",
       "    <tr style=\"text-align: right;\">\n",
       "      <th></th>\n",
       "      <th>PartID</th>\n",
       "      <th>Product</th>\n",
       "      <th>DaysToManufacture</th>\n",
       "    </tr>\n",
       "  </thead>\n",
       "  <tbody>\n",
       "    <tr>\n",
       "      <th>0</th>\n",
       "      <td>AA-111</td>\n",
       "      <td>Widget</td>\n",
       "      <td>7</td>\n",
       "    </tr>\n",
       "    <tr>\n",
       "      <th>1</th>\n",
       "      <td>BB-222</td>\n",
       "      <td>Widget</td>\n",
       "      <td>2</td>\n",
       "    </tr>\n",
       "    <tr>\n",
       "      <th>2</th>\n",
       "      <td>CC-333</td>\n",
       "      <td>Widget</td>\n",
       "      <td>3</td>\n",
       "    </tr>\n",
       "    <tr>\n",
       "      <th>3</th>\n",
       "      <td>DD-444</td>\n",
       "      <td>Widget</td>\n",
       "      <td>1</td>\n",
       "    </tr>\n",
       "    <tr>\n",
       "      <th>4</th>\n",
       "      <td>AA-111</td>\n",
       "      <td>Gizmo</td>\n",
       "      <td>7</td>\n",
       "    </tr>\n",
       "    <tr>\n",
       "      <th>5</th>\n",
       "      <td>BB-222</td>\n",
       "      <td>Gizmo</td>\n",
       "      <td>2</td>\n",
       "    </tr>\n",
       "    <tr>\n",
       "      <th>6</th>\n",
       "      <td>AA-111</td>\n",
       "      <td>Doodad</td>\n",
       "      <td>7</td>\n",
       "    </tr>\n",
       "    <tr>\n",
       "      <th>7</th>\n",
       "      <td>DD-444</td>\n",
       "      <td>Doodad</td>\n",
       "      <td>1</td>\n",
       "    </tr>\n",
       "  </tbody>\n",
       "</table>\n",
       "</div>"
      ],
      "text/plain": [
       "   PartID Product  DaysToManufacture\n",
       "0  AA-111  Widget                  7\n",
       "1  BB-222  Widget                  2\n",
       "2  CC-333  Widget                  3\n",
       "3  DD-444  Widget                  1\n",
       "4  AA-111   Gizmo                  7\n",
       "5  BB-222   Gizmo                  2\n",
       "6  AA-111  Doodad                  7\n",
       "7  DD-444  Doodad                  1"
      ]
     },
     "execution_count": 13,
     "metadata": {},
     "output_type": "execute_result"
    }
   ],
   "source": [
    "df33"
   ]
  },
  {
   "cell_type": "code",
   "execution_count": 27,
   "id": "a86fb10a",
   "metadata": {},
   "outputs": [],
   "source": [
    "df33grouped = df33.groupby(\"Product\")['DaysToManufacture'].sum()"
   ]
  },
  {
   "cell_type": "code",
   "execution_count": 25,
   "id": "fde0a633",
   "metadata": {},
   "outputs": [
    {
     "data": {
      "text/plain": [
       "0    Widget\n",
       "1     Gizmo\n",
       "2    Doodad\n",
       "dtype: object"
      ]
     },
     "execution_count": 25,
     "metadata": {},
     "output_type": "execute_result"
    }
   ],
   "source": [
    "df33_.apply(lambda x: x['Product'], axis = 1)"
   ]
  },
  {
   "cell_type": "code",
   "execution_count": 28,
   "id": "77a0efc0",
   "metadata": {},
   "outputs": [
    {
     "data": {
      "text/plain": [
       "8"
      ]
     },
     "execution_count": 28,
     "metadata": {},
     "output_type": "execute_result"
    }
   ],
   "source": [
    "df33grouped.get(key = 'Doodad')"
   ]
  },
  {
   "cell_type": "code",
   "execution_count": 34,
   "id": "a3fc7d68",
   "metadata": {},
   "outputs": [
    {
     "data": {
      "text/html": [
       "<div>\n",
       "<style scoped>\n",
       "    .dataframe tbody tr th:only-of-type {\n",
       "        vertical-align: middle;\n",
       "    }\n",
       "\n",
       "    .dataframe tbody tr th {\n",
       "        vertical-align: top;\n",
       "    }\n",
       "\n",
       "    .dataframe thead th {\n",
       "        text-align: right;\n",
       "    }\n",
       "</style>\n",
       "<table border=\"1\" class=\"dataframe\">\n",
       "  <thead>\n",
       "    <tr style=\"text-align: right;\">\n",
       "      <th></th>\n",
       "      <th>OrderID</th>\n",
       "      <th>Product</th>\n",
       "    </tr>\n",
       "  </thead>\n",
       "  <tbody>\n",
       "    <tr>\n",
       "      <th>0</th>\n",
       "      <td>1.0</td>\n",
       "      <td>Widget</td>\n",
       "    </tr>\n",
       "    <tr>\n",
       "      <th>1</th>\n",
       "      <td>2.0</td>\n",
       "      <td>Gizmo</td>\n",
       "    </tr>\n",
       "  </tbody>\n",
       "</table>\n",
       "</div>"
      ],
      "text/plain": [
       "   OrderID Product\n",
       "0      1.0  Widget\n",
       "1      2.0   Gizmo"
      ]
     },
     "execution_count": 34,
     "metadata": {},
     "output_type": "execute_result"
    }
   ],
   "source": [
    "df33_.apply(lambda x: x if df33grouped.get(key = x['Product']) > x[\"DaysToDeliver\"] else None, axis = 1)[[\"OrderID\", 'Product']].dropna()"
   ]
  },
  {
   "cell_type": "code",
   "execution_count": null,
   "id": "686b4eba",
   "metadata": {},
   "outputs": [],
   "source": []
  },
  {
   "cell_type": "markdown",
   "id": "b9d4d054",
   "metadata": {},
   "source": [
    "### Puzzle #34"
   ]
  },
  {
   "cell_type": "code",
   "execution_count": 39,
   "id": "bed30e1d",
   "metadata": {},
   "outputs": [],
   "source": [
    "d34 = {'Order ID': [1, 2, 3, 4],\n",
    "       'Customer ID': [1001, 1001, 2002, 3003],\n",
    "       'Amount': [25, 50, 65, 50]}\n",
    "df34 = pd.DataFrame(data=d34)"
   ]
  },
  {
   "cell_type": "code",
   "execution_count": 40,
   "id": "566cd92e",
   "metadata": {},
   "outputs": [
    {
     "data": {
      "text/html": [
       "<div>\n",
       "<style scoped>\n",
       "    .dataframe tbody tr th:only-of-type {\n",
       "        vertical-align: middle;\n",
       "    }\n",
       "\n",
       "    .dataframe tbody tr th {\n",
       "        vertical-align: top;\n",
       "    }\n",
       "\n",
       "    .dataframe thead th {\n",
       "        text-align: right;\n",
       "    }\n",
       "</style>\n",
       "<table border=\"1\" class=\"dataframe\">\n",
       "  <thead>\n",
       "    <tr style=\"text-align: right;\">\n",
       "      <th></th>\n",
       "      <th>Order ID</th>\n",
       "      <th>Customer ID</th>\n",
       "      <th>Amount</th>\n",
       "    </tr>\n",
       "  </thead>\n",
       "  <tbody>\n",
       "    <tr>\n",
       "      <th>0</th>\n",
       "      <td>1</td>\n",
       "      <td>1001</td>\n",
       "      <td>25</td>\n",
       "    </tr>\n",
       "    <tr>\n",
       "      <th>1</th>\n",
       "      <td>2</td>\n",
       "      <td>1001</td>\n",
       "      <td>50</td>\n",
       "    </tr>\n",
       "    <tr>\n",
       "      <th>2</th>\n",
       "      <td>3</td>\n",
       "      <td>2002</td>\n",
       "      <td>65</td>\n",
       "    </tr>\n",
       "    <tr>\n",
       "      <th>3</th>\n",
       "      <td>4</td>\n",
       "      <td>3003</td>\n",
       "      <td>50</td>\n",
       "    </tr>\n",
       "  </tbody>\n",
       "</table>\n",
       "</div>"
      ],
      "text/plain": [
       "   Order ID  Customer ID  Amount\n",
       "0         1         1001      25\n",
       "1         2         1001      50\n",
       "2         3         2002      65\n",
       "3         4         3003      50"
      ]
     },
     "execution_count": 40,
     "metadata": {},
     "output_type": "execute_result"
    }
   ],
   "source": [
    "df34.head()"
   ]
  },
  {
   "cell_type": "code",
   "execution_count": 73,
   "id": "7d6d54f1",
   "metadata": {},
   "outputs": [],
   "source": [
    "statement = (df34['Customer ID'] == 1001) & (df34['Amount'] == 50)"
   ]
  },
  {
   "cell_type": "code",
   "execution_count": 79,
   "id": "88afd436",
   "metadata": {},
   "outputs": [
    {
     "data": {
      "text/html": [
       "<div>\n",
       "<style scoped>\n",
       "    .dataframe tbody tr th:only-of-type {\n",
       "        vertical-align: middle;\n",
       "    }\n",
       "\n",
       "    .dataframe tbody tr th {\n",
       "        vertical-align: top;\n",
       "    }\n",
       "\n",
       "    .dataframe thead th {\n",
       "        text-align: right;\n",
       "    }\n",
       "</style>\n",
       "<table border=\"1\" class=\"dataframe\">\n",
       "  <thead>\n",
       "    <tr style=\"text-align: right;\">\n",
       "      <th></th>\n",
       "      <th>Order ID</th>\n",
       "      <th>Customer ID</th>\n",
       "      <th>Amount</th>\n",
       "    </tr>\n",
       "  </thead>\n",
       "  <tbody>\n",
       "    <tr>\n",
       "      <th>0</th>\n",
       "      <td>1</td>\n",
       "      <td>1001</td>\n",
       "      <td>25</td>\n",
       "    </tr>\n",
       "    <tr>\n",
       "      <th>2</th>\n",
       "      <td>3</td>\n",
       "      <td>2002</td>\n",
       "      <td>65</td>\n",
       "    </tr>\n",
       "    <tr>\n",
       "      <th>3</th>\n",
       "      <td>4</td>\n",
       "      <td>3003</td>\n",
       "      <td>50</td>\n",
       "    </tr>\n",
       "  </tbody>\n",
       "</table>\n",
       "</div>"
      ],
      "text/plain": [
       "   Order ID  Customer ID  Amount\n",
       "0         1         1001      25\n",
       "2         3         2002      65\n",
       "3         4         3003      50"
      ]
     },
     "execution_count": 79,
     "metadata": {},
     "output_type": "execute_result"
    }
   ],
   "source": [
    "df34[~statement]"
   ]
  },
  {
   "cell_type": "code",
   "execution_count": null,
   "id": "09609a14",
   "metadata": {},
   "outputs": [],
   "source": []
  },
  {
   "cell_type": "markdown",
   "id": "243bb8ab",
   "metadata": {},
   "source": [
    "### Puzzle #35"
   ]
  },
  {
   "cell_type": "code",
   "execution_count": 115,
   "id": "f936ea47",
   "metadata": {},
   "outputs": [],
   "source": [
    "d35 = {'Invoice ID': [1, 2, 3, 4, 5, 6, 7, 8, 9, 10],\n",
    "       'Sales Rep ID': [1001, 2002, 3003, 5005, 7007, 1001, 2002, 3003, 6006, 8008],\n",
    "       'Amount': ['$13,454', \"$3,434\", \"$54,645\", \"$234,345\", \"$776\", \"$4,564\", \"$34,534\", '$345', \"$6,543\", \"$67\"],\n",
    "       \"Sales Type\": ['International', \"International\", 'International', 'International', 'International', 'Domestic', 'Domestic', 'Domestic', 'Domestic', 'Domestic']}\n",
    "df35 = pd.DataFrame(data=d35)"
   ]
  },
  {
   "cell_type": "code",
   "execution_count": 116,
   "id": "703af798",
   "metadata": {},
   "outputs": [
    {
     "data": {
      "text/html": [
       "<div>\n",
       "<style scoped>\n",
       "    .dataframe tbody tr th:only-of-type {\n",
       "        vertical-align: middle;\n",
       "    }\n",
       "\n",
       "    .dataframe tbody tr th {\n",
       "        vertical-align: top;\n",
       "    }\n",
       "\n",
       "    .dataframe thead th {\n",
       "        text-align: right;\n",
       "    }\n",
       "</style>\n",
       "<table border=\"1\" class=\"dataframe\">\n",
       "  <thead>\n",
       "    <tr style=\"text-align: right;\">\n",
       "      <th></th>\n",
       "      <th>Invoice ID</th>\n",
       "      <th>Sales Rep ID</th>\n",
       "      <th>Amount</th>\n",
       "      <th>Sales Type</th>\n",
       "    </tr>\n",
       "  </thead>\n",
       "  <tbody>\n",
       "    <tr>\n",
       "      <th>0</th>\n",
       "      <td>1</td>\n",
       "      <td>1001</td>\n",
       "      <td>$13,454</td>\n",
       "      <td>International</td>\n",
       "    </tr>\n",
       "    <tr>\n",
       "      <th>1</th>\n",
       "      <td>2</td>\n",
       "      <td>2002</td>\n",
       "      <td>$3,434</td>\n",
       "      <td>International</td>\n",
       "    </tr>\n",
       "    <tr>\n",
       "      <th>2</th>\n",
       "      <td>3</td>\n",
       "      <td>3003</td>\n",
       "      <td>$54,645</td>\n",
       "      <td>International</td>\n",
       "    </tr>\n",
       "    <tr>\n",
       "      <th>3</th>\n",
       "      <td>4</td>\n",
       "      <td>5005</td>\n",
       "      <td>$234,345</td>\n",
       "      <td>International</td>\n",
       "    </tr>\n",
       "    <tr>\n",
       "      <th>4</th>\n",
       "      <td>5</td>\n",
       "      <td>7007</td>\n",
       "      <td>$776</td>\n",
       "      <td>International</td>\n",
       "    </tr>\n",
       "    <tr>\n",
       "      <th>5</th>\n",
       "      <td>6</td>\n",
       "      <td>1001</td>\n",
       "      <td>$4,564</td>\n",
       "      <td>Domestic</td>\n",
       "    </tr>\n",
       "    <tr>\n",
       "      <th>6</th>\n",
       "      <td>7</td>\n",
       "      <td>2002</td>\n",
       "      <td>$34,534</td>\n",
       "      <td>Domestic</td>\n",
       "    </tr>\n",
       "    <tr>\n",
       "      <th>7</th>\n",
       "      <td>8</td>\n",
       "      <td>3003</td>\n",
       "      <td>$345</td>\n",
       "      <td>Domestic</td>\n",
       "    </tr>\n",
       "    <tr>\n",
       "      <th>8</th>\n",
       "      <td>9</td>\n",
       "      <td>6006</td>\n",
       "      <td>$6,543</td>\n",
       "      <td>Domestic</td>\n",
       "    </tr>\n",
       "    <tr>\n",
       "      <th>9</th>\n",
       "      <td>10</td>\n",
       "      <td>8008</td>\n",
       "      <td>$67</td>\n",
       "      <td>Domestic</td>\n",
       "    </tr>\n",
       "  </tbody>\n",
       "</table>\n",
       "</div>"
      ],
      "text/plain": [
       "   Invoice ID  Sales Rep ID    Amount     Sales Type\n",
       "0           1          1001   $13,454  International\n",
       "1           2          2002    $3,434  International\n",
       "2           3          3003   $54,645  International\n",
       "3           4          5005  $234,345  International\n",
       "4           5          7007      $776  International\n",
       "5           6          1001    $4,564       Domestic\n",
       "6           7          2002   $34,534       Domestic\n",
       "7           8          3003      $345       Domestic\n",
       "8           9          6006    $6,543       Domestic\n",
       "9          10          8008       $67       Domestic"
      ]
     },
     "execution_count": 116,
     "metadata": {},
     "output_type": "execute_result"
    }
   ],
   "source": [
    "df35"
   ]
  },
  {
   "cell_type": "code",
   "execution_count": 124,
   "id": "c3a0f758",
   "metadata": {},
   "outputs": [],
   "source": [
    "counts = df35.groupby(\"Sales Rep ID\").count()[['Sales Type']]"
   ]
  },
  {
   "cell_type": "code",
   "execution_count": 125,
   "id": "2818721e",
   "metadata": {},
   "outputs": [
    {
     "data": {
      "text/html": [
       "<div>\n",
       "<style scoped>\n",
       "    .dataframe tbody tr th:only-of-type {\n",
       "        vertical-align: middle;\n",
       "    }\n",
       "\n",
       "    .dataframe tbody tr th {\n",
       "        vertical-align: top;\n",
       "    }\n",
       "\n",
       "    .dataframe thead th {\n",
       "        text-align: right;\n",
       "    }\n",
       "</style>\n",
       "<table border=\"1\" class=\"dataframe\">\n",
       "  <thead>\n",
       "    <tr style=\"text-align: right;\">\n",
       "      <th></th>\n",
       "      <th>Sales Type</th>\n",
       "    </tr>\n",
       "    <tr>\n",
       "      <th>Sales Rep ID</th>\n",
       "      <th></th>\n",
       "    </tr>\n",
       "  </thead>\n",
       "  <tbody>\n",
       "    <tr>\n",
       "      <th>1001</th>\n",
       "      <td>2</td>\n",
       "    </tr>\n",
       "    <tr>\n",
       "      <th>2002</th>\n",
       "      <td>2</td>\n",
       "    </tr>\n",
       "    <tr>\n",
       "      <th>3003</th>\n",
       "      <td>2</td>\n",
       "    </tr>\n",
       "    <tr>\n",
       "      <th>5005</th>\n",
       "      <td>1</td>\n",
       "    </tr>\n",
       "    <tr>\n",
       "      <th>6006</th>\n",
       "      <td>1</td>\n",
       "    </tr>\n",
       "    <tr>\n",
       "      <th>7007</th>\n",
       "      <td>1</td>\n",
       "    </tr>\n",
       "    <tr>\n",
       "      <th>8008</th>\n",
       "      <td>1</td>\n",
       "    </tr>\n",
       "  </tbody>\n",
       "</table>\n",
       "</div>"
      ],
      "text/plain": [
       "              Sales Type\n",
       "Sales Rep ID            \n",
       "1001                   2\n",
       "2002                   2\n",
       "3003                   2\n",
       "5005                   1\n",
       "6006                   1\n",
       "7007                   1\n",
       "8008                   1"
      ]
     },
     "execution_count": 125,
     "metadata": {},
     "output_type": "execute_result"
    }
   ],
   "source": [
    "counts"
   ]
  },
  {
   "cell_type": "code",
   "execution_count": 129,
   "id": "4c087faf",
   "metadata": {},
   "outputs": [
    {
     "data": {
      "text/plain": [
       "Int64Index([1001, 2002, 3003], dtype='int64', name='Sales Rep ID')"
      ]
     },
     "execution_count": 129,
     "metadata": {},
     "output_type": "execute_result"
    }
   ],
   "source": [
    "counts[counts['Sales Type'] == 2].index"
   ]
  },
  {
   "cell_type": "code",
   "execution_count": 134,
   "id": "621c2477",
   "metadata": {},
   "outputs": [
    {
     "data": {
      "text/html": [
       "<div>\n",
       "<style scoped>\n",
       "    .dataframe tbody tr th:only-of-type {\n",
       "        vertical-align: middle;\n",
       "    }\n",
       "\n",
       "    .dataframe tbody tr th {\n",
       "        vertical-align: top;\n",
       "    }\n",
       "\n",
       "    .dataframe thead th {\n",
       "        text-align: right;\n",
       "    }\n",
       "</style>\n",
       "<table border=\"1\" class=\"dataframe\">\n",
       "  <thead>\n",
       "    <tr style=\"text-align: right;\">\n",
       "      <th></th>\n",
       "      <th>Invoice ID</th>\n",
       "      <th>Sales Rep ID</th>\n",
       "      <th>Amount</th>\n",
       "      <th>Sales Type</th>\n",
       "    </tr>\n",
       "  </thead>\n",
       "  <tbody>\n",
       "    <tr>\n",
       "      <th>3</th>\n",
       "      <td>4</td>\n",
       "      <td>5005</td>\n",
       "      <td>$234,345</td>\n",
       "      <td>International</td>\n",
       "    </tr>\n",
       "    <tr>\n",
       "      <th>4</th>\n",
       "      <td>5</td>\n",
       "      <td>7007</td>\n",
       "      <td>$776</td>\n",
       "      <td>International</td>\n",
       "    </tr>\n",
       "    <tr>\n",
       "      <th>8</th>\n",
       "      <td>9</td>\n",
       "      <td>6006</td>\n",
       "      <td>$6,543</td>\n",
       "      <td>Domestic</td>\n",
       "    </tr>\n",
       "    <tr>\n",
       "      <th>9</th>\n",
       "      <td>10</td>\n",
       "      <td>8008</td>\n",
       "      <td>$67</td>\n",
       "      <td>Domestic</td>\n",
       "    </tr>\n",
       "  </tbody>\n",
       "</table>\n",
       "</div>"
      ],
      "text/plain": [
       "   Invoice ID  Sales Rep ID    Amount     Sales Type\n",
       "3           4          5005  $234,345  International\n",
       "4           5          7007      $776  International\n",
       "8           9          6006    $6,543       Domestic\n",
       "9          10          8008       $67       Domestic"
      ]
     },
     "execution_count": 134,
     "metadata": {},
     "output_type": "execute_result"
    }
   ],
   "source": [
    "df35[~df35['Sales Rep ID'].isin(counts[counts['Sales Type'] == 2].index)]"
   ]
  },
  {
   "cell_type": "code",
   "execution_count": null,
   "id": "162ef5db",
   "metadata": {},
   "outputs": [],
   "source": []
  },
  {
   "cell_type": "markdown",
   "id": "c79f2f15",
   "metadata": {},
   "source": [
    "### Puzzle #36"
   ]
  },
  {
   "cell_type": "code",
   "execution_count": 179,
   "id": "2d3cd170",
   "metadata": {},
   "outputs": [],
   "source": [
    "d36 = {'Route ID': [1, 1, 2, 2, 3, 3, 4, 4],\n",
    "       'Departure City': [\"Austin\", \"Dallas\", \"Dallas\", \"Memphis\", \"Memphis\", \"Des Moines\", \"Dallas\", \"Des Moines\"],\n",
    "       'Arrival City': [\"Dallas\", \"Austin\", \"Memphis\", \"Dallas\", \"Des Moines\", \"Memphis\", \"Des Moines\", \"Dallas\"],\n",
    "       \"Cost\": [\"$100\", \"$100\", \"$200\", \"$200\", \"$300\", \"$300\", \"$400\", \"$400\"]}\n",
    "df36 = pd.DataFrame(data=d36)"
   ]
  },
  {
   "cell_type": "code",
   "execution_count": 180,
   "id": "b6e618c6",
   "metadata": {},
   "outputs": [
    {
     "data": {
      "text/html": [
       "<div>\n",
       "<style scoped>\n",
       "    .dataframe tbody tr th:only-of-type {\n",
       "        vertical-align: middle;\n",
       "    }\n",
       "\n",
       "    .dataframe tbody tr th {\n",
       "        vertical-align: top;\n",
       "    }\n",
       "\n",
       "    .dataframe thead th {\n",
       "        text-align: right;\n",
       "    }\n",
       "</style>\n",
       "<table border=\"1\" class=\"dataframe\">\n",
       "  <thead>\n",
       "    <tr style=\"text-align: right;\">\n",
       "      <th></th>\n",
       "      <th>Route ID</th>\n",
       "      <th>Departure City</th>\n",
       "      <th>Arrival City</th>\n",
       "      <th>Cost</th>\n",
       "    </tr>\n",
       "  </thead>\n",
       "  <tbody>\n",
       "    <tr>\n",
       "      <th>0</th>\n",
       "      <td>1</td>\n",
       "      <td>Austin</td>\n",
       "      <td>Dallas</td>\n",
       "      <td>$100</td>\n",
       "    </tr>\n",
       "    <tr>\n",
       "      <th>1</th>\n",
       "      <td>1</td>\n",
       "      <td>Dallas</td>\n",
       "      <td>Austin</td>\n",
       "      <td>$100</td>\n",
       "    </tr>\n",
       "    <tr>\n",
       "      <th>2</th>\n",
       "      <td>2</td>\n",
       "      <td>Dallas</td>\n",
       "      <td>Memphis</td>\n",
       "      <td>$200</td>\n",
       "    </tr>\n",
       "    <tr>\n",
       "      <th>3</th>\n",
       "      <td>2</td>\n",
       "      <td>Memphis</td>\n",
       "      <td>Dallas</td>\n",
       "      <td>$200</td>\n",
       "    </tr>\n",
       "    <tr>\n",
       "      <th>4</th>\n",
       "      <td>3</td>\n",
       "      <td>Memphis</td>\n",
       "      <td>Des Moines</td>\n",
       "      <td>$300</td>\n",
       "    </tr>\n",
       "    <tr>\n",
       "      <th>5</th>\n",
       "      <td>3</td>\n",
       "      <td>Des Moines</td>\n",
       "      <td>Memphis</td>\n",
       "      <td>$300</td>\n",
       "    </tr>\n",
       "    <tr>\n",
       "      <th>6</th>\n",
       "      <td>4</td>\n",
       "      <td>Dallas</td>\n",
       "      <td>Des Moines</td>\n",
       "      <td>$400</td>\n",
       "    </tr>\n",
       "    <tr>\n",
       "      <th>7</th>\n",
       "      <td>4</td>\n",
       "      <td>Des Moines</td>\n",
       "      <td>Dallas</td>\n",
       "      <td>$400</td>\n",
       "    </tr>\n",
       "  </tbody>\n",
       "</table>\n",
       "</div>"
      ],
      "text/plain": [
       "   Route ID Departure City Arrival City  Cost\n",
       "0         1         Austin       Dallas  $100\n",
       "1         1         Dallas       Austin  $100\n",
       "2         2         Dallas      Memphis  $200\n",
       "3         2        Memphis       Dallas  $200\n",
       "4         3        Memphis   Des Moines  $300\n",
       "5         3     Des Moines      Memphis  $300\n",
       "6         4         Dallas   Des Moines  $400\n",
       "7         4     Des Moines       Dallas  $400"
      ]
     },
     "execution_count": 180,
     "metadata": {},
     "output_type": "execute_result"
    }
   ],
   "source": [
    "df36"
   ]
  },
  {
   "cell_type": "code",
   "execution_count": 203,
   "id": "e23e2ba1",
   "metadata": {},
   "outputs": [],
   "source": [
    "def findPath(df):\n",
    "    global chain\n",
    "    chain = []\n",
    "    firstRow = findStart(df)\n",
    "    rowsChain = []\n",
    "    rowsChain = findEnd(firstRow, df, rowsChain)\n",
    "    return reportData(chain)"
   ]
  },
  {
   "cell_type": "code",
   "execution_count": 184,
   "id": "622c2fb2",
   "metadata": {},
   "outputs": [],
   "source": [
    "def findStart(df):\n",
    "    for index, row in df36.iterrows():\n",
    "        if row['Departure City'] == \"Austin\":\n",
    "            return row"
   ]
  },
  {
   "cell_type": "code",
   "execution_count": 198,
   "id": "d1fb3fe8",
   "metadata": {},
   "outputs": [],
   "source": [
    "def findEnd(firstRow, df, rowsChain):\n",
    "    global chain\n",
    "    #print(firstRow[\"Route ID\"])\n",
    "    if firstRow[\"Route ID\"] in [x['Route ID'] for x in rowsChain]:\n",
    "        return None\n",
    "    rowsChain.append(firstRow)\n",
    "\n",
    "    town = firstRow['Arrival City']\n",
    "    if town == \"Des Moines\":\n",
    "        #print([x['Arrival City'] for x in rowsChain])\n",
    "        chain.append(rowsChain)\n",
    "    \n",
    "    searchDF = df[df['Departure City'] == town]\n",
    "    \n",
    "    for index, row in df.iterrows():\n",
    "        findEnd(row, df, rowsChain)"
   ]
  },
  {
   "cell_type": "code",
   "execution_count": 200,
   "id": "07e96eb6",
   "metadata": {},
   "outputs": [],
   "source": [
    "data = findPath(df36)"
   ]
  },
  {
   "cell_type": "code",
   "execution_count": 212,
   "id": "032d808a",
   "metadata": {},
   "outputs": [
    {
     "data": {
      "text/plain": [
       "[['$100', '$200', '$300', '$400'], ['$100', '$200', '$300', '$400']]"
      ]
     },
     "execution_count": 212,
     "metadata": {},
     "output_type": "execute_result"
    }
   ],
   "source": [
    "[[x[\"Cost\"] for x in y] for y in data]"
   ]
  },
  {
   "cell_type": "code",
   "execution_count": 215,
   "id": "6b38cfe9",
   "metadata": {},
   "outputs": [],
   "source": [
    "def reportData(data):\n",
    "    d = {'Route Path' : [[x['Arrival City'] for x in y] for y in data],\n",
    "         'Total Cost' : [[x[\"Cost\"] for x in y] for y in data]}\n",
    "    print(d)"
   ]
  },
  {
   "cell_type": "code",
   "execution_count": 216,
   "id": "640ce9bb",
   "metadata": {},
   "outputs": [
    {
     "name": "stdout",
     "output_type": "stream",
     "text": [
      "{'Route Path': [['Dallas', 'Memphis', 'Des Moines', 'Des Moines'], ['Dallas', 'Memphis', 'Des Moines', 'Des Moines']], 'Total Cost': [['$100', '$200', '$300', '$400'], ['$100', '$200', '$300', '$400']]}\n"
     ]
    }
   ],
   "source": [
    "findPath(df36)"
   ]
  },
  {
   "cell_type": "code",
   "execution_count": null,
   "id": "70098893",
   "metadata": {},
   "outputs": [],
   "source": []
  },
  {
   "cell_type": "code",
   "execution_count": null,
   "id": "cea58aa8",
   "metadata": {},
   "outputs": [],
   "source": []
  },
  {
   "cell_type": "code",
   "execution_count": null,
   "id": "66c47195",
   "metadata": {},
   "outputs": [],
   "source": []
  }
 ],
 "metadata": {
  "kernelspec": {
   "display_name": "Python 3",
   "language": "python",
   "name": "python3"
  },
  "language_info": {
   "codemirror_mode": {
    "name": "ipython",
    "version": 3
   },
   "file_extension": ".py",
   "mimetype": "text/x-python",
   "name": "python",
   "nbconvert_exporter": "python",
   "pygments_lexer": "ipython3",
   "version": "3.8.8"
  }
 },
 "nbformat": 4,
 "nbformat_minor": 5
}
