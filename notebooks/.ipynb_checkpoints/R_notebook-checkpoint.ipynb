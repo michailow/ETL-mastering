{
 "cells": [
  {
   "cell_type": "markdown",
   "id": "f365a376",
   "metadata": {},
   "source": [
    "## Advanced SQL Puzzles with Pandas"
   ]
  },
  {
   "cell_type": "markdown",
   "id": "64394cfa",
   "metadata": {},
   "source": [
    "Solving and enjoing SQL puzzles wtih Pandas! <br>\n",
    "As author said:\n",
    ">Working through these puzzles will give you an understanding of the SQL language and what types of\n",
    "problems the SQL language best solves.\n",
    "\n",
    "First time I am using R language\n",
    "\n",
    "__[More about puzzles and author](https://advancedsqlpuzzles.com/)__"
   ]
  },
  {
   "cell_type": "markdown",
   "id": "02ced77c",
   "metadata": {},
   "source": [
    "### Setup"
   ]
  },
  {
   "cell_type": "raw",
   "id": "966638d5",
   "metadata": {},
   "source": [
    "Install R.\n",
    "Use the R terminal to install R packages:\n",
    "install.packages(\"IRkernel\")\n",
    "IRkernel::installspec()\n",
    "IRkernel::installspec(user = FALSE)"
   ]
  },
  {
   "cell_type": "code",
   "execution_count": 1,
   "id": "64a3af28",
   "metadata": {},
   "outputs": [
    {
     "data": {
      "text/html": [
       "<dl>\n",
       "\t<dt>$platform</dt>\n",
       "\t\t<dd>'x86_64-w64-mingw32'</dd>\n",
       "\t<dt>$arch</dt>\n",
       "\t\t<dd>'x86_64'</dd>\n",
       "\t<dt>$os</dt>\n",
       "\t\t<dd>'mingw32'</dd>\n",
       "\t<dt>$crt</dt>\n",
       "\t\t<dd>'ucrt'</dd>\n",
       "\t<dt>$system</dt>\n",
       "\t\t<dd>'x86_64, mingw32'</dd>\n",
       "\t<dt>$status</dt>\n",
       "\t\t<dd>''</dd>\n",
       "\t<dt>$major</dt>\n",
       "\t\t<dd>'4'</dd>\n",
       "\t<dt>$minor</dt>\n",
       "\t\t<dd>'3.0'</dd>\n",
       "\t<dt>$year</dt>\n",
       "\t\t<dd>'2023'</dd>\n",
       "\t<dt>$month</dt>\n",
       "\t\t<dd>'04'</dd>\n",
       "\t<dt>$day</dt>\n",
       "\t\t<dd>'21'</dd>\n",
       "\t<dt>$`svn rev`</dt>\n",
       "\t\t<dd>'84292'</dd>\n",
       "\t<dt>$language</dt>\n",
       "\t\t<dd>'R'</dd>\n",
       "\t<dt>$version.string</dt>\n",
       "\t\t<dd>'R version 4.3.0 (2023-04-21 ucrt)'</dd>\n",
       "\t<dt>$nickname</dt>\n",
       "\t\t<dd>'Already Tomorrow'</dd>\n",
       "</dl>\n"
      ],
      "text/latex": [
       "\\begin{description}\n",
       "\\item[\\$platform] 'x86\\_64-w64-mingw32'\n",
       "\\item[\\$arch] 'x86\\_64'\n",
       "\\item[\\$os] 'mingw32'\n",
       "\\item[\\$crt] 'ucrt'\n",
       "\\item[\\$system] 'x86\\_64, mingw32'\n",
       "\\item[\\$status] ''\n",
       "\\item[\\$major] '4'\n",
       "\\item[\\$minor] '3.0'\n",
       "\\item[\\$year] '2023'\n",
       "\\item[\\$month] '04'\n",
       "\\item[\\$day] '21'\n",
       "\\item[\\$`svn rev`] '84292'\n",
       "\\item[\\$language] 'R'\n",
       "\\item[\\$version.string] 'R version 4.3.0 (2023-04-21 ucrt)'\n",
       "\\item[\\$nickname] 'Already Tomorrow'\n",
       "\\end{description}\n"
      ],
      "text/markdown": [
       "$platform\n",
       ":   'x86_64-w64-mingw32'\n",
       "$arch\n",
       ":   'x86_64'\n",
       "$os\n",
       ":   'mingw32'\n",
       "$crt\n",
       ":   'ucrt'\n",
       "$system\n",
       ":   'x86_64, mingw32'\n",
       "$status\n",
       ":   ''\n",
       "$major\n",
       ":   '4'\n",
       "$minor\n",
       ":   '3.0'\n",
       "$year\n",
       ":   '2023'\n",
       "$month\n",
       ":   '04'\n",
       "$day\n",
       ":   '21'\n",
       "$`svn rev`\n",
       ":   '84292'\n",
       "$language\n",
       ":   'R'\n",
       "$version.string\n",
       ":   'R version 4.3.0 (2023-04-21 ucrt)'\n",
       "$nickname\n",
       ":   'Already Tomorrow'\n",
       "\n",
       "\n"
      ],
      "text/plain": [
       "$platform\n",
       "[1] \"x86_64-w64-mingw32\"\n",
       "\n",
       "$arch\n",
       "[1] \"x86_64\"\n",
       "\n",
       "$os\n",
       "[1] \"mingw32\"\n",
       "\n",
       "$crt\n",
       "[1] \"ucrt\"\n",
       "\n",
       "$system\n",
       "[1] \"x86_64, mingw32\"\n",
       "\n",
       "$status\n",
       "[1] \"\"\n",
       "\n",
       "$major\n",
       "[1] \"4\"\n",
       "\n",
       "$minor\n",
       "[1] \"3.0\"\n",
       "\n",
       "$year\n",
       "[1] \"2023\"\n",
       "\n",
       "$month\n",
       "[1] \"04\"\n",
       "\n",
       "$day\n",
       "[1] \"21\"\n",
       "\n",
       "$`svn rev`\n",
       "[1] \"84292\"\n",
       "\n",
       "$language\n",
       "[1] \"R\"\n",
       "\n",
       "$version.string\n",
       "[1] \"R version 4.3.0 (2023-04-21 ucrt)\"\n",
       "\n",
       "$nickname\n",
       "[1] \"Already Tomorrow\"\n"
      ]
     },
     "metadata": {},
     "output_type": "display_data"
    }
   ],
   "source": [
    "R.Version()"
   ]
  },
  {
   "cell_type": "code",
   "execution_count": 2,
   "id": "3c0465ff",
   "metadata": {},
   "outputs": [
    {
     "name": "stderr",
     "output_type": "stream",
     "text": [
      "Installing package into 'C:/Users/the_r/AppData/Local/R/win-library/4.3'\n",
      "(as 'lib' is unspecified)\n",
      "\n",
      "also installing the dependencies 'pkgconfig', 'withr', 'generics', 'magrittr', 'R6', 'tibble', 'tidyselect'\n",
      "\n",
      "\n"
     ]
    },
    {
     "name": "stdout",
     "output_type": "stream",
     "text": [
      "package 'pkgconfig' successfully unpacked and MD5 sums checked\n",
      "package 'withr' successfully unpacked and MD5 sums checked\n",
      "package 'generics' successfully unpacked and MD5 sums checked\n",
      "package 'magrittr' successfully unpacked and MD5 sums checked\n",
      "package 'R6' successfully unpacked and MD5 sums checked\n",
      "package 'tibble' successfully unpacked and MD5 sums checked\n",
      "package 'tidyselect' successfully unpacked and MD5 sums checked\n",
      "package 'dplyr' successfully unpacked and MD5 sums checked\n",
      "\n",
      "The downloaded binary packages are in\n",
      "\tC:\\Users\\the_r\\AppData\\Local\\Temp\\RtmpMDSVwF\\downloaded_packages\n"
     ]
    }
   ],
   "source": [
    "install.packages(\"dplyr\")"
   ]
  },
  {
   "cell_type": "code",
   "execution_count": 3,
   "id": "c510b537",
   "metadata": {},
   "outputs": [
    {
     "name": "stderr",
     "output_type": "stream",
     "text": [
      "\n",
      "Attaching package: 'dplyr'\n",
      "\n",
      "\n",
      "The following objects are masked from 'package:stats':\n",
      "\n",
      "    filter, lag\n",
      "\n",
      "\n",
      "The following objects are masked from 'package:base':\n",
      "\n",
      "    intersect, setdiff, setequal, union\n",
      "\n",
      "\n"
     ]
    }
   ],
   "source": [
    "library(dplyr)"
   ]
  },
  {
   "cell_type": "markdown",
   "id": "ec74a1fc",
   "metadata": {},
   "source": [
    "### Puzzle 1"
   ]
  },
  {
   "cell_type": "code",
   "execution_count": 4,
   "id": "7ba49aa6",
   "metadata": {},
   "outputs": [],
   "source": [
    "item <- c(\"Sugar\", \"Bread\", \"Juice\", \"Soda\", \"Flour\")\n",
    "df1 <- data.frame(item)"
   ]
  },
  {
   "cell_type": "code",
   "execution_count": 5,
   "id": "cbcbb615",
   "metadata": {},
   "outputs": [
    {
     "name": "stdout",
     "output_type": "stream",
     "text": [
      "   item\n",
      "1 Sugar\n",
      "2 Bread\n",
      "3 Juice\n",
      "4  Soda\n",
      "5 Flour\n"
     ]
    }
   ],
   "source": [
    "print (df1)"
   ]
  },
  {
   "cell_type": "code",
   "execution_count": 6,
   "id": "529c888e",
   "metadata": {},
   "outputs": [],
   "source": [
    "item <- c('Sugar', 'Bread', 'Butter', 'Cheese', 'Fruit')\n",
    "df1_ <- data.frame(item)"
   ]
  },
  {
   "cell_type": "code",
   "execution_count": 7,
   "id": "48f4d703",
   "metadata": {},
   "outputs": [
    {
     "name": "stdout",
     "output_type": "stream",
     "text": [
      "    item\n",
      "1  Sugar\n",
      "2  Bread\n",
      "3 Butter\n",
      "4 Cheese\n",
      "5  Fruit\n"
     ]
    }
   ],
   "source": [
    "print (df1_)"
   ]
  },
  {
   "cell_type": "code",
   "execution_count": 10,
   "id": "d318a9f4",
   "metadata": {},
   "outputs": [],
   "source": [
    "full_join <- full_join(df1,df1_,by=\"item\")"
   ]
  },
  {
   "cell_type": "code",
   "execution_count": 11,
   "id": "b6179d57",
   "metadata": {},
   "outputs": [
    {
     "name": "stdout",
     "output_type": "stream",
     "text": [
      "    item\n",
      "1  Sugar\n",
      "2  Bread\n",
      "3  Juice\n",
      "4   Soda\n",
      "5  Flour\n",
      "6 Butter\n",
      "7 Cheese\n",
      "8  Fruit\n"
     ]
    }
   ],
   "source": [
    "print (full_join)"
   ]
  },
  {
   "cell_type": "code",
   "execution_count": null,
   "id": "e9110d2e",
   "metadata": {},
   "outputs": [],
   "source": []
  }
 ],
 "metadata": {
  "kernelspec": {
   "display_name": "R",
   "language": "R",
   "name": "ir"
  },
  "language_info": {
   "codemirror_mode": "r",
   "file_extension": ".r",
   "mimetype": "text/x-r-source",
   "name": "R",
   "pygments_lexer": "r",
   "version": "4.3.0"
  }
 },
 "nbformat": 4,
 "nbformat_minor": 5
}
